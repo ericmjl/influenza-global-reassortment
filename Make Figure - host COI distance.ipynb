{
 "cells": [
  {
   "cell_type": "code",
   "execution_count": 1,
   "metadata": {
    "collapsed": false
   },
   "outputs": [],
   "source": [
    "import networkx as nx\n",
    "import custom_funcs as cf\n",
    "import pandas as pd\n",
    "import matplotlib.pyplot as plt\n",
    "from Levenshtein import distance\n",
    "from collections import defaultdict\n",
    "\n",
    "%load_ext autoreload\n",
    "%autoreload 2\n",
    "\n",
    "%matplotlib inline"
   ]
  },
  {
   "cell_type": "code",
   "execution_count": 2,
   "metadata": {
    "collapsed": false
   },
   "outputs": [],
   "source": [
    "G = nx.read_gpickle('20150902_all_ird Final Graph.pkl')\n",
    "G = cf.clean_host_species_names(G)\n",
    "G = cf.impute_reassortant_status(G)\n",
    "G = cf.impute_weights(G)"
   ]
  },
  {
   "cell_type": "code",
   "execution_count": 3,
   "metadata": {
    "collapsed": false
   },
   "outputs": [
    {
     "data": {
      "text/plain": [
       "('A/chicken/Liaoning/0517/2013',\n",
       " {'collection_date': Timestamp('2013-05-17 00:00:00'),\n",
       "  'country': 'China',\n",
       "  'host_species': 'Chicken',\n",
       "  'reassortant': False,\n",
       "  'state': 'Liaoning',\n",
       "  'subtype': 'H9N2'})"
      ]
     },
     "execution_count": 3,
     "metadata": {},
     "output_type": "execute_result"
    }
   ],
   "source": [
    "G.nodes(data=True)[1286]"
   ]
  },
  {
   "cell_type": "code",
   "execution_count": 7,
   "metadata": {
    "collapsed": false
   },
   "outputs": [],
   "source": [
    "# Get all of the host species\n",
    "host_species = list(set([d['host_species'] for n, d in G.nodes(data=True)]))\n",
    "pd.Series(host_species).to_csv('host_species.csv')"
   ]
  },
  {
   "cell_type": "code",
   "execution_count": 42,
   "metadata": {
    "collapsed": false
   },
   "outputs": [],
   "source": [
    "cois = pd.read_csv('hosts_with_classification-NH_EM_mods.csv', index_col='Index').dropna(subset=['Sequence'])\n",
    "cois_species = dict(zip(cois['Species'], cois['Sequence']))"
   ]
  },
  {
   "cell_type": "code",
   "execution_count": 43,
   "metadata": {
    "collapsed": false
   },
   "outputs": [],
   "source": [
    "for n, d in G.nodes(data=True):\n",
    "    if d['host_species'] in cois_species.keys():\n",
    "        G.node[n]['coi'] = cois_species[d['host_species']].replace('\\r', '')\n",
    "    else:\n",
    "        G.node[n]['coi'] = None"
   ]
  },
  {
   "cell_type": "code",
   "execution_count": 54,
   "metadata": {
    "collapsed": false
   },
   "outputs": [],
   "source": [
    "# What is the distribution of COI distances across each edge?\n",
    "ds_clonal = [] #distances under clonal descent\n",
    "ws_clonal = [] #matched weights under clonal\n",
    "ds_reassortant = [] #distances under reassortant descent\n",
    "ws_reassortant = [] #matched weights under reassortant\n",
    "\n",
    "for sc, sk, d in G.edges(data=True):\n",
    "    if G.node[sc]['coi'] != None and G.node[sk]['coi'] != None:\n",
    "        dist = distance(G.node[sc]['coi'], G.node[sk]['coi'])\n",
    "        dist = dist\n",
    "        \n",
    "        if d['edge_type'] == 'reassortant':\n",
    "            ds_reassortant.append(dist)\n",
    "            ws_reassortant.append(d['weight'])\n",
    "        else:\n",
    "            ds_clonal.append(dist)\n",
    "            ws_clonal.append(d['weight'])"
   ]
  },
  {
   "cell_type": "code",
   "execution_count": 58,
   "metadata": {
    "collapsed": false
   },
   "outputs": [],
   "source": [
    "weights_clonal = defaultdict(float)\n",
    "for d, w in zip(ds_clonal, ws_clonal):\n",
    "    weights_clonal[d] += w"
   ]
  },
  {
   "cell_type": "code",
   "execution_count": 59,
   "metadata": {
    "collapsed": false
   },
   "outputs": [
    {
     "data": {
      "text/plain": [
       "defaultdict(float,\n",
       "            {0: 13066.366666666598,\n",
       "             8: 1.0,\n",
       "             24: 3.0,\n",
       "             32: 2.0,\n",
       "             35: 3.0,\n",
       "             39: 2.0,\n",
       "             43: 76.0,\n",
       "             44: 4.0,\n",
       "             46: 16.5,\n",
       "             49: 217.50000000000006,\n",
       "             53: 5.0,\n",
       "             57: 30.000000000000007,\n",
       "             58: 4.0,\n",
       "             59: 26.0,\n",
       "             61: 10.0,\n",
       "             62: 36.300000000000004,\n",
       "             63: 1.0,\n",
       "             64: 3.0,\n",
       "             65: 4.0,\n",
       "             66: 12.0,\n",
       "             67: 34.0,\n",
       "             68: 2.0,\n",
       "             69: 113.00000000000003,\n",
       "             72: 3.0,\n",
       "             73: 1.0,\n",
       "             76: 88.0,\n",
       "             78: 1.0,\n",
       "             79: 1.0,\n",
       "             80: 3.0,\n",
       "             81: 4.0,\n",
       "             82: 3.0,\n",
       "             83: 7.0,\n",
       "             85: 2.0,\n",
       "             86: 2.0,\n",
       "             89: 142.0,\n",
       "             90: 1.0,\n",
       "             91: 6.0,\n",
       "             93: 1.0,\n",
       "             94: 9.0,\n",
       "             95: 6.0,\n",
       "             97: 1.0,\n",
       "             102: 6.0,\n",
       "             104: 1.0,\n",
       "             114: 1.0,\n",
       "             117: 1.0,\n",
       "             118: 2.0,\n",
       "             122: 1.0,\n",
       "             123: 1.0,\n",
       "             126: 2.0,\n",
       "             131: 102.5,\n",
       "             132: 1.0,\n",
       "             133: 10.0,\n",
       "             134: 2.0,\n",
       "             135: 7.0,\n",
       "             138: 1.0,\n",
       "             141: 1.0,\n",
       "             142: 5.0,\n",
       "             143: 1.0,\n",
       "             144: 1.0,\n",
       "             146: 1.5,\n",
       "             147: 2.0,\n",
       "             148: 66.0,\n",
       "             149: 4.0,\n",
       "             150: 1.0,\n",
       "             151: 8.0,\n",
       "             153: 3.0,\n",
       "             157: 30.5,\n",
       "             158: 10.0,\n",
       "             160: 12.0,\n",
       "             162: 1.0,\n",
       "             164: 6.0,\n",
       "             167: 3.0,\n",
       "             170: 1.0,\n",
       "             171: 2.0,\n",
       "             172: 3.0,\n",
       "             174: 3.0,\n",
       "             175: 1.0,\n",
       "             176: 1.0,\n",
       "             178: 2.0,\n",
       "             182: 1.0,\n",
       "             183: 1.0,\n",
       "             185: 3.0,\n",
       "             186: 7.0,\n",
       "             191: 4.0,\n",
       "             204: 6.0,\n",
       "             208: 1.0,\n",
       "             222: 1.0,\n",
       "             223: 1.0,\n",
       "             236: 1.0,\n",
       "             241: 14.0,\n",
       "             243: 1.0,\n",
       "             250: 1.0,\n",
       "             252: 1.0,\n",
       "             260: 2.0,\n",
       "             262: 0.5,\n",
       "             273: 2.5,\n",
       "             276: 2.0,\n",
       "             286: 1.0,\n",
       "             287: 2.0,\n",
       "             291: 2.0,\n",
       "             293: 1.0,\n",
       "             296: 1.0,\n",
       "             323: 1.0,\n",
       "             328: 12.0,\n",
       "             332: 1.0,\n",
       "             338: 2.0,\n",
       "             340: 4.0,\n",
       "             342: 1.0,\n",
       "             346: 1.0,\n",
       "             348: 1.0,\n",
       "             349: 1.0,\n",
       "             360: 1.0,\n",
       "             364: 4.0,\n",
       "             371: 9.0,\n",
       "             372: 1.0,\n",
       "             388: 1.0,\n",
       "             391: 7.0,\n",
       "             394: 0.5,\n",
       "             396: 30.333333333333336,\n",
       "             397: 2.0,\n",
       "             398: 9.333333333333334,\n",
       "             399: 3.0,\n",
       "             406: 2.0,\n",
       "             428: 2.0,\n",
       "             436: 2.0,\n",
       "             453: 191.00000000000026,\n",
       "             454: 1.0,\n",
       "             472: 3.0,\n",
       "             492: 1.0,\n",
       "             505: 5.0,\n",
       "             506: 1.6666666666666665,\n",
       "             548: 2.0,\n",
       "             562: 1.0,\n",
       "             565: 11.0,\n",
       "             566: 66.0,\n",
       "             567: 36.66666666666666,\n",
       "             568: 4.0,\n",
       "             570: 1.0,\n",
       "             575: 21.0,\n",
       "             579: 2.0,\n",
       "             581: 5.0,\n",
       "             583: 1.0,\n",
       "             587: 7.0,\n",
       "             591: 2.0,\n",
       "             593: 3.0,\n",
       "             598: 25.0,\n",
       "             599: 3.0,\n",
       "             606: 6.0,\n",
       "             607: 12.5,\n",
       "             608: 2.0,\n",
       "             609: 32.0,\n",
       "             612: 1.0,\n",
       "             614: 20.0,\n",
       "             616: 49.5,\n",
       "             626: 211.33333333333334,\n",
       "             628: 6.0,\n",
       "             632: 1.0,\n",
       "             634: 5.0,\n",
       "             639: 2.0,\n",
       "             649: 10.0,\n",
       "             654: 2.0,\n",
       "             657: 1.0,\n",
       "             660: 1.0,\n",
       "             663: 3.0,\n",
       "             675: 10.0,\n",
       "             710: 1.0,\n",
       "             717: 1.0,\n",
       "             718: 1.0,\n",
       "             731: 1.0,\n",
       "             739: 24.0,\n",
       "             742: 22.0,\n",
       "             755: 1.0,\n",
       "             768: 16.5,\n",
       "             771: 3.0,\n",
       "             773: 1.0,\n",
       "             776: 1.0,\n",
       "             779: 1.0,\n",
       "             784: 2.0,\n",
       "             788: 2.0,\n",
       "             794: 4.0,\n",
       "             802: 2.0,\n",
       "             810: 1.0,\n",
       "             814: 1.0,\n",
       "             829: 12.0,\n",
       "             831: 18.0,\n",
       "             849: 1.0,\n",
       "             852: 1.0,\n",
       "             855: 8.0,\n",
       "             858: 1.0,\n",
       "             861: 3.0,\n",
       "             869: 4.0,\n",
       "             871: 3.0,\n",
       "             873: 1.0,\n",
       "             876: 5.0,\n",
       "             878: 2.0,\n",
       "             886: 2.0,\n",
       "             888: 4.0,\n",
       "             891: 22.0,\n",
       "             893: 1.0,\n",
       "             895: 21.0,\n",
       "             896: 3.0,\n",
       "             897: 3.0,\n",
       "             900: 1.0,\n",
       "             901: 6.0,\n",
       "             903: 1.0,\n",
       "             906: 2.0,\n",
       "             907: 13.0,\n",
       "             909: 1.0,\n",
       "             910: 1.0,\n",
       "             912: 1.0,\n",
       "             918: 1.0,\n",
       "             919: 1.0,\n",
       "             922: 1.0,\n",
       "             943: 1.0,\n",
       "             946: 6.0,\n",
       "             947: 6.0,\n",
       "             949: 3.0,\n",
       "             953: 2.0,\n",
       "             977: 1.0,\n",
       "             985: 3.0})"
      ]
     },
     "execution_count": 59,
     "metadata": {},
     "output_type": "execute_result"
    }
   ],
   "source": [
    "weights_clonal"
   ]
  },
  {
   "cell_type": "code",
   "execution_count": null,
   "metadata": {
    "collapsed": true
   },
   "outputs": [],
   "source": []
  }
 ],
 "metadata": {
  "kernelspec": {
   "display_name": "Python 3",
   "language": "python",
   "name": "python3"
  },
  "language_info": {
   "codemirror_mode": {
    "name": "ipython",
    "version": 3
   },
   "file_extension": ".py",
   "mimetype": "text/x-python",
   "name": "python",
   "nbconvert_exporter": "python",
   "pygments_lexer": "ipython3",
   "version": "3.4.3"
  }
 },
 "nbformat": 4,
 "nbformat_minor": 0
}
