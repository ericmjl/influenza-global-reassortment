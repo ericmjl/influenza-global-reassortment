{
 "cells": [
  {
   "cell_type": "code",
   "execution_count": 7,
   "metadata": {
    "collapsed": false
   },
   "outputs": [
    {
     "name": "stdout",
     "output_type": "stream",
     "text": [
      "The autoreload extension is already loaded. To reload it, use:\n",
      "  %reload_ext autoreload\n"
     ]
    }
   ],
   "source": [
    "import networkx as nx\n",
    "import seaborn\n",
    "import custom_funcs as cf\n",
    "import matplotlib.pyplot as plt\n",
    "import numpy as np\n",
    "import pandas as pd\n",
    "\n",
    "from joblib import Parallel, delayed\n",
    "from time import time\n",
    "\n",
    "%load_ext autoreload\n",
    "%autoreload 2\n",
    "\n",
    "%matplotlib inline"
   ]
  },
  {
   "cell_type": "code",
   "execution_count": 8,
   "metadata": {
    "collapsed": true
   },
   "outputs": [],
   "source": [
    "# Set Seaborn styles & context\n",
    "seaborn.set_context(\"paper\")\n",
    "seaborn.set_style('white')"
   ]
  },
  {
   "cell_type": "code",
   "execution_count": 10,
   "metadata": {
    "collapsed": false
   },
   "outputs": [],
   "source": [
    "# Read in data and do data pre-processing\n",
    "G = nx.read_gpickle('20150902_all_ird Final Graph.pkl')\n",
    "G = cf.impute_reassortant_status(G)\n",
    "G = cf.impute_host_group_name(G)\n",
    "G = cf.impute_weights(G)"
   ]
  },
  {
   "cell_type": "code",
   "execution_count": 11,
   "metadata": {
    "collapsed": false
   },
   "outputs": [
    {
     "data": {
      "text/plain": [
       "{'diff_attr': 0.8131267590611879, 'same_attr': 0.37525262774838164}"
      ]
     },
     "execution_count": 11,
     "metadata": {},
     "output_type": "execute_result"
    }
   ],
   "source": [
    "# Compute proportion reassortant\n",
    "data_props = cf.edge_proportion_reassortant(G, attr='host_group', exclusions=['Unknown'])\n",
    "data_props"
   ]
  },
  {
   "cell_type": "code",
   "execution_count": 12,
   "metadata": {
    "collapsed": false
   },
   "outputs": [
    {
     "name": "stdout",
     "output_type": "stream",
     "text": [
      "273.6398620605469\n"
     ]
    }
   ],
   "source": [
    "start = time()\n",
    "def null_distribution_proportion_reassortant(G):\n",
    "    G_shuffled = cf.shuffle_node_attribute_label(G, 'host_group')\n",
    "    props = cf.edge_proportion_reassortant(G_shuffled, 'host_group', exclusions=['Unknown'])\n",
    "    return props\n",
    "\n",
    "props_null = Parallel(n_jobs=-1)(delayed(null_distribution_proportion_reassortant)(G) for i in range(100))\n",
    "end = time()\n",
    "print(end - start)"
   ]
  },
  {
   "cell_type": "code",
   "execution_count": 13,
   "metadata": {
    "collapsed": false
   },
   "outputs": [
    {
     "data": {
      "text/plain": [
       "diff_attr    0.437076\n",
       "same_attr    0.437381\n",
       "dtype: float64"
      ]
     },
     "execution_count": 13,
     "metadata": {},
     "output_type": "execute_result"
    }
   ],
   "source": [
    "null = pd.DataFrame(props_null)\n",
    "null.mean()"
   ]
  },
  {
   "cell_type": "code",
   "execution_count": 14,
   "metadata": {
    "collapsed": false
   },
   "outputs": [
    {
     "data": {
      "text/plain": [
       "diff_attr    0.813127\n",
       "same_attr    0.375253\n",
       "dtype: float64"
      ]
     },
     "execution_count": 14,
     "metadata": {},
     "output_type": "execute_result"
    }
   ],
   "source": [
    "data = pd.DataFrame([data_props])\n",
    "data.mean()"
   ]
  },
  {
   "cell_type": "code",
   "execution_count": 15,
   "metadata": {
    "collapsed": false
   },
   "outputs": [
    {
     "data": {
      "text/plain": [
       "(0, 1)"
      ]
     },
     "execution_count": 15,
     "metadata": {},
     "output_type": "execute_result"
    },
    {
     "data": {
      "image/png": "[encoded data removed]",
      "text/plain": [
       "<matplotlib.figure.Figure at 0x7f63e0a034a8>"
      ]
     },
     "metadata": {},
     "output_type": "display_data"
    }
   ],
   "source": [
    "fig = plt.figure(figsize=(3,2))\n",
    "ax = fig.add_subplot(1,1,1)\n",
    "ind = np.arange(2)\n",
    "width = 0.35\n",
    "\n",
    "ax.bar(ind, null.mean(), width, color='blue', label='Null', alpha=0.5, yerr=null.std()*5)\n",
    "ax.bar(ind+width, data.mean(), width, color='blue', label='Data')\n",
    "ax.set_xticks(ind+width)\n",
    "ax.set_xticklabels(['Different', 'Same'])\n",
    "ax.set_xlabel('Hosts Pair')\n",
    "ax.set_ylabel('Proportion Reassortant')\n",
    "ax.legend()\n",
    "ax.set_ylim(0,1)"
   ]
  },
  {
   "cell_type": "code",
   "execution_count": 16,
   "metadata": {
    "collapsed": false
   },
   "outputs": [],
   "source": [
    "# Between which host groups are they over-represented or under-represented?\n",
    "\n",
    "def host_group_domain_graph(G):\n",
    "    \"\"\"\n",
    "    Computes the proportion of reassortant representation when crossing between host groups.\n",
    "    \"\"\"\n",
    "    hg_graph = nx.DiGraph()\n",
    "\n",
    "    for n, node_d in G.nodes(data=True):\n",
    "\n",
    "        in_edges = G.in_edges(n, data=True)\n",
    "        total_edges = len(in_edges)\n",
    "        is_reassortant = node_d['reassortant']\n",
    "\n",
    "        sk_hg = G.node[n]['host_group']\n",
    "        if sk_hg not in hg_graph.nodes():\n",
    "            hg_graph.add_node(sk_hg)\n",
    "\n",
    "        for sc, _, edge_d in in_edges:\n",
    "            sc_hg = G.node[sc]['host_group']\n",
    "            if sc_hg not in hg_graph.nodes():\n",
    "                hg_graph.add_node(sc_hg)\n",
    "\n",
    "            if (sc_hg, sk_hg) not in hg_graph.edges():\n",
    "                hg_graph.add_edge(sc_hg, sk_hg, total=edge_d['weight'], reassortant=0)\n",
    "            if (sc_hg, sk_hg) in hg_graph.edges():\n",
    "                hg_graph.edge[sc_hg][sk_hg]['total'] += edge_d['weight']\n",
    "\n",
    "            if is_reassortant:\n",
    "                hg_graph.edge[sc_hg][sk_hg]['reassortant'] += edge_d['weight']\n",
    "\n",
    "    for sc, sk, d in hg_graph.edges(data=True):\n",
    "        hg_graph.edge[sc][sk]['p_reassortant'] = d['reassortant'] / d['total']\n",
    "        \n",
    "    return hg_graph\n"
   ]
  },
  {
   "cell_type": "code",
   "execution_count": 17,
   "metadata": {
    "collapsed": false,
    "scrolled": true
   },
   "outputs": [
    {
     "data": {
      "text/plain": [
       "[('Unknown',\n",
       "  'Unknown',\n",
       "  {'p_reassortant': 0.34992983732654215,\n",
       "   'reassortant': 31.75943396226415,\n",
       "   'total': 90.75943396226418}),\n",
       " ('Unknown',\n",
       "  'Human',\n",
       "  {'p_reassortant': 0.8142619208372,\n",
       "   'reassortant': 30.753902341611195,\n",
       "   'total': 37.76905385676263}),\n",
       " ('Unknown',\n",
       "  'Wild',\n",
       "  {'p_reassortant': 0.4377791922143873,\n",
       "   'reassortant': 56.063563288563294,\n",
       "   'total': 128.06356328856327}),\n",
       " ('Unknown',\n",
       "  'Domestic',\n",
       "  {'p_reassortant': 0.5934742300441319,\n",
       "   'reassortant': 71.77687566277555,\n",
       "   'total': 120.94354232944215}),\n",
       " ('Human',\n",
       "  'Unknown',\n",
       "  {'p_reassortant': 0.6313933832407629,\n",
       "   'reassortant': 10.277515723270433,\n",
       "   'total': 16.277515723270433}),\n",
       " ('Human',\n",
       "  'Human',\n",
       "  {'p_reassortant': 0.29653828854238545,\n",
       "   'reassortant': 2284.3332614102724,\n",
       "   'total': 7703.3332614104}),\n",
       " ('Human',\n",
       "  'Wild',\n",
       "  {'p_reassortant': 0.9650554427779903,\n",
       "   'reassortant': 138.9468226948486,\n",
       "   'total': 143.9780726948484}),\n",
       " ('Human',\n",
       "  'Domestic',\n",
       "  {'p_reassortant': 0.7299269840426323,\n",
       "   'reassortant': 386.9368912884348,\n",
       "   'total': 530.1035579550999}),\n",
       " ('Wild',\n",
       "  'Unknown',\n",
       "  {'p_reassortant': 0.5185800669943886,\n",
       "   'reassortant': 93.71540880503154,\n",
       "   'total': 180.71540880503147}),\n",
       " ('Wild',\n",
       "  'Human',\n",
       "  {'p_reassortant': 0.988570043285907,\n",
       "   'reassortant': 443.2581503649505,\n",
       "   'total': 448.3831503649505}),\n",
       " ('Wild',\n",
       "  'Wild',\n",
       "  {'p_reassortant': 0.4998103950452437,\n",
       "   'reassortant': 2042.4503775220917,\n",
       "   'total': 4086.450377522071}),\n",
       " ('Wild',\n",
       "  'Domestic',\n",
       "  {'p_reassortant': 0.763693643619565,\n",
       "   'reassortant': 395.89485774467977,\n",
       "   'total': 518.3948577446787}),\n",
       " ('Domestic',\n",
       "  'Unknown',\n",
       "  {'p_reassortant': 0.6559810363205437,\n",
       "   'reassortant': 97.24764150943471,\n",
       "   'total': 148.2476415094336}),\n",
       " ('Domestic',\n",
       "  'Human',\n",
       "  {'p_reassortant': 0.9078739543861004,\n",
       "   'reassortant': 311.6546858831544,\n",
       "   'total': 343.27968588315065}),\n",
       " ('Domestic',\n",
       "  'Wild',\n",
       "  {'p_reassortant': 0.5844306027484552,\n",
       "   'reassortant': 176.53923649449965,\n",
       "   'total': 302.0704864944999}),\n",
       " ('Domestic',\n",
       "  'Domestic',\n",
       "  {'p_reassortant': 0.3804251591876073,\n",
       "   'reassortant': 1371.3913753040904,\n",
       "   'total': 3604.8913753040883})]"
      ]
     },
     "execution_count": 17,
     "metadata": {},
     "output_type": "execute_result"
    }
   ],
   "source": [
    "hg_graph = host_group_domain_graph(G)\n",
    "hg_graph.edges(data=True)"
   ]
  },
  {
   "cell_type": "code",
   "execution_count": 18,
   "metadata": {
    "collapsed": false
   },
   "outputs": [],
   "source": [
    "def null_proportion_hg_reassortant(G, equally=False):\n",
    "    \n",
    "    G_shuffled = cf.shuffle_node_attribute_label(G, 'host_group', equally)\n",
    "    hg_graph_shuf = host_group_domain_graph(G_shuffled)\n",
    "    \n",
    "    return hg_graph_shuf"
   ]
  },
  {
   "cell_type": "code",
   "execution_count": 19,
   "metadata": {
    "collapsed": false
   },
   "outputs": [
    {
     "name": "stdout",
     "output_type": "stream",
     "text": [
      "62.79406523704529\n"
     ]
    }
   ],
   "source": [
    "start = time()\n",
    "results = Parallel(n_jobs=-1)(delayed(null_proportion_hg_reassortant)(G, equally=True) for i in range(20))\n",
    "len(results)\n",
    "end = time()\n",
    "print(end - start)"
   ]
  },
  {
   "cell_type": "code",
   "execution_count": 20,
   "metadata": {
    "collapsed": false
   },
   "outputs": [],
   "source": [
    "def distr_null_p_reassortant(list_of_hg_graphs):\n",
    "    hg_graph = nx.DiGraph()\n",
    "    for g in list_of_hg_graphs:\n",
    "        hg_graph.add_nodes_from(g.nodes())\n",
    "        for sc, sk, d in g.edges(data=True):\n",
    "            if (sc, sk) not in hg_graph.edges():\n",
    "                hg_graph.add_edge(sc, sk, p_reassortant=[d['p_reassortant']])\n",
    "            else:\n",
    "                hg_graph.edge[sc][sk]['p_reassortant'].append(d['p_reassortant'])\n",
    "    return hg_graph\n",
    "\n",
    "summaryG = distr_null_p_reassortant(results)"
   ]
  },
  {
   "cell_type": "code",
   "execution_count": 21,
   "metadata": {
    "collapsed": false
   },
   "outputs": [
    {
     "data": {
      "text/plain": [
       "[('Human',\n",
       "  'Unknown',\n",
       "  {'p_reassortant': [0.41506613991810676,\n",
       "    0.42298125376411544,\n",
       "    0.3958538822929444,\n",
       "    0.4428103112653319,\n",
       "    0.4380497769780519,\n",
       "    0.4251888272428361,\n",
       "    0.44363527297108385,\n",
       "    0.4118127639338273,\n",
       "    0.4183003324507413,\n",
       "    0.4422987122206151,\n",
       "    0.4268589382124477,\n",
       "    0.41408983975085684,\n",
       "    0.4155883086765865,\n",
       "    0.455702437730541,\n",
       "    0.45869244137764725,\n",
       "    0.4495784572306876,\n",
       "    0.4196198910614094,\n",
       "    0.44914406254516376,\n",
       "    0.4105464894260416,\n",
       "    0.4441484834261938]}),\n",
       " ('Human',\n",
       "  'Human',\n",
       "  {'p_reassortant': [0.4253901404197383,\n",
       "    0.4333861048673107,\n",
       "    0.41218311148082953,\n",
       "    0.4276597171785103,\n",
       "    0.43780360130093493,\n",
       "    0.4247578352225345,\n",
       "    0.4539187590033163,\n",
       "    0.42385486110384385,\n",
       "    0.4285494730107777,\n",
       "    0.4385942316266457,\n",
       "    0.4269721215361479,\n",
       "    0.413881244581534,\n",
       "    0.41827584562120146,\n",
       "    0.40927319967922754,\n",
       "    0.46092086780110353,\n",
       "    0.43020102470330207,\n",
       "    0.4341125052748132,\n",
       "    0.4430542562115003,\n",
       "    0.4122324523002324,\n",
       "    0.45327467161357143]}),\n",
       " ('Human',\n",
       "  'Wild',\n",
       "  {'p_reassortant': [0.4273280461685909,\n",
       "    0.4100751623125877,\n",
       "    0.4217063053559213,\n",
       "    0.44220824369418466,\n",
       "    0.43450065307218666,\n",
       "    0.42666635208761755,\n",
       "    0.43296623631303416,\n",
       "    0.43585316097166465,\n",
       "    0.40265488207659156,\n",
       "    0.4269814497818917,\n",
       "    0.41326063968140087,\n",
       "    0.4380127461747857,\n",
       "    0.4191305697316038,\n",
       "    0.41027341925978617,\n",
       "    0.4589562602350426,\n",
       "    0.4268628040387969,\n",
       "    0.4240159374851769,\n",
       "    0.42731724115369674,\n",
       "    0.4125275839115969,\n",
       "    0.4451150462319366]}),\n",
       " ('Human',\n",
       "  'Domestic',\n",
       "  {'p_reassortant': [0.4239212417608722,\n",
       "    0.414066215971936,\n",
       "    0.41974047611282284,\n",
       "    0.42199921545219204,\n",
       "    0.43746603662088346,\n",
       "    0.4409783721726655,\n",
       "    0.4555855335146122,\n",
       "    0.4470996192685261,\n",
       "    0.4179765866116449,\n",
       "    0.4292966939091598,\n",
       "    0.422502679266489,\n",
       "    0.4294997612146727,\n",
       "    0.43968030097859545,\n",
       "    0.432234341317167,\n",
       "    0.47140784329117325,\n",
       "    0.4239417370391707,\n",
       "    0.4316305795444868,\n",
       "    0.45394055027364455,\n",
       "    0.43075517283535136,\n",
       "    0.4307432218871511]}),\n",
       " ('Unknown',\n",
       "  'Human',\n",
       "  {'p_reassortant': [0.421233589412461,\n",
       "    0.46211427776049835,\n",
       "    0.4473191822159543,\n",
       "    0.451436842940035,\n",
       "    0.41492503862507985,\n",
       "    0.42055792294175454,\n",
       "    0.4175378349883054,\n",
       "    0.4022550743013281,\n",
       "    0.44086549330934094,\n",
       "    0.4359273430726717,\n",
       "    0.4422866453861271,\n",
       "    0.450479248183917,\n",
       "    0.4352104089133244,\n",
       "    0.43582093145689343,\n",
       "    0.41423888137046416,\n",
       "    0.4733997932417672,\n",
       "    0.4439076957320519,\n",
       "    0.4212235529276967,\n",
       "    0.4516678374460749,\n",
       "    0.4313393422511746]}),\n",
       " ('Unknown',\n",
       "  'Unknown',\n",
       "  {'p_reassortant': [0.4189004511627192,\n",
       "    0.4546822540103325,\n",
       "    0.43063401273012236,\n",
       "    0.46104986651792895,\n",
       "    0.4330821479370139,\n",
       "    0.426317913294668,\n",
       "    0.44648991617725603,\n",
       "    0.41026614587812404,\n",
       "    0.4184355357530314,\n",
       "    0.4218076648712851,\n",
       "    0.42800661136164414,\n",
       "    0.44459353016739966,\n",
       "    0.4613531448112926,\n",
       "    0.41959218882746885,\n",
       "    0.41555402019227966,\n",
       "    0.49638507702722817,\n",
       "    0.43199548885536976,\n",
       "    0.41093723657735126,\n",
       "    0.4372302939301143,\n",
       "    0.4130271020235452]}),\n",
       " ('Unknown',\n",
       "  'Wild',\n",
       "  {'p_reassortant': [0.410727139619454,\n",
       "    0.44661171968048446,\n",
       "    0.4548204253879626,\n",
       "    0.4321018002203705,\n",
       "    0.43873643019356,\n",
       "    0.43232484906898944,\n",
       "    0.4493060727698065,\n",
       "    0.42251932641191003,\n",
       "    0.4358645424694291,\n",
       "    0.4089459429284266,\n",
       "    0.42716044608853265,\n",
       "    0.44979666574361854,\n",
       "    0.4059139794642034,\n",
       "    0.41707573157766037,\n",
       "    0.42163585667913395,\n",
       "    0.4417104726805163,\n",
       "    0.4064052373810073,\n",
       "    0.4085096494789193,\n",
       "    0.4115556742828634,\n",
       "    0.40232866263382105]}),\n",
       " ('Unknown',\n",
       "  'Domestic',\n",
       "  {'p_reassortant': [0.4261119212739879,\n",
       "    0.4411058778456704,\n",
       "    0.4207331201143071,\n",
       "    0.4474999581687283,\n",
       "    0.420013578157021,\n",
       "    0.413477080443954,\n",
       "    0.4105411832119782,\n",
       "    0.4229146397401312,\n",
       "    0.466005063623578,\n",
       "    0.45136872525556365,\n",
       "    0.42521923549763546,\n",
       "    0.4462484683720982,\n",
       "    0.4311771452562701,\n",
       "    0.4366061084338806,\n",
       "    0.4111106583380299,\n",
       "    0.44443733060308005,\n",
       "    0.41843093612443405,\n",
       "    0.42242522997362814,\n",
       "    0.4433741081250642,\n",
       "    0.4170851199903585]}),\n",
       " ('Wild',\n",
       "  'Human',\n",
       "  {'p_reassortant': [0.4587481847497471,\n",
       "    0.4484169336713419,\n",
       "    0.4482036799246062,\n",
       "    0.4207253637326932,\n",
       "    0.41759970550686326,\n",
       "    0.45503778069488493,\n",
       "    0.4006626655623289,\n",
       "    0.43766199831268526,\n",
       "    0.45423093260557607,\n",
       "    0.42117766353298913,\n",
       "    0.41490142801109703,\n",
       "    0.45319795803489143,\n",
       "    0.4280103149956641,\n",
       "    0.42403863095278405,\n",
       "    0.43315416066667006,\n",
       "    0.4226979425442433,\n",
       "    0.4516630986267192,\n",
       "    0.4493671279592918,\n",
       "    0.4359038766733688,\n",
       "    0.42859960725562074]}),\n",
       " ('Wild',\n",
       "  'Unknown',\n",
       "  {'p_reassortant': [0.4542732956114279,\n",
       "    0.4109694386727113,\n",
       "    0.4271467922532774,\n",
       "    0.41842934748767585,\n",
       "    0.4075537901605669,\n",
       "    0.4296288034318986,\n",
       "    0.4644983231739627,\n",
       "    0.4413279243388516,\n",
       "    0.4640242345440205,\n",
       "    0.4458739475360075,\n",
       "    0.421987957495446,\n",
       "    0.42743519019563886,\n",
       "    0.4319719610953256,\n",
       "    0.4265758344639837,\n",
       "    0.42821413067595154,\n",
       "    0.4081373161792486,\n",
       "    0.4539242433592648,\n",
       "    0.4456658964184169,\n",
       "    0.462077178150673,\n",
       "    0.43763524644721846]}),\n",
       " ('Wild',\n",
       "  'Wild',\n",
       "  {'p_reassortant': [0.43904966986597943,\n",
       "    0.43528086731632043,\n",
       "    0.42604704570943897,\n",
       "    0.43274201486341174,\n",
       "    0.4130613126048198,\n",
       "    0.42515115697686656,\n",
       "    0.41760608262717464,\n",
       "    0.44827311132013314,\n",
       "    0.44014311017068414,\n",
       "    0.45308308979959716,\n",
       "    0.44245917333890683,\n",
       "    0.43417406962378113,\n",
       "    0.4240868945597349,\n",
       "    0.42037052287255544,\n",
       "    0.41340234574482854,\n",
       "    0.4275805239672041,\n",
       "    0.42797005012584005,\n",
       "    0.4549665172147516,\n",
       "    0.4217017282689948,\n",
       "    0.4328475150311522]}),\n",
       " ('Wild',\n",
       "  'Domestic',\n",
       "  {'p_reassortant': [0.4508370450552836,\n",
       "    0.44035621519211365,\n",
       "    0.4494302516339869,\n",
       "    0.4296572771758445,\n",
       "    0.42112864080945756,\n",
       "    0.45894322720830544,\n",
       "    0.45185383670321744,\n",
       "    0.4531952731798051,\n",
       "    0.4596250386993458,\n",
       "    0.44155888715564057,\n",
       "    0.4044479612086053,\n",
       "    0.4281960197946127,\n",
       "    0.43069546198807185,\n",
       "    0.43350125922572635,\n",
       "    0.43644357807933387,\n",
       "    0.4058148212669515,\n",
       "    0.48056906270059485,\n",
       "    0.43951774864036053,\n",
       "    0.4352288657188404,\n",
       "    0.41920471887664007]}),\n",
       " ('Domestic',\n",
       "  'Human',\n",
       "  {'p_reassortant': [0.42721353223813213,\n",
       "    0.4382985552165498,\n",
       "    0.4257724638735331,\n",
       "    0.41891656831157364,\n",
       "    0.46725605570256085,\n",
       "    0.4346228096422938,\n",
       "    0.40331234280092215,\n",
       "    0.4239246815737421,\n",
       "    0.4331510416118019,\n",
       "    0.4399728997267888,\n",
       "    0.4563134669101385,\n",
       "    0.4121800080212473,\n",
       "    0.4485940486140066,\n",
       "    0.44455917448729637,\n",
       "    0.42126677336599144,\n",
       "    0.4054715828392957,\n",
       "    0.42357544793880114,\n",
       "    0.4093044779822035,\n",
       "    0.42807417561965594,\n",
       "    0.453902155373134]}),\n",
       " ('Domestic',\n",
       "  'Unknown',\n",
       "  {'p_reassortant': [0.43659988943029826,\n",
       "    0.4147555051046718,\n",
       "    0.46654770155465647,\n",
       "    0.4222825892645755,\n",
       "    0.4293083700428008,\n",
       "    0.41906161417922383,\n",
       "    0.3965966763208904,\n",
       "    0.44334907750480335,\n",
       "    0.41815953788971877,\n",
       "    0.41616340850478534,\n",
       "    0.46464998664658413,\n",
       "    0.40161396917058556,\n",
       "    0.45996003458701545,\n",
       "    0.4483347898548608,\n",
       "    0.41612041818685463,\n",
       "    0.41786630275751063,\n",
       "    0.4146118094465754,\n",
       "    0.4273514657476256,\n",
       "    0.4362721392972901,\n",
       "    0.4366485357067513]}),\n",
       " ('Domestic',\n",
       "  'Wild',\n",
       "  {'p_reassortant': [0.42504668610431046,\n",
       "    0.41745852199549677,\n",
       "    0.431416929104825,\n",
       "    0.4336757268685154,\n",
       "    0.4509405340810755,\n",
       "    0.42713295081845354,\n",
       "    0.42627200767381385,\n",
       "    0.4460022123764854,\n",
       "    0.40711805191357053,\n",
       "    0.4164355458701725,\n",
       "    0.44654069132296054,\n",
       "    0.42458067686529544,\n",
       "    0.43866248738055663,\n",
       "    0.45271382108983355,\n",
       "    0.42754037510654597,\n",
       "    0.4197811950467793,\n",
       "    0.42590078081482546,\n",
       "    0.4190621961470496,\n",
       "    0.42624700292584783,\n",
       "    0.43821675528401294]}),\n",
       " ('Domestic',\n",
       "  'Domestic',\n",
       "  {'p_reassortant': [0.446673423109428,\n",
       "    0.4117078847164307,\n",
       "    0.4402394477207961,\n",
       "    0.4051592270758327,\n",
       "    0.4484065812899234,\n",
       "    0.44268534535463633,\n",
       "    0.4430434459236563,\n",
       "    0.4408790214938927,\n",
       "    0.4144937493022084,\n",
       "    0.4207512017607839,\n",
       "    0.43903259403828165,\n",
       "    0.4413747170835049,\n",
       "    0.41895219176310483,\n",
       "    0.4401502465380129,\n",
       "    0.4202234221378733,\n",
       "    0.41507492022501247,\n",
       "    0.4216229696888365,\n",
       "    0.424390409582019,\n",
       "    0.45735098325282814,\n",
       "    0.42722603947788157]})]"
      ]
     },
     "execution_count": 21,
     "metadata": {},
     "output_type": "execute_result"
    }
   ],
   "source": [
    "summaryG.edges(data=True)"
   ]
  },
  {
   "cell_type": "code",
   "execution_count": 22,
   "metadata": {
    "collapsed": false
   },
   "outputs": [],
   "source": [
    "name_map = {'Wild':'W',\n",
    "            'Domestic':'D',\n",
    "            'Human':'H'}\n",
    "names = []\n",
    "means = []\n",
    "stds  = []\n",
    "for sc, sk, d in summaryG.edges(data=True):\n",
    "    if sc == 'Unknown' or sk == 'Unknown':\n",
    "        pass\n",
    "    else:\n",
    "        mean = np.mean(d['p_reassortant'])\n",
    "        std = np.std(d['p_reassortant'])\n",
    "        \n",
    "        names.append('{0}:{1}'.format(name_map[sc], name_map[sk]))\n",
    "        means.append(mean)\n",
    "        stds.append(std)"
   ]
  },
  {
   "cell_type": "code",
   "execution_count": 23,
   "metadata": {
    "collapsed": false
   },
   "outputs": [
    {
     "data": {
      "text/plain": [
       "[0.29653828854238545,\n",
       " 0.9650554427779903,\n",
       " 0.7299269840426323,\n",
       " 0.988570043285907,\n",
       " 0.4998103950452437,\n",
       " 0.763693643619565,\n",
       " 0.9078739543861004,\n",
       " 0.5844306027484552,\n",
       " 0.3804251591876073]"
      ]
     },
     "execution_count": 23,
     "metadata": {},
     "output_type": "execute_result"
    }
   ],
   "source": [
    "data = []\n",
    "\n",
    "for sc, sk, d in hg_graph.edges(data=True):\n",
    "    if sc == 'Unknown' or sk == 'Unknown':\n",
    "        pass\n",
    "    else:\n",
    "        data.append(d['p_reassortant'])\n",
    "data"
   ]
  },
  {
   "cell_type": "code",
   "execution_count": 24,
   "metadata": {
    "collapsed": false
   },
   "outputs": [
    {
     "data": {
      "image/png": "[encoded data removed]",
      "text/plain": [
       "<matplotlib.figure.Figure at 0x7f63ce394e80>"
      ]
     },
     "metadata": {},
     "output_type": "display_data"
    }
   ],
   "source": [
    "fig = plt.figure(figsize=(4,2))\n",
    "\n",
    "ind = np.arange(len(means))\n",
    "width = 0.35\n",
    "\n",
    "ax = fig.add_subplot(1,1,1)\n",
    "ax.bar(ind, means, width=width, color='blue', label='Null', yerr=np.array(stds)*5, alpha=0.5)\n",
    "ax.bar(ind+width, data, width=width, color='blue', label='Data')\n",
    "ax.set_xticks(ind+width)\n",
    "ax.set_xticklabels(names)\n",
    "ax.set_ylabel('Weighted Proportion\\nReassortant Per Event')\n",
    "ax.set_xlabel('Host Group Transition')\n",
    "ax.legend(loc='upper center')\n",
    "plt.subplots_adjust(left=0.15, right=0.95)\n",
    "plt.savefig('figures/Proportion Reassortant Ecological.pdf')\n",
    "plt.show()"
   ]
  },
  {
   "cell_type": "code",
   "execution_count": 25,
   "metadata": {
    "collapsed": false
   },
   "outputs": [
    {
     "data": {
      "text/plain": [
       "array([ 0.13387651, -0.53823481, -0.29620368, -0.55337009, -0.06831055,\n",
       "       -0.32518338, -0.47708984, -0.15439335,  0.05054673])"
      ]
     },
     "execution_count": 25,
     "metadata": {},
     "output_type": "execute_result"
    }
   ],
   "source": [
    "np.array(means) - np.array(data)"
   ]
  },
  {
   "cell_type": "code",
   "execution_count": null,
   "metadata": {
    "collapsed": true
   },
   "outputs": [],
   "source": []
  }
 ],
 "metadata": {
  "kernelspec": {
   "display_name": "Python 3",
   "language": "python",
   "name": "python3"
  },
  "language_info": {
   "codemirror_mode": {
    "name": "ipython",
    "version": 3
   },
   "file_extension": ".py",
   "mimetype": "text/x-python",
   "name": "python",
   "nbconvert_exporter": "python",
   "pygments_lexer": "ipython3",
   "version": "3.4.3"
  }
 },
 "nbformat": 4,
 "nbformat_minor": 0
}
