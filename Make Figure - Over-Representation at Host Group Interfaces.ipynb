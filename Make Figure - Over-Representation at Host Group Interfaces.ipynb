{
 "cells": [
  {
   "cell_type": "code",
   "execution_count": 43,
   "metadata": {
    "collapsed": false
   },
   "outputs": [
    {
     "name": "stdout",
     "output_type": "stream",
     "text": [
      "The autoreload extension is already loaded. To reload it, use:\n",
      "  %reload_ext autoreload\n"
     ]
    }
   ],
   "source": [
    "import networkx as nx\n",
    "import seaborn\n",
    "import custom_funcs as cf\n",
    "import matplotlib.pyplot as plt\n",
    "import numpy as np\n",
    "import pandas as pd\n",
    "\n",
    "from joblib import Parallel, delayed\n",
    "from time import time\n",
    "\n",
    "%load_ext autoreload\n",
    "%autoreload 2\n",
    "\n",
    "%matplotlib inline"
   ]
  },
  {
   "cell_type": "code",
   "execution_count": 44,
   "metadata": {
    "collapsed": true
   },
   "outputs": [],
   "source": [
    "# Set Seaborn styles & context\n",
    "seaborn.set_context(\"paper\")\n",
    "seaborn.set_style('white')"
   ]
  },
  {
   "cell_type": "code",
   "execution_count": null,
   "metadata": {
    "collapsed": false
   },
   "outputs": [],
   "source": [
    "# Read in data and do data pre-processing\n",
    "G = nx.read_gpickle('20150902_all_ird Final Graph.pkl')\n",
    "G = cf.impute_reassortant_status(G)\n",
    "G = cf.impute_host_group_name(G)\n",
    "G = cf.impute_weights(G)\n",
    "G = cf.remove_zero_weighted_edges(G)"
   ]
  },
  {
   "cell_type": "code",
   "execution_count": null,
   "metadata": {
    "collapsed": false
   },
   "outputs": [],
   "source": [
    "# Compute proportion reassortant\n",
    "data_props = cf.edge_proportion_reassortant(G, attr='host_group', exclusions=['Unknown'])\n",
    "data_props"
   ]
  },
  {
   "cell_type": "code",
   "execution_count": null,
   "metadata": {
    "collapsed": false
   },
   "outputs": [],
   "source": [
    "start = time()\n",
    "def null_distribution_proportion_reassortant(G):\n",
    "    G_shuffled = cf.shuffle_node_attribute_label(G, 'host_group')\n",
    "    props = cf.edge_proportion_reassortant(G_shuffled, 'host_group', exclusions=['Unknown'])\n",
    "    return props\n",
    "\n",
    "props_null = Parallel(n_jobs=-1)(delayed(null_distribution_proportion_reassortant)(G) for i in range(100))\n",
    "end = time()\n",
    "print(end - start)"
   ]
  },
  {
   "cell_type": "code",
   "execution_count": null,
   "metadata": {
    "collapsed": false
   },
   "outputs": [],
   "source": [
    "null = pd.DataFrame(props_null)\n",
    "null.mean()"
   ]
  },
  {
   "cell_type": "code",
   "execution_count": null,
   "metadata": {
    "collapsed": false
   },
   "outputs": [],
   "source": [
    "data = pd.DataFrame([data_props])\n",
    "data.mean()"
   ]
  },
  {
   "cell_type": "code",
   "execution_count": null,
   "metadata": {
    "collapsed": false
   },
   "outputs": [],
   "source": [
    "fig = plt.figure(figsize=(3,2))\n",
    "ax = fig.add_subplot(1,1,1)\n",
    "ind = np.arange(2)\n",
    "width = 0.35\n",
    "\n",
    "ax.bar(ind, null.mean(), width, color='blue', label='Null', alpha=0.5, yerr=null.std()*5)\n",
    "ax.bar(ind+width, data.mean(), width, color='blue', label='Data')\n",
    "ax.set_xticks(ind+width)\n",
    "ax.set_xticklabels(['Different', 'Same'])\n",
    "ax.set_xlabel('Host Group Pair')\n",
    "ax.set_ylabel('Proportion Reassortant')\n",
    "ax.legend()\n",
    "ax.set_ylim(0,1)"
   ]
  },
  {
   "cell_type": "code",
   "execution_count": null,
   "metadata": {
    "collapsed": false
   },
   "outputs": [],
   "source": [
    "# Between which host groups are they over-represented or under-represented?\n",
    "\n",
    "def host_group_domain_graph(G):\n",
    "    \"\"\"\n",
    "    Computes the proportion of reassortant representation when crossing between host groups.\n",
    "    \"\"\"\n",
    "    hg_graph = nx.DiGraph()\n",
    "\n",
    "    for n, node_d in G.nodes(data=True):\n",
    "\n",
    "        in_edges = G.in_edges(n, data=True)\n",
    "        total_edges = len(in_edges)\n",
    "        is_reassortant = node_d['reassortant']\n",
    "\n",
    "        sk_hg = G.node[n]['host_group']\n",
    "        if sk_hg not in hg_graph.nodes():\n",
    "            hg_graph.add_node(sk_hg)\n",
    "\n",
    "        for sc, _, edge_d in in_edges:\n",
    "            sc_hg = G.node[sc]['host_group']\n",
    "            if sc_hg not in hg_graph.nodes():\n",
    "                hg_graph.add_node(sc_hg)\n",
    "\n",
    "            if (sc_hg, sk_hg) not in hg_graph.edges():\n",
    "                hg_graph.add_edge(sc_hg, sk_hg, total=edge_d['weight'], reassortant=0)\n",
    "            if (sc_hg, sk_hg) in hg_graph.edges():\n",
    "                hg_graph.edge[sc_hg][sk_hg]['total'] += edge_d['weight']\n",
    "\n",
    "            if is_reassortant:\n",
    "                hg_graph.edge[sc_hg][sk_hg]['reassortant'] += edge_d['weight']\n",
    "\n",
    "    for sc, sk, d in hg_graph.edges(data=True):\n",
    "        hg_graph.edge[sc][sk]['p_reassortant'] = d['reassortant'] / d['total']\n",
    "        \n",
    "    return hg_graph\n"
   ]
  },
  {
   "cell_type": "code",
   "execution_count": null,
   "metadata": {
    "collapsed": false,
    "scrolled": true
   },
   "outputs": [],
   "source": [
    "hg_graph = host_group_domain_graph(G)\n",
    "hg_graph.edges(data=True)"
   ]
  },
  {
   "cell_type": "code",
   "execution_count": null,
   "metadata": {
    "collapsed": false
   },
   "outputs": [],
   "source": [
    "def null_proportion_hg_reassortant(G, equally=False):\n",
    "    \n",
    "    G_shuffled = cf.shuffle_node_attribute_label(G, 'host_group', equally)\n",
    "    hg_graph_shuf = host_group_domain_graph(G_shuffled)\n",
    "    \n",
    "    return hg_graph_shuf"
   ]
  },
  {
   "cell_type": "code",
   "execution_count": null,
   "metadata": {
    "collapsed": false
   },
   "outputs": [],
   "source": [
    "start = time()\n",
    "results = Parallel(n_jobs=-1)(delayed(null_proportion_hg_reassortant)(G, equally=True) for i in range(100))\n",
    "len(results)\n",
    "end = time()\n",
    "print(end - start)"
   ]
  },
  {
   "cell_type": "code",
   "execution_count": null,
   "metadata": {
    "collapsed": false
   },
   "outputs": [],
   "source": [
    "def distr_null_p_reassortant(list_of_hg_graphs):\n",
    "    hg_graph = nx.DiGraph()\n",
    "    for g in list_of_hg_graphs:\n",
    "        hg_graph.add_nodes_from(g.nodes())\n",
    "        for sc, sk, d in g.edges(data=True):\n",
    "            if (sc, sk) not in hg_graph.edges():\n",
    "                hg_graph.add_edge(sc, sk, p_reassortant=[d['p_reassortant']])\n",
    "            else:\n",
    "                hg_graph.edge[sc][sk]['p_reassortant'].append(d['p_reassortant'])\n",
    "    return hg_graph\n",
    "\n",
    "summaryG = distr_null_p_reassortant(results)"
   ]
  },
  {
   "cell_type": "code",
   "execution_count": null,
   "metadata": {
    "collapsed": false
   },
   "outputs": [],
   "source": [
    "summaryG.edges(data=True)"
   ]
  },
  {
   "cell_type": "code",
   "execution_count": null,
   "metadata": {
    "collapsed": false
   },
   "outputs": [],
   "source": [
    "name_map = {'Wild':'W',\n",
    "            'Domestic':'D',\n",
    "            'Human':'H'}\n",
    "names = []\n",
    "means = []\n",
    "stds  = []\n",
    "for sc, sk, d in summaryG.edges(data=True):\n",
    "    if sc == 'Unknown' or sk == 'Unknown':\n",
    "        pass\n",
    "    else:\n",
    "        mean = np.mean(d['p_reassortant'])\n",
    "        std = np.std(d['p_reassortant'])\n",
    "        \n",
    "        names.append('{0}:{1}'.format(name_map[sc], name_map[sk]))\n",
    "        means.append(mean)\n",
    "        stds.append(std)"
   ]
  },
  {
   "cell_type": "code",
   "execution_count": null,
   "metadata": {
    "collapsed": false
   },
   "outputs": [],
   "source": [
    "data = []\n",
    "\n",
    "for sc, sk, d in hg_graph.edges(data=True):\n",
    "    if sc == 'Unknown' or sk == 'Unknown':\n",
    "        pass\n",
    "    else:\n",
    "        data.append(d['p_reassortant'])\n",
    "data"
   ]
  },
  {
   "cell_type": "code",
   "execution_count": null,
   "metadata": {
    "collapsed": false
   },
   "outputs": [],
   "source": [
    "fig = plt.figure(figsize=(4,2))\n",
    "\n",
    "ind = np.arange(len(means))\n",
    "width = 0.35\n",
    "\n",
    "ax = fig.add_subplot(1,1,1)\n",
    "ax.bar(ind, means, width=width, color='blue', label='Null', yerr=np.array(stds)*5, alpha=0.5)\n",
    "ax.bar(ind+width, data, width=width, color='blue', label='Data')\n",
    "ax.set_xticks(ind+width)\n",
    "ax.set_xticklabels(names)\n",
    "ax.set_ylabel('Weighted Proportion\\nReassortant Per Event')\n",
    "ax.set_xlabel('Host Group Transition')\n",
    "ax.legend(loc='upper center')\n",
    "plt.subplots_adjust(left=0.15, right=0.95)\n",
    "plt.savefig('figures/Proportion Reassortant Ecological.pdf')\n",
    "plt.show()"
   ]
  },
  {
   "cell_type": "code",
   "execution_count": null,
   "metadata": {
    "collapsed": false
   },
   "outputs": [],
   "source": [
    "np.array(means) - np.array(data)"
   ]
  },
  {
   "cell_type": "code",
   "execution_count": null,
   "metadata": {
    "collapsed": true
   },
   "outputs": [],
   "source": []
  }
 ],
 "metadata": {
  "kernelspec": {
   "display_name": "Python 3",
   "language": "python",
   "name": "python3"
  },
  "language_info": {
   "codemirror_mode": {
    "name": "ipython",
    "version": 3
   },
   "file_extension": ".py",
   "mimetype": "text/x-python",
   "name": "python",
   "nbconvert_exporter": "python",
   "pygments_lexer": "ipython3",
   "version": "3.4.3"
  }
 },
 "nbformat": 4,
 "nbformat_minor": 0
}
