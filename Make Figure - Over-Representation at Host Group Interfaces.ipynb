{
 "cells": [
  {
   "cell_type": "code",
   "execution_count": 7,
   "metadata": {
    "collapsed": false
   },
   "outputs": [
    {
     "name": "stdout",
     "output_type": "stream",
     "text": [
      "The autoreload extension is already loaded. To reload it, use:\n",
      "  %reload_ext autoreload\n"
     ]
    }
   ],
   "source": [
    "import networkx as nx\n",
    "import seaborn\n",
    "import custom_funcs as cf\n",
    "import matplotlib.pyplot as plt\n",
    "import numpy as np\n",
    "import pandas as pd\n",
    "\n",
    "from joblib import Parallel, delayed\n",
    "from time import time\n",
    "\n",
    "%load_ext autoreload\n",
    "%autoreload 2\n",
    "\n",
    "%matplotlib inline"
   ]
  },
  {
   "cell_type": "code",
   "execution_count": 8,
   "metadata": {
    "collapsed": true
   },
   "outputs": [],
   "source": [
    "# Set Seaborn styles & context\n",
    "seaborn.set_context(\"paper\")\n",
    "seaborn.set_style('white')"
   ]
  },
  {
   "cell_type": "code",
   "execution_count": 26,
   "metadata": {
    "collapsed": false
   },
   "outputs": [],
   "source": [
    "# Read in data and do data pre-processing\n",
    "G = nx.read_gpickle('20150902_all_ird Final Graph.pkl')\n",
    "G = cf.impute_reassortant_status(G)\n",
    "G = cf.impute_host_group_name(G)\n",
    "G = cf.impute_weights(G)\n",
    "G = cf.remove_zero_weighted_edges(G)"
   ]
  },
  {
   "cell_type": "code",
   "execution_count": 27,
   "metadata": {
    "collapsed": false
   },
   "outputs": [
    {
     "data": {
      "text/plain": [
       "{'diff_attr': 0.8131267590611879, 'same_attr': 0.37525262774838164}"
      ]
     },
     "execution_count": 27,
     "metadata": {},
     "output_type": "execute_result"
    }
   ],
   "source": [
    "# Compute proportion reassortant\n",
    "data_props = cf.edge_proportion_reassortant(G, attr='host_group', exclusions=['Unknown'])\n",
    "data_props"
   ]
  },
  {
   "cell_type": "code",
   "execution_count": 28,
   "metadata": {
    "collapsed": false
   },
   "outputs": [
    {
     "name": "stdout",
     "output_type": "stream",
     "text": [
      "252.7673215866089\n"
     ]
    }
   ],
   "source": [
    "start = time()\n",
    "def null_distribution_proportion_reassortant(G):\n",
    "    G_shuffled = cf.shuffle_node_attribute_label(G, 'host_group')\n",
    "    props = cf.edge_proportion_reassortant(G_shuffled, 'host_group', exclusions=['Unknown'])\n",
    "    return props\n",
    "\n",
    "props_null = Parallel(n_jobs=-1)(delayed(null_distribution_proportion_reassortant)(G) for i in range(100))\n",
    "end = time()\n",
    "print(end - start)"
   ]
  },
  {
   "cell_type": "code",
   "execution_count": 29,
   "metadata": {
    "collapsed": false
   },
   "outputs": [
    {
     "data": {
      "text/plain": [
       "diff_attr    0.437238\n",
       "same_attr    0.437345\n",
       "dtype: float64"
      ]
     },
     "execution_count": 29,
     "metadata": {},
     "output_type": "execute_result"
    }
   ],
   "source": [
    "null = pd.DataFrame(props_null)\n",
    "null.mean()"
   ]
  },
  {
   "cell_type": "code",
   "execution_count": 30,
   "metadata": {
    "collapsed": false
   },
   "outputs": [
    {
     "data": {
      "text/plain": [
       "diff_attr    0.813127\n",
       "same_attr    0.375253\n",
       "dtype: float64"
      ]
     },
     "execution_count": 30,
     "metadata": {},
     "output_type": "execute_result"
    }
   ],
   "source": [
    "data = pd.DataFrame([data_props])\n",
    "data.mean()"
   ]
  },
  {
   "cell_type": "code",
   "execution_count": 31,
   "metadata": {
    "collapsed": false
   },
   "outputs": [
    {
     "data": {
      "text/plain": [
       "(0, 1)"
      ]
     },
     "execution_count": 31,
     "metadata": {},
     "output_type": "execute_result"
    },
    {
     "data": {
      "image/png": "[encoded data removed]",
      "text/plain": [
       "<matplotlib.figure.Figure at 0x7f63df5535c0>"
      ]
     },
     "metadata": {},
     "output_type": "display_data"
    }
   ],
   "source": [
    "fig = plt.figure(figsize=(3,2))\n",
    "ax = fig.add_subplot(1,1,1)\n",
    "ind = np.arange(2)\n",
    "width = 0.35\n",
    "\n",
    "ax.bar(ind, null.mean(), width, color='blue', label='Null', alpha=0.5, yerr=null.std()*5)\n",
    "ax.bar(ind+width, data.mean(), width, color='blue', label='Data')\n",
    "ax.set_xticks(ind+width)\n",
    "ax.set_xticklabels(['Different', 'Same'])\n",
    "ax.set_xlabel('Hosts Pair')\n",
    "ax.set_ylabel('Proportion Reassortant')\n",
    "ax.legend()\n",
    "ax.set_ylim(0,1)"
   ]
  },
  {
   "cell_type": "code",
   "execution_count": 32,
   "metadata": {
    "collapsed": false
   },
   "outputs": [],
   "source": [
    "# Between which host groups are they over-represented or under-represented?\n",
    "\n",
    "def host_group_domain_graph(G):\n",
    "    \"\"\"\n",
    "    Computes the proportion of reassortant representation when crossing between host groups.\n",
    "    \"\"\"\n",
    "    hg_graph = nx.DiGraph()\n",
    "\n",
    "    for n, node_d in G.nodes(data=True):\n",
    "\n",
    "        in_edges = G.in_edges(n, data=True)\n",
    "        total_edges = len(in_edges)\n",
    "        is_reassortant = node_d['reassortant']\n",
    "\n",
    "        sk_hg = G.node[n]['host_group']\n",
    "        if sk_hg not in hg_graph.nodes():\n",
    "            hg_graph.add_node(sk_hg)\n",
    "\n",
    "        for sc, _, edge_d in in_edges:\n",
    "            sc_hg = G.node[sc]['host_group']\n",
    "            if sc_hg not in hg_graph.nodes():\n",
    "                hg_graph.add_node(sc_hg)\n",
    "\n",
    "            if (sc_hg, sk_hg) not in hg_graph.edges():\n",
    "                hg_graph.add_edge(sc_hg, sk_hg, total=edge_d['weight'], reassortant=0)\n",
    "            if (sc_hg, sk_hg) in hg_graph.edges():\n",
    "                hg_graph.edge[sc_hg][sk_hg]['total'] += edge_d['weight']\n",
    "\n",
    "            if is_reassortant:\n",
    "                hg_graph.edge[sc_hg][sk_hg]['reassortant'] += edge_d['weight']\n",
    "\n",
    "    for sc, sk, d in hg_graph.edges(data=True):\n",
    "        hg_graph.edge[sc][sk]['p_reassortant'] = d['reassortant'] / d['total']\n",
    "        \n",
    "    return hg_graph\n"
   ]
  },
  {
   "cell_type": "code",
   "execution_count": 33,
   "metadata": {
    "collapsed": false,
    "scrolled": true
   },
   "outputs": [
    {
     "data": {
      "text/plain": [
       "[('Unknown',\n",
       "  'Unknown',\n",
       "  {'p_reassortant': 0.34992983732654215,\n",
       "   'reassortant': 31.75943396226415,\n",
       "   'total': 90.75943396226418}),\n",
       " ('Unknown',\n",
       "  'Human',\n",
       "  {'p_reassortant': 0.8142619208372,\n",
       "   'reassortant': 30.753902341611195,\n",
       "   'total': 37.76905385676263}),\n",
       " ('Unknown',\n",
       "  'Wild',\n",
       "  {'p_reassortant': 0.4377791922143873,\n",
       "   'reassortant': 56.063563288563294,\n",
       "   'total': 128.06356328856327}),\n",
       " ('Unknown',\n",
       "  'Domestic',\n",
       "  {'p_reassortant': 0.5934742300441319,\n",
       "   'reassortant': 71.77687566277555,\n",
       "   'total': 120.94354232944215}),\n",
       " ('Human',\n",
       "  'Unknown',\n",
       "  {'p_reassortant': 0.6313933832407629,\n",
       "   'reassortant': 10.277515723270433,\n",
       "   'total': 16.277515723270433}),\n",
       " ('Human',\n",
       "  'Human',\n",
       "  {'p_reassortant': 0.29653828854238545,\n",
       "   'reassortant': 2284.3332614102724,\n",
       "   'total': 7703.3332614104}),\n",
       " ('Human',\n",
       "  'Wild',\n",
       "  {'p_reassortant': 0.9650554427779903,\n",
       "   'reassortant': 138.9468226948486,\n",
       "   'total': 143.9780726948484}),\n",
       " ('Human',\n",
       "  'Domestic',\n",
       "  {'p_reassortant': 0.7299269840426323,\n",
       "   'reassortant': 386.9368912884348,\n",
       "   'total': 530.1035579550999}),\n",
       " ('Wild',\n",
       "  'Unknown',\n",
       "  {'p_reassortant': 0.5185800669943886,\n",
       "   'reassortant': 93.71540880503154,\n",
       "   'total': 180.71540880503147}),\n",
       " ('Wild',\n",
       "  'Human',\n",
       "  {'p_reassortant': 0.988570043285907,\n",
       "   'reassortant': 443.2581503649505,\n",
       "   'total': 448.3831503649505}),\n",
       " ('Wild',\n",
       "  'Wild',\n",
       "  {'p_reassortant': 0.4998103950452437,\n",
       "   'reassortant': 2042.4503775220917,\n",
       "   'total': 4086.450377522071}),\n",
       " ('Wild',\n",
       "  'Domestic',\n",
       "  {'p_reassortant': 0.763693643619565,\n",
       "   'reassortant': 395.89485774467977,\n",
       "   'total': 518.3948577446787}),\n",
       " ('Domestic',\n",
       "  'Unknown',\n",
       "  {'p_reassortant': 0.6559810363205437,\n",
       "   'reassortant': 97.24764150943471,\n",
       "   'total': 148.2476415094336}),\n",
       " ('Domestic',\n",
       "  'Human',\n",
       "  {'p_reassortant': 0.9078739543861004,\n",
       "   'reassortant': 311.6546858831544,\n",
       "   'total': 343.27968588315065}),\n",
       " ('Domestic',\n",
       "  'Wild',\n",
       "  {'p_reassortant': 0.5844306027484552,\n",
       "   'reassortant': 176.53923649449965,\n",
       "   'total': 302.0704864944999}),\n",
       " ('Domestic',\n",
       "  'Domestic',\n",
       "  {'p_reassortant': 0.3804251591876073,\n",
       "   'reassortant': 1371.3913753040904,\n",
       "   'total': 3604.8913753040883})]"
      ]
     },
     "execution_count": 33,
     "metadata": {},
     "output_type": "execute_result"
    }
   ],
   "source": [
    "hg_graph = host_group_domain_graph(G)\n",
    "hg_graph.edges(data=True)"
   ]
  },
  {
   "cell_type": "code",
   "execution_count": 34,
   "metadata": {
    "collapsed": false
   },
   "outputs": [],
   "source": [
    "def null_proportion_hg_reassortant(G, equally=False):\n",
    "    \n",
    "    G_shuffled = cf.shuffle_node_attribute_label(G, 'host_group', equally)\n",
    "    hg_graph_shuf = host_group_domain_graph(G_shuffled)\n",
    "    \n",
    "    return hg_graph_shuf"
   ]
  },
  {
   "cell_type": "code",
   "execution_count": 35,
   "metadata": {
    "collapsed": false
   },
   "outputs": [
    {
     "name": "stdout",
     "output_type": "stream",
     "text": [
      "56.769312143325806\n"
     ]
    }
   ],
   "source": [
    "start = time()\n",
    "results = Parallel(n_jobs=-1)(delayed(null_proportion_hg_reassortant)(G, equally=True) for i in range(20))\n",
    "len(results)\n",
    "end = time()\n",
    "print(end - start)"
   ]
  },
  {
   "cell_type": "code",
   "execution_count": 36,
   "metadata": {
    "collapsed": false
   },
   "outputs": [],
   "source": [
    "def distr_null_p_reassortant(list_of_hg_graphs):\n",
    "    hg_graph = nx.DiGraph()\n",
    "    for g in list_of_hg_graphs:\n",
    "        hg_graph.add_nodes_from(g.nodes())\n",
    "        for sc, sk, d in g.edges(data=True):\n",
    "            if (sc, sk) not in hg_graph.edges():\n",
    "                hg_graph.add_edge(sc, sk, p_reassortant=[d['p_reassortant']])\n",
    "            else:\n",
    "                hg_graph.edge[sc][sk]['p_reassortant'].append(d['p_reassortant'])\n",
    "    return hg_graph\n",
    "\n",
    "summaryG = distr_null_p_reassortant(results)"
   ]
  },
  {
   "cell_type": "code",
   "execution_count": 37,
   "metadata": {
    "collapsed": false
   },
   "outputs": [
    {
     "data": {
      "text/plain": [
       "[('Human',\n",
       "  'Unknown',\n",
       "  {'p_reassortant': [0.44765736155258085,\n",
       "    0.4212504219128833,\n",
       "    0.4489937342096154,\n",
       "    0.42745719084896067,\n",
       "    0.45318104929083414,\n",
       "    0.43192533612342016,\n",
       "    0.43013404071606315,\n",
       "    0.42986517505200206,\n",
       "    0.4310769853785545,\n",
       "    0.409150573802416,\n",
       "    0.4045036706146926,\n",
       "    0.4209598163757726,\n",
       "    0.4451740254296676,\n",
       "    0.43164358142905435,\n",
       "    0.44047941291669335,\n",
       "    0.399305238540828,\n",
       "    0.41173498459829183,\n",
       "    0.4238335333303615,\n",
       "    0.41353926831674304,\n",
       "    0.44149993315128117]}),\n",
       " ('Human',\n",
       "  'Human',\n",
       "  {'p_reassortant': [0.4340405923947318,\n",
       "    0.41493616400498334,\n",
       "    0.44445955817437605,\n",
       "    0.46046466996462593,\n",
       "    0.4321324314297654,\n",
       "    0.4165611538340237,\n",
       "    0.445372178403419,\n",
       "    0.4338694346313057,\n",
       "    0.43665874409940963,\n",
       "    0.42703295072185987,\n",
       "    0.4295093604877106,\n",
       "    0.4314407867975552,\n",
       "    0.4534197356680384,\n",
       "    0.40030743462537144,\n",
       "    0.45736937355476043,\n",
       "    0.4089157726217619,\n",
       "    0.41567830282457624,\n",
       "    0.44975941024327665,\n",
       "    0.43062511102745427,\n",
       "    0.4487763473350571]}),\n",
       " ('Human',\n",
       "  'Wild',\n",
       "  {'p_reassortant': [0.4150575016423068,\n",
       "    0.4144618942069474,\n",
       "    0.43893458168226074,\n",
       "    0.4327623822322529,\n",
       "    0.44292745406468614,\n",
       "    0.42347023720161614,\n",
       "    0.43502637814969985,\n",
       "    0.4207645432992203,\n",
       "    0.41973926759125946,\n",
       "    0.43518190919994293,\n",
       "    0.41434326405250865,\n",
       "    0.4172190878430245,\n",
       "    0.4299342400339816,\n",
       "    0.41358163601485265,\n",
       "    0.4291446146978899,\n",
       "    0.4059214448038044,\n",
       "    0.4222657438012381,\n",
       "    0.44846079020987845,\n",
       "    0.4267882229376603,\n",
       "    0.4580952588574215]}),\n",
       " ('Human',\n",
       "  'Domestic',\n",
       "  {'p_reassortant': [0.44727943200794185,\n",
       "    0.4265137910782704,\n",
       "    0.4436132854229141,\n",
       "    0.41945875256002757,\n",
       "    0.4170875515074024,\n",
       "    0.41420934774860296,\n",
       "    0.44017774028498186,\n",
       "    0.4344778672426697,\n",
       "    0.4358000425174071,\n",
       "    0.4347163445592337,\n",
       "    0.42392358704462035,\n",
       "    0.415021301214028,\n",
       "    0.44297843786956564,\n",
       "    0.40147677670130566,\n",
       "    0.4522485451554754,\n",
       "    0.4165167260780945,\n",
       "    0.409344424698745,\n",
       "    0.42835147670041424,\n",
       "    0.4405424662529857,\n",
       "    0.44930975675748824]}),\n",
       " ('Unknown',\n",
       "  'Human',\n",
       "  {'p_reassortant': [0.44281446756248266,\n",
       "    0.43469369158547405,\n",
       "    0.45321578430634685,\n",
       "    0.4417592244058783,\n",
       "    0.4273332197280916,\n",
       "    0.44077102591069206,\n",
       "    0.42201735134774826,\n",
       "    0.42355855878225174,\n",
       "    0.4342095842009651,\n",
       "    0.4178254455741577,\n",
       "    0.4342309212506472,\n",
       "    0.43181490574607334,\n",
       "    0.412601935039153,\n",
       "    0.44266479674475273,\n",
       "    0.43223991330837475,\n",
       "    0.439969947794197,\n",
       "    0.43614534935985205,\n",
       "    0.44458937149063066,\n",
       "    0.44040707830580694,\n",
       "    0.4261591793982254]}),\n",
       " ('Unknown',\n",
       "  'Unknown',\n",
       "  {'p_reassortant': [0.4259260975590036,\n",
       "    0.4559532269654742,\n",
       "    0.4368065452702346,\n",
       "    0.4601951502220941,\n",
       "    0.43811409669026974,\n",
       "    0.4253364976470601,\n",
       "    0.4197105016881956,\n",
       "    0.4254934669628248,\n",
       "    0.4236553600066566,\n",
       "    0.43145798611721725,\n",
       "    0.4361154659580064,\n",
       "    0.4427816484368473,\n",
       "    0.42737240728768344,\n",
       "    0.4471492002889256,\n",
       "    0.40868620483227813,\n",
       "    0.4586089136885088,\n",
       "    0.4334655725645496,\n",
       "    0.42756598983046734,\n",
       "    0.4410881499388097,\n",
       "    0.4359113101581063]}),\n",
       " ('Unknown',\n",
       "  'Wild',\n",
       "  {'p_reassortant': [0.41395102888658214,\n",
       "    0.4524200958995709,\n",
       "    0.4310908606368047,\n",
       "    0.4553299149494189,\n",
       "    0.4251672725692723,\n",
       "    0.4475731291645776,\n",
       "    0.43676884992458714,\n",
       "    0.4431352612015987,\n",
       "    0.40888079495104496,\n",
       "    0.4333677252319275,\n",
       "    0.4463763390448123,\n",
       "    0.44037261649693826,\n",
       "    0.44011031274049534,\n",
       "    0.460379402847837,\n",
       "    0.40895255163216254,\n",
       "    0.4369564842383758,\n",
       "    0.4341720174711008,\n",
       "    0.4433228802455256,\n",
       "    0.45069221166285445,\n",
       "    0.4258475118704927]}),\n",
       " ('Unknown',\n",
       "  'Domestic',\n",
       "  {'p_reassortant': [0.43763191474406593,\n",
       "    0.4100200893427222,\n",
       "    0.45261053647899974,\n",
       "    0.45495692509410146,\n",
       "    0.43717271905550187,\n",
       "    0.42183108150927096,\n",
       "    0.45211491893469336,\n",
       "    0.45691119969307886,\n",
       "    0.4312121101688501,\n",
       "    0.42209402872693363,\n",
       "    0.4428038377197284,\n",
       "    0.4543317173600433,\n",
       "    0.453705730281173,\n",
       "    0.42668926685275654,\n",
       "    0.42395281244823674,\n",
       "    0.4487104292011755,\n",
       "    0.4538588429249811,\n",
       "    0.43536177002959414,\n",
       "    0.44191412903382415,\n",
       "    0.42925200925458584]}),\n",
       " ('Wild',\n",
       "  'Unknown',\n",
       "  {'p_reassortant': [0.41819031938147183,\n",
       "    0.42012562729375424,\n",
       "    0.4250985704549766,\n",
       "    0.4104744813742722,\n",
       "    0.42766565011492597,\n",
       "    0.45279822443036954,\n",
       "    0.4112740569023385,\n",
       "    0.43720189180098584,\n",
       "    0.43033222811180694,\n",
       "    0.41388621298797956,\n",
       "    0.4177878171599885,\n",
       "    0.4461626600716275,\n",
       "    0.41357365732145995,\n",
       "    0.45584353074409806,\n",
       "    0.4353625316104799,\n",
       "    0.45179134742777066,\n",
       "    0.4475848295754787,\n",
       "    0.40838148239176575,\n",
       "    0.4263824059414021,\n",
       "    0.4079914190747391]}),\n",
       " ('Wild',\n",
       "  'Human',\n",
       "  {'p_reassortant': [0.42266233694910166,\n",
       "    0.455454600925099,\n",
       "    0.40557343683084734,\n",
       "    0.43329421149914893,\n",
       "    0.4481043860691687,\n",
       "    0.42131930307830495,\n",
       "    0.4206615862684453,\n",
       "    0.43288768976593645,\n",
       "    0.43726210311279573,\n",
       "    0.41648988300623063,\n",
       "    0.43323042235322545,\n",
       "    0.42518686735708516,\n",
       "    0.4364919448949304,\n",
       "    0.4222309700703347,\n",
       "    0.42424440342951525,\n",
       "    0.4347505288920234,\n",
       "    0.43036279452277837,\n",
       "    0.433696895156905,\n",
       "    0.4233961334961437,\n",
       "    0.4232067186458442]}),\n",
       " ('Wild',\n",
       "  'Wild',\n",
       "  {'p_reassortant': [0.41682294440949746,\n",
       "    0.43939125411574825,\n",
       "    0.4245219096715099,\n",
       "    0.43001598169539235,\n",
       "    0.41623902098874416,\n",
       "    0.45325583055252056,\n",
       "    0.4265080948475191,\n",
       "    0.4370986268884247,\n",
       "    0.42349645815562287,\n",
       "    0.4223803418949865,\n",
       "    0.44614292426667623,\n",
       "    0.44477050515997235,\n",
       "    0.42048111119785164,\n",
       "    0.4414585374491552,\n",
       "    0.43080197090737443,\n",
       "    0.433337167529734,\n",
       "    0.4381780243200602,\n",
       "    0.3989517817125391,\n",
       "    0.42402440412644055,\n",
       "    0.41491998185871787]}),\n",
       " ('Wild',\n",
       "  'Domestic',\n",
       "  {'p_reassortant': [0.4182267029276532,\n",
       "    0.4295621616166752,\n",
       "    0.41494849484372887,\n",
       "    0.4146484660621837,\n",
       "    0.41872558521543213,\n",
       "    0.4284572549189879,\n",
       "    0.41687304350144394,\n",
       "    0.4543967091688872,\n",
       "    0.4298701555231586,\n",
       "    0.43036402173128874,\n",
       "    0.45145566147656224,\n",
       "    0.43660434936227216,\n",
       "    0.4251375400902223,\n",
       "    0.43608688192849215,\n",
       "    0.44919071001732885,\n",
       "    0.43796863545713316,\n",
       "    0.4409159991508237,\n",
       "    0.4179429166627964,\n",
       "    0.4175011356798985,\n",
       "    0.4097425396387027]}),\n",
       " ('Domestic',\n",
       "  'Human',\n",
       "  {'p_reassortant': [0.44052734837508667,\n",
       "    0.44530418303699526,\n",
       "    0.43720141389294814,\n",
       "    0.4222094516812771,\n",
       "    0.41535341479587207,\n",
       "    0.43763652361957867,\n",
       "    0.41054100181764697,\n",
       "    0.4330265088689636,\n",
       "    0.4428950725369354,\n",
       "    0.45925230476751167,\n",
       "    0.43744064122038806,\n",
       "    0.4321009957943878,\n",
       "    0.4119243015990894,\n",
       "    0.4303667891233936,\n",
       "    0.4196532008626342,\n",
       "    0.43338457183826296,\n",
       "    0.46197233705156415,\n",
       "    0.4489162218809125,\n",
       "    0.4241169601531685,\n",
       "    0.4243646187413244]}),\n",
       " ('Domestic',\n",
       "  'Unknown',\n",
       "  {'p_reassortant': [0.43748131448101835,\n",
       "    0.43270757262417303,\n",
       "    0.4190517925879735,\n",
       "    0.4049477298920317,\n",
       "    0.44670985127050533,\n",
       "    0.42120122918793684,\n",
       "    0.46486173755420807,\n",
       "    0.4128462745784219,\n",
       "    0.44125647820726993,\n",
       "    0.4593501891663556,\n",
       "    0.4152317558197533,\n",
       "    0.4182177595309261,\n",
       "    0.42558783550065726,\n",
       "    0.4331830746909195,\n",
       "    0.4365636013776435,\n",
       "    0.4484179209859647,\n",
       "    0.4152885867246935,\n",
       "    0.42751807605732867,\n",
       "    0.42956446011837207,\n",
       "    0.4216745317643848]}),\n",
       " ('Domestic',\n",
       "  'Wild',\n",
       "  {'p_reassortant': [0.4434795465629379,\n",
       "    0.43833564974556155,\n",
       "    0.4070981965567585,\n",
       "    0.4316795797478306,\n",
       "    0.4462323012947703,\n",
       "    0.4277483945982172,\n",
       "    0.43709126817027016,\n",
       "    0.40123877857893164,\n",
       "    0.4482138419223241,\n",
       "    0.44558159493098987,\n",
       "    0.4386115868737572,\n",
       "    0.40794938501289557,\n",
       "    0.44452159112088757,\n",
       "    0.4189023939130822,\n",
       "    0.4194944915752595,\n",
       "    0.4167657331295981,\n",
       "    0.4330472217177747,\n",
       "    0.4356658240444627,\n",
       "    0.4431719127353997,\n",
       "    0.43931300705467957]}),\n",
       " ('Domestic',\n",
       "  'Domestic',\n",
       "  {'p_reassortant': [0.44600925064687397,\n",
       "    0.4208586187195718,\n",
       "    0.420864328733113,\n",
       "    0.4140808998075904,\n",
       "    0.4149199846819861,\n",
       "    0.44274645225232645,\n",
       "    0.4408907427476189,\n",
       "    0.43211940558782963,\n",
       "    0.4350956680486193,\n",
       "    0.4506078185595544,\n",
       "    0.4364606636245515,\n",
       "    0.437969419637404,\n",
       "    0.42356764587786566,\n",
       "    0.4463718951736195,\n",
       "    0.4350870607097085,\n",
       "    0.44395589120371115,\n",
       "    0.4284843853296859,\n",
       "    0.43083431146363227,\n",
       "    0.4377727745032578,\n",
       "    0.450480754037416]})]"
      ]
     },
     "execution_count": 37,
     "metadata": {},
     "output_type": "execute_result"
    }
   ],
   "source": [
    "summaryG.edges(data=True)"
   ]
  },
  {
   "cell_type": "code",
   "execution_count": 38,
   "metadata": {
    "collapsed": false
   },
   "outputs": [],
   "source": [
    "name_map = {'Wild':'W',\n",
    "            'Domestic':'D',\n",
    "            'Human':'H'}\n",
    "names = []\n",
    "means = []\n",
    "stds  = []\n",
    "for sc, sk, d in summaryG.edges(data=True):\n",
    "    if sc == 'Unknown' or sk == 'Unknown':\n",
    "        pass\n",
    "    else:\n",
    "        mean = np.mean(d['p_reassortant'])\n",
    "        std = np.std(d['p_reassortant'])\n",
    "        \n",
    "        names.append('{0}:{1}'.format(name_map[sc], name_map[sk]))\n",
    "        means.append(mean)\n",
    "        stds.append(std)"
   ]
  },
  {
   "cell_type": "code",
   "execution_count": 39,
   "metadata": {
    "collapsed": false
   },
   "outputs": [
    {
     "data": {
      "text/plain": [
       "[0.29653828854238545,\n",
       " 0.9650554427779903,\n",
       " 0.7299269840426323,\n",
       " 0.988570043285907,\n",
       " 0.4998103950452437,\n",
       " 0.763693643619565,\n",
       " 0.9078739543861004,\n",
       " 0.5844306027484552,\n",
       " 0.3804251591876073]"
      ]
     },
     "execution_count": 39,
     "metadata": {},
     "output_type": "execute_result"
    }
   ],
   "source": [
    "data = []\n",
    "\n",
    "for sc, sk, d in hg_graph.edges(data=True):\n",
    "    if sc == 'Unknown' or sk == 'Unknown':\n",
    "        pass\n",
    "    else:\n",
    "        data.append(d['p_reassortant'])\n",
    "data"
   ]
  },
  {
   "cell_type": "code",
   "execution_count": 40,
   "metadata": {
    "collapsed": false
   },
   "outputs": [
    {
     "data": {
      "image/png": "[encoded data removed]",
      "text/plain": [
       "<matplotlib.figure.Figure at 0x7f63df553710>"
      ]
     },
     "metadata": {},
     "output_type": "display_data"
    }
   ],
   "source": [
    "fig = plt.figure(figsize=(4,2))\n",
    "\n",
    "ind = np.arange(len(means))\n",
    "width = 0.35\n",
    "\n",
    "ax = fig.add_subplot(1,1,1)\n",
    "ax.bar(ind, means, width=width, color='blue', label='Null', yerr=np.array(stds)*5, alpha=0.5)\n",
    "ax.bar(ind+width, data, width=width, color='blue', label='Data')\n",
    "ax.set_xticks(ind+width)\n",
    "ax.set_xticklabels(names)\n",
    "ax.set_ylabel('Weighted Proportion\\nReassortant Per Event')\n",
    "ax.set_xlabel('Host Group Transition')\n",
    "ax.legend(loc='upper center')\n",
    "plt.subplots_adjust(left=0.15, right=0.95)\n",
    "plt.savefig('figures/Proportion Reassortant Ecological.pdf')\n",
    "plt.show()"
   ]
  },
  {
   "cell_type": "code",
   "execution_count": 41,
   "metadata": {
    "collapsed": false
   },
   "outputs": [
    {
     "data": {
      "text/plain": [
       "array([ 0.13702819, -0.53785142, -0.3002746 , -0.55954468, -0.07067055,\n",
       "       -0.3347627 , -0.47446456, -0.15322349,  0.05403374])"
      ]
     },
     "execution_count": 41,
     "metadata": {},
     "output_type": "execute_result"
    }
   ],
   "source": [
    "np.array(means) - np.array(data)"
   ]
  },
  {
   "cell_type": "code",
   "execution_count": null,
   "metadata": {
    "collapsed": true
   },
   "outputs": [],
   "source": []
  }
 ],
 "metadata": {
  "kernelspec": {
   "display_name": "Python 3",
   "language": "python",
   "name": "python3"
  },
  "language_info": {
   "codemirror_mode": {
    "name": "ipython",
    "version": 3
   },
   "file_extension": ".py",
   "mimetype": "text/x-python",
   "name": "python",
   "nbconvert_exporter": "python",
   "pygments_lexer": "ipython3",
   "version": "3.4.3"
  }
 },
 "nbformat": 4,
 "nbformat_minor": 0
}
