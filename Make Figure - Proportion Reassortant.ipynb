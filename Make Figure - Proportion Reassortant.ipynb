{
 "cells": [
  {
   "cell_type": "code",
   "execution_count": 319,
   "metadata": {
    "collapsed": false
   },
   "outputs": [
    {
     "name": "stdout",
     "output_type": "stream",
     "text": [
      "The autoreload extension is already loaded. To reload it, use:\n",
      "  %reload_ext autoreload\n"
     ]
    }
   ],
   "source": [
    "import networkx as nx\n",
    "import custom_funcs as cf\n",
    "import pandas as pd\n",
    "import matplotlib.pyplot as plt\n",
    "import numpy as np\n",
    "import seaborn\n",
    "\n",
    "from time import time\n",
    "from collections import defaultdict, Counter\n",
    "from joblib import Parallel, delayed\n",
    "from Bio import SeqIO\n",
    "from Levenshtein import distance\n",
    "from random import shuffle\n",
    "\n",
    "%load_ext autoreload\n",
    "%autoreload 2\n",
    "\n",
    "%matplotlib inline"
   ]
  },
  {
   "cell_type": "code",
   "execution_count": 320,
   "metadata": {
    "collapsed": false
   },
   "outputs": [],
   "source": [
    "# Read in the graph data and clean it.\n",
    "G = nx.read_gpickle('20150902_all_ird Final Graph.pkl')\n",
    "G = cf.clean_host_species_names(G)\n",
    "G = cf.impute_reassortant_status(G)\n",
    "G = cf.impute_weights(G)\n",
    "G = cf.remove_zero_weighted_edges(G)"
   ]
  },
  {
   "cell_type": "code",
   "execution_count": 321,
   "metadata": {
    "collapsed": false
   },
   "outputs": [
    {
     "data": {
      "text/plain": [
       "152"
      ]
     },
     "execution_count": 321,
     "metadata": {},
     "output_type": "execute_result"
    }
   ],
   "source": [
    "all_hosts = set([d['host_species'] for n, d in G.nodes(data=True)])\n",
    "len(all_hosts)"
   ]
  },
  {
   "cell_type": "code",
   "execution_count": 322,
   "metadata": {
    "collapsed": false,
    "scrolled": true
   },
   "outputs": [
    {
     "data": {
      "text/plain": [
       "25683"
      ]
     },
     "execution_count": 322,
     "metadata": {},
     "output_type": "execute_result"
    }
   ],
   "source": [
    "len(G.edges())"
   ]
  },
  {
   "cell_type": "code",
   "execution_count": 323,
   "metadata": {
    "collapsed": false
   },
   "outputs": [
    {
     "data": {
      "text/plain": [
       "{'full_complement': {'diff_attr': 3114.633333333333,\n",
       "  'same_attr': 13106.366666666665},\n",
       " 'reassortant': {'diff_attr': 1456.0404761904758,\n",
       "  'same_attr': 735.9595238095237}}"
      ]
     },
     "execution_count": 323,
     "metadata": {},
     "output_type": "execute_result"
    }
   ],
   "source": [
    "cf.count_edges(G, attr='host_species')"
   ]
  },
  {
   "cell_type": "markdown",
   "metadata": {},
   "source": [
    "# Compute propotion of edges reassortant same vs. different"
   ]
  },
  {
   "cell_type": "code",
   "execution_count": 325,
   "metadata": {
    "collapsed": false
   },
   "outputs": [
    {
     "data": {
      "text/plain": [
       "{'diff_attr': 0.3185614499893993, 'same_attr': 0.05316732994746788}"
      ]
     },
     "execution_count": 325,
     "metadata": {},
     "output_type": "execute_result"
    }
   ],
   "source": [
    "# Proportion reassortant in data\n",
    "data_props = cf.edge_proportion_reassortant(G, attr='host_species')\n",
    "data_props"
   ]
  },
  {
   "cell_type": "code",
   "execution_count": 326,
   "metadata": {
    "collapsed": false
   },
   "outputs": [
    {
     "name": "stdout",
     "output_type": "stream",
     "text": [
      "192.54753994941711\n"
     ]
    }
   ],
   "source": [
    "# Proportion reassortant under null\n",
    "excluded_hosts = ['Aquatic Bird', 'Avian', 'Bird', 'Duck', 'Environment', 'Mallard-Black Duck Hybrid', 'Sea Mammal', \n",
    "                  'Unknown', 'Waterfowl']\n",
    "start = time()\n",
    "def null_distribution_proportion_reassortant(G, equally=False):\n",
    "    G_shuffled = cf.shuffle_node_attribute_label(G, 'host_species', equally)\n",
    "    props = cf.edge_proportion_reassortant(G_shuffled, 'host_species', exclusions=excluded_hosts)\n",
    "    return props\n",
    "\n",
    "props_null = Parallel(n_jobs=-1)(delayed(null_distribution_proportion_reassortant)(G, equally=True) for i in range(100))\n",
    "end = time()\n",
    "print(end - start)"
   ]
  },
  {
   "cell_type": "code",
   "execution_count": 327,
   "metadata": {
    "collapsed": false
   },
   "outputs": [
    {
     "data": {
      "text/plain": [
       "diff_attr    0.124742\n",
       "same_attr    0.125768\n",
       "dtype: float64"
      ]
     },
     "execution_count": 327,
     "metadata": {},
     "output_type": "execute_result"
    }
   ],
   "source": [
    "null = pd.DataFrame(props_null)\n",
    "null.mean()"
   ]
  },
  {
   "cell_type": "code",
   "execution_count": 328,
   "metadata": {
    "collapsed": false
   },
   "outputs": [
    {
     "data": {
      "text/plain": [
       "diff_attr    0.318561\n",
       "same_attr    0.053167\n",
       "dtype: float64"
      ]
     },
     "execution_count": 328,
     "metadata": {},
     "output_type": "execute_result"
    }
   ],
   "source": [
    "data = pd.DataFrame([data_props])\n",
    "data.mean()"
   ]
  },
  {
   "cell_type": "code",
   "execution_count": 329,
   "metadata": {
    "collapsed": false
   },
   "outputs": [
    {
     "name": "stderr",
     "output_type": "stream",
     "text": [
      "/home/ericmjl/anaconda3/lib/python3.4/site-packages/matplotlib/collections.py:590: FutureWarning: elementwise comparison failed; returning scalar instead, but in the future will perform elementwise comparison\n",
      "  if self._edgecolors == str('face'):\n"
     ]
    },
    {
     "data": {
      "image/png": "[encoded data removed]",
      "text/plain": [
       "<matplotlib.figure.Figure at 0x7f2fcb0a0550>"
      ]
     },
     "metadata": {},
     "output_type": "display_data"
    }
   ],
   "source": [
    "seaborn.set_context(\"paper\")\n",
    "seaborn.set_style('white')\n",
    "\n",
    "fig1 = plt.figure(figsize=(3,2))\n",
    "ax1 = fig1.add_subplot(1,1,1)\n",
    "ind = np.arange(2)\n",
    "width = 0.35\n",
    "\n",
    "ax1.bar(ind, null.mean(), width, color='blue', label='Null', alpha=0.5, yerr=null.std()*3)\n",
    "ax1.bar(ind+width, data.mean(), width, color='blue', label='Data')\n",
    "ax1.set_xticks(ind+width)\n",
    "ax1.set_xticklabels(['Different', 'Same'])\n",
    "ax1.set_xlabel('Hosts Pair')\n",
    "ax1.set_ylabel('Weighted Proportion\\nReassortant Per Event')\n",
    "ax1.legend()\n",
    "plt.subplots_adjust(left=0.2, bottom=0.2)\n",
    "plt.savefig('figures/Proportion Reassortant.pdf')"
   ]
  },
  {
   "cell_type": "markdown",
   "metadata": {
    "collapsed": true
   },
   "source": [
    "# Compute proportion of reassortant by host class\n",
    "\n",
    "Host classes:\n",
    "\n",
    "- Wild bird\n",
    "- Wild mammal\n",
    "- Domestic bird\n",
    "- Domestic mammal\n",
    "- Human"
   ]
  },
  {
   "cell_type": "code",
   "execution_count": 330,
   "metadata": {
    "collapsed": false,
    "scrolled": true
   },
   "outputs": [
    {
     "data": {
      "text/plain": [
       "Habitat/setting        Wild\n",
       "Bird, Mammal, Human    Bird\n",
       "Name: American Black Duck, dtype: object"
      ]
     },
     "execution_count": 330,
     "metadata": {},
     "output_type": "execute_result"
    }
   ],
   "source": [
    "# Open the bird vs. mammal CSV file\n",
    "\n",
    "host_classes = pd.read_csv('host_groups.csv').drop_duplicates()\n",
    "# I suspected there may have been duplicates, so I added the drop_duplicates() function call.\n",
    "host_classes.set_index(['Country', 'Species'], inplace=True)\n",
    "host_classes.ix['Canada'].ix['American Black Duck']"
   ]
  },
  {
   "cell_type": "code",
   "execution_count": 331,
   "metadata": {
    "collapsed": false,
    "scrolled": false
   },
   "outputs": [],
   "source": [
    "# Impute each node with the appropriate metadata. We will create a new node field: \"host_class\".\n",
    "\n",
    "# The try/except coding pattern allows me to iteratively identify things for which we have no labels yet.\n",
    "\n",
    "for n, d in G.nodes(data=True):\n",
    "    c = d['country']\n",
    "    s = d['host_species']\n",
    "    try:\n",
    "        hc = host_classes.ix[c].ix[s]\n",
    "        habt = hc['Habitat/setting']\n",
    "        host = hc['Bird, Mammal, Human']\n",
    "\n",
    "        host_class = habt + ' ' + host\n",
    "        G.node[n]['host_class'] = host_class\n",
    "    except:\n",
    "        print(c,s)"
   ]
  },
  {
   "cell_type": "code",
   "execution_count": 332,
   "metadata": {
    "collapsed": false
   },
   "outputs": [
    {
     "data": {
      "text/plain": [
       "{'diff_attr': 0.3102622814321399, 'same_attr': 0.10083275503122831}"
      ]
     },
     "execution_count": 332,
     "metadata": {},
     "output_type": "execute_result"
    }
   ],
   "source": [
    "data_props = cf.edge_proportion_reassortant(G, attr='host_class')\n",
    "data_props"
   ]
  },
  {
   "cell_type": "code",
   "execution_count": 333,
   "metadata": {
    "collapsed": true
   },
   "outputs": [],
   "source": [
    "# A function that computes the proportion reassortant across different node attributes.\n",
    "\n",
    "def counts_reassortant_domain_graph(G, node_attr):\n",
    "    \"\"\"\n",
    "    Computes the weighted counts of reassortant edges when going between different node attributes.\n",
    "    \n",
    "    Returns a \"domain graph\" with counts of weighted reasosrtant edges and sum weighted edges.\n",
    "    \"\"\"\n",
    "    hg_graph = nx.DiGraph()\n",
    "\n",
    "    for n, node_d in G.nodes(data=True):\n",
    "\n",
    "        in_edges = G.in_edges(n, data=True)\n",
    "        total_edges = len(in_edges)\n",
    "        is_reassortant = node_d['reassortant']\n",
    "\n",
    "        sk_hg = G.node[n][node_attr]\n",
    "        if sk_hg not in hg_graph.nodes():\n",
    "            hg_graph.add_node(sk_hg)\n",
    "\n",
    "        for sc, _, edge_d in in_edges:\n",
    "            sc_hg = G.node[sc][node_attr]\n",
    "            if sc_hg not in hg_graph.nodes():\n",
    "                hg_graph.add_node(sc_hg)\n",
    "\n",
    "            if (sc_hg, sk_hg) not in hg_graph.edges():\n",
    "                hg_graph.add_edge(sc_hg, sk_hg, total=edge_d['weight'], reassortant=0)\n",
    "            if (sc_hg, sk_hg) in hg_graph.edges():\n",
    "                hg_graph.edge[sc_hg][sk_hg]['total'] += edge_d['weight']\n",
    "\n",
    "            if is_reassortant:\n",
    "                hg_graph.edge[sc_hg][sk_hg]['reassortant'] += edge_d['weight']\n",
    "\n",
    "    for sc, sk, d in hg_graph.edges(data=True):\n",
    "        hg_graph.edge[sc][sk]['p_reassortant'] = d['reassortant'] / d['total']\n",
    "        \n",
    "    return hg_graph\n"
   ]
  },
  {
   "cell_type": "code",
   "execution_count": 334,
   "metadata": {
    "collapsed": false,
    "scrolled": true
   },
   "outputs": [],
   "source": [
    "# Compute the proportion reassortant across different host class pairs.\n",
    "hg = counts_reassortant_domain_graph(G, 'host_class')\n",
    "# We will ignore edges that involve \"unknown\" hosts.\n",
    "for n in hg.nodes():\n",
    "    if 'Unknown' in n:\n",
    "        hg.remove_node(n)\n",
    "# hg.edges(data=True)"
   ]
  },
  {
   "cell_type": "code",
   "execution_count": null,
   "metadata": {
    "collapsed": true
   },
   "outputs": [],
   "source": [
    "# A helper function for computing the null distribution.\n",
    "def null_proportion_domain_graph_reassortant(G, node_attr, equally=False):\n",
    "    \n",
    "    G_shuffled = cf.shuffle_node_attribute_label(G, node_attr, equally)\n",
    "    hg_graph_shuf = counts_reassortant_domain_graph(G_shuffled, node_attr)\n",
    "    \n",
    "    return hg_graph_shuf"
   ]
  },
  {
   "cell_type": "code",
   "execution_count": null,
   "metadata": {
    "collapsed": false
   },
   "outputs": [],
   "source": [
    "# Compute the null distribution.\n",
    "### CAUTION! YOU WILL HAVE TO WAIT 3 MINUTES FOR THIS TO FINISH!\n",
    "start = time()\n",
    "results = Parallel(n_jobs=-1)(delayed(null_proportion_domain_graph_reassortant)(G, 'host_class', equally=True) for i in range(100))\n",
    "len(results)\n",
    "end = time()\n",
    "print(end - start)"
   ]
  },
  {
   "cell_type": "code",
   "execution_count": null,
   "metadata": {
    "collapsed": false
   },
   "outputs": [],
   "source": [
    "# Summarize the proportion reassortant distribution under null.\n",
    "def distr_null_p_reassortant(list_of_hg_graphs):\n",
    "    hg_graph = nx.DiGraph()\n",
    "    for g in list_of_hg_graphs:\n",
    "        hg_graph.add_nodes_from(g.nodes())\n",
    "        for sc, sk, d in g.edges(data=True):\n",
    "            if (sc, sk) not in hg_graph.edges():\n",
    "                hg_graph.add_edge(sc, sk, p_reassortant=[d['p_reassortant']])\n",
    "            else:\n",
    "                hg_graph.edge[sc][sk]['p_reassortant'].append(d['p_reassortant'])\n",
    "    return hg_graph\n",
    "\n",
    "summaryG = distr_null_p_reassortant(results)"
   ]
  },
  {
   "cell_type": "code",
   "execution_count": null,
   "metadata": {
    "collapsed": false
   },
   "outputs": [],
   "source": [
    "# Remove \"unknowns\" from consideration\n",
    "for n, d in summaryG.nodes(data=True):\n",
    "    if 'Unknown' in n:\n",
    "        summaryG.remove_node(n)\n",
    "summaryG.nodes(data=True)"
   ]
  },
  {
   "cell_type": "code",
   "execution_count": null,
   "metadata": {
    "collapsed": false
   },
   "outputs": [],
   "source": [
    "# Grab out the \"null\" model statistics.\n",
    "means = []\n",
    "stds  = []\n",
    "names = []\n",
    "name_map = {'Domestic Bird': 'DB',\n",
    "            'Wild Bird': 'WB',\n",
    "            'Human Human': 'H',\n",
    "            'Domestic Mammal': 'DM',\n",
    "            'Wild Mammal': 'WM'}\n",
    "\n",
    "for sc, sk, d in sorted(summaryG.edges(data=True), key=lambda x:(x[0], x[1])):\n",
    "    mean = np.mean(d['p_reassortant'])\n",
    "    std = np.std(d['p_reassortant'])\n",
    "\n",
    "    names.append('{0}:{1}'.format(name_map[sc], name_map[sk]))\n",
    "    means.append(mean)\n",
    "    stds.append(std)"
   ]
  },
  {
   "cell_type": "code",
   "execution_count": null,
   "metadata": {
    "collapsed": false,
    "scrolled": true
   },
   "outputs": [],
   "source": [
    "# Compile the \"data\" statistics.\n",
    "data = []\n",
    "names_data = []\n",
    "for sc, sk, d in sorted(hg.edges(data=True), key=lambda x:(x[0], x[1])):\n",
    "    if sc == 'Unknown' or sk == 'Unknown':\n",
    "        pass\n",
    "    else:\n",
    "        names_data.append('{0}:{1}'.format(name_map[sc], name_map[sk]))\n",
    "        data.append(d['p_reassortant'])\n",
    "data"
   ]
  },
  {
   "cell_type": "code",
   "execution_count": null,
   "metadata": {
    "collapsed": false
   },
   "outputs": [],
   "source": [
    "# Plot data vs. null model.\n",
    "fig = plt.figure(figsize=(8,2))\n",
    "\n",
    "ind = np.arange(len(means))\n",
    "width = 0.35\n",
    "\n",
    "ax = fig.add_subplot(1,1,1)\n",
    "ax.bar(ind, means, width=width, color='blue', label='Null', yerr=np.array(stds)*3, alpha=0.5)\n",
    "ax.bar(ind+width, data, width=width, color='blue', label='Data')\n",
    "ax.set_xticks(ind+width)\n",
    "ax.set_xticklabels(names, rotation=45, ha='right')\n",
    "ax.set_ylabel('Weighted Proportion\\nReassortant Per Event')\n",
    "ax.set_xlabel('Host Group Transition')\n",
    "ax.legend(loc='upper center')\n",
    "plt.subplots_adjust(left=0.15, right=0.95, bottom=0.22)\n",
    "plt.savefig('figures/Proportion Reassortant Ecological.pdf')\n",
    "plt.show()"
   ]
  },
  {
   "cell_type": "markdown",
   "metadata": {},
   "source": [
    "# Compute proportion reassortant over different host COI distances"
   ]
  },
  {
   "cell_type": "code",
   "execution_count": null,
   "metadata": {
    "collapsed": false
   },
   "outputs": [],
   "source": [
    "# Open the host COI data\n",
    "host_coi = [s for s in SeqIO.parse('host_coi_trimmed.fasta', 'fasta')]\n",
    "# Modify the SeqRecord ID such that it only contains the host species name.\n",
    "for s in host_coi:\n",
    "    s.id = s.id.split('.')[0].replace('_', ' ')\n",
    "host_coi = SeqIO.to_dict(host_coi)\n",
    "host_coi"
   ]
  },
  {
   "cell_type": "code",
   "execution_count": null,
   "metadata": {
    "collapsed": false
   },
   "outputs": [],
   "source": [
    "# Figure out which sequences have gaps. I suspect that the alignment quality might be compromised by those sequences.\n",
    "ignored = []\n",
    "for k, sequence in host_coi.items():\n",
    "    if '-' in str(sequence.seq):\n",
    "        ignored.append(k)\n",
    "#         print(sequence.seq)\n",
    "ignored"
   ]
  },
  {
   "cell_type": "code",
   "execution_count": null,
   "metadata": {
    "collapsed": false
   },
   "outputs": [],
   "source": [
    "# Impute the COI sequence based on the host species name, ignoring the sequences that have gaps in them. \n",
    "for n, d in G.nodes(data=True):    \n",
    "    try:\n",
    "        hs = d['host_species']\n",
    "        assert hs not in ignored\n",
    "        G.node[n]['coi_sequence'] = host_coi[hs]\n",
    "    except:\n",
    "        G.node[n]['coi_sequence'] = None"
   ]
  },
  {
   "cell_type": "code",
   "execution_count": null,
   "metadata": {
    "collapsed": false
   },
   "outputs": [],
   "source": [
    "# Compute proportion under data. \n",
    "data = dict()\n",
    "\n",
    "bins = np.arange(0,0.3,0.02)\n",
    "for b in bins:\n",
    "    data[b] = dict()\n",
    "    data[b]['reassortant'] = 0\n",
    "    data[b]['clonal'] = 0\n",
    "\n",
    "for sc, sk, d in G.edges(data=True):\n",
    "    sc_coi = G.node[sc]['coi_sequence']\n",
    "    sk_coi = G.node[sk]['coi_sequence']\n",
    "    if sc_coi and sk_coi:\n",
    "        dist = distance(str(sc_coi.seq), str(sk_coi.seq)) / len(str(sc_coi.seq))\n",
    "        b = bins[int(np.digitize(dist, bins)) - 1] \n",
    "        if d['edge_type'] == 'reassortant':\n",
    "            data[b]['reassortant'] += d['weight']\n",
    "        else:\n",
    "            data[b]['clonal'] += d['weight']  "
   ]
  },
  {
   "cell_type": "code",
   "execution_count": null,
   "metadata": {
    "collapsed": false
   },
   "outputs": [],
   "source": [
    "# Compute proportion under data. \n",
    "def proportion_reassortant_coi(G):\n",
    "    data = dict()\n",
    "\n",
    "    bins = np.arange(0,0.3,0.02)\n",
    "    for b in bins:\n",
    "        data[b] = dict()\n",
    "        data[b]['reassortant'] = 0\n",
    "        data[b]['clonal'] = 0\n",
    "\n",
    "    for sc, sk, d in G.edges(data=True):\n",
    "        sc_coi = G.node[sc]['coi_sequence']\n",
    "        sk_coi = G.node[sk]['coi_sequence']\n",
    "        if sc_coi and sk_coi:\n",
    "            dist = distance(str(sc_coi.seq), str(sk_coi.seq)) / len(str(sc_coi.seq))\n",
    "            b = bins[int(np.digitize(dist, bins)) - 1] \n",
    "            if d['edge_type'] == 'reassortant':\n",
    "                data[b]['reassortant'] += d['weight']\n",
    "            else:\n",
    "                data[b]['clonal'] += d['weight']  \n",
    "    return data\n",
    "\n",
    "data = proportion_reassortant_coi(G)"
   ]
  },
  {
   "cell_type": "code",
   "execution_count": null,
   "metadata": {
    "collapsed": false
   },
   "outputs": [],
   "source": [
    "data"
   ]
  },
  {
   "cell_type": "code",
   "execution_count": null,
   "metadata": {
    "collapsed": false
   },
   "outputs": [],
   "source": [
    "# Compute proportion under null: shuffle host COIs\n",
    "def null_proportion_reassortant_coi(G):\n",
    "    host_cois = [d['coi_sequence'] for n, d in G.nodes(data=True)]\n",
    "    shuffle(host_cois)\n",
    "\n",
    "    G_shuffled = G.copy()\n",
    "    for i, (n, d) in enumerate(G_shuffled.nodes(data=True)):\n",
    "        G_shuffled.node[n]['coi_sequence'] = host_cois[i]\n",
    "    \n",
    "    return proportion_reassortant_coi(G_shuffled)    "
   ]
  },
  {
   "cell_type": "code",
   "execution_count": null,
   "metadata": {
    "collapsed": false
   },
   "outputs": [],
   "source": [
    "start = time()\n",
    "results = Parallel(n_jobs=-1)(delayed(null_proportion_reassortant_coi)(G) for i in range(1000))\n",
    "end = time()\n",
    "print(end - start)"
   ]
  },
  {
   "cell_type": "code",
   "execution_count": null,
   "metadata": {
    "collapsed": false
   },
   "outputs": [],
   "source": [
    "# Aggregate the results into clonal and reassortant\n",
    "\n",
    "agg = dict()\n",
    "agg['clonal'] = defaultdict(list)\n",
    "agg['reassortant'] = defaultdict(list)\n",
    "\n",
    "for result in results:\n",
    "    for dist, d in result.items():\n",
    "        agg['clonal'][dist].append(d['clonal'])\n",
    "        agg['reassortant'][dist].append(d['reassortant'])"
   ]
  },
  {
   "cell_type": "code",
   "execution_count": null,
   "metadata": {
    "collapsed": false
   },
   "outputs": [],
   "source": [
    "agg['clonal'][0.12]"
   ]
  },
  {
   "cell_type": "code",
   "execution_count": null,
   "metadata": {
    "collapsed": false
   },
   "outputs": [],
   "source": [
    "agg['reassortant'][0.12]"
   ]
  },
  {
   "cell_type": "code",
   "execution_count": null,
   "metadata": {
    "collapsed": false
   },
   "outputs": [],
   "source": [
    "# We want to compute the proportion reassortant under the null.\n",
    "# Iterate over the clonal. \n",
    "\n",
    "prop_null = defaultdict(list)\n",
    "\n",
    "for d, cts in agg['reassortant'].items():\n",
    "    for i, ct in enumerate(cts):\n",
    "        try:\n",
    "            prop_null[d].append(ct / (ct + agg['clonal'][d][i]))\n",
    "        except:\n",
    "            prop_null[d].append(np.nan)\n",
    "prop_null"
   ]
  },
  {
   "cell_type": "code",
   "execution_count": null,
   "metadata": {
    "collapsed": false
   },
   "outputs": [],
   "source": [
    "prop_null[0.12]"
   ]
  },
  {
   "cell_type": "code",
   "execution_count": null,
   "metadata": {
    "collapsed": false
   },
   "outputs": [],
   "source": [
    "null_mean = pd.DataFrame(prop_null).mean()\n",
    "null_mean = null_mean.reset_index()\n",
    "null_mean.columns = ['Host COI Hamming Distance', 'Proportion Reassortant']\n",
    "null_mean\n",
    "\n",
    "null_std = pd.DataFrame(prop_null).std()\n",
    "null_std = null_std.reset_index()\n",
    "null_std.columns = ['Host COI Hamming Distance', 'Proportion Reassortant']"
   ]
  },
  {
   "cell_type": "code",
   "execution_count": null,
   "metadata": {
    "collapsed": false
   },
   "outputs": [],
   "source": [
    "# Plot this data\n",
    "\n",
    "## 1 November 2015:\n",
    "## TODO: Rather than plot std*3 or std*5, plot 95% interval from the null. \n",
    "## Use the axes.errorbar API: http://matplotlib.org/api/axes_api.html\n",
    "## [ ] DONE\n",
    "\n",
    "df = pd.DataFrame(data).T\n",
    "df['prop'] = df['reassortant'] / (df['clonal'] + df['reassortant'])\n",
    "\n",
    "proportions = df['prop'].dropna().reset_index()\n",
    "proportions.columns = ['Host COI Hamming Distance', 'Proportion Reassortant']\n",
    "\n",
    "ixcol = 'Host COI Hamming Distance'\n",
    "summary = proportions.set_index(ixcol).join(null_mean.set_index(ixcol), rsuffix='r').join(null_std.set_index(ixcol), rsuffix='s')\n",
    "summary.columns = ['data', 'null', 'std']\n",
    "\n",
    "summary['data'].plot(color='blue')\n",
    "summary['null'].plot(yerr=summary['std'], color='blue', alpha=0.3)\n",
    "plt.ylim(0,1)"
   ]
  },
  {
   "cell_type": "code",
   "execution_count": null,
   "metadata": {
    "collapsed": false
   },
   "outputs": [],
   "source": [
    "summary['3sigma'] = summary['null'] + summary['std'] * 3\n",
    "summary[summary['data'] > summary['3sigma']]"
   ]
  },
  {
   "cell_type": "code",
   "execution_count": null,
   "metadata": {
    "collapsed": false
   },
   "outputs": [],
   "source": [
    "total_counts = df[['reassortant', 'clonal']].apply(lambda x:np.log10(x)).reset_index()\n",
    "total_counts.columns = ['Host COI Hamming Distance', 'Reassortant', 'Clonal']\n",
    "total_counts.replace(-np.inf, np.nan, inplace=True)\n",
    "total_counts.dropna(inplace=True)\n",
    "ax = total_counts.plot(x='Host COI Hamming Distance', y='Reassortant', color='green', alpha=0.3)\n",
    "total_counts.plot(x='Host COI Hamming Distance', y='Reassortant', color='green', alpha=0.3, kind='scatter', ax=ax)\n",
    "total_counts.plot(x='Host COI Hamming Distance', y='Clonal', color='blue', alpha=0.3, ax=ax)\n",
    "total_counts.plot(x='Host COI Hamming Distance', y='Clonal', color='blue', alpha=0.3, kind='scatter', ax=ax)\n",
    "plt.ylabel('log10(# events)')"
   ]
  },
  {
   "cell_type": "code",
   "execution_count": null,
   "metadata": {
    "collapsed": true
   },
   "outputs": [],
   "source": []
  }
 ],
 "metadata": {
  "kernelspec": {
   "display_name": "Python 3",
   "language": "python",
   "name": "python3"
  },
  "language_info": {
   "codemirror_mode": {
    "name": "ipython",
    "version": 3
   },
   "file_extension": ".py",
   "mimetype": "text/x-python",
   "name": "python",
   "nbconvert_exporter": "python",
   "pygments_lexer": "ipython3",
   "version": "3.4.3"
  }
 },
 "nbformat": 4,
 "nbformat_minor": 0
}
