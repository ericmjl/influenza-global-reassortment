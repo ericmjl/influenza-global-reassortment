{
 "cells": [
  {
   "cell_type": "code",
   "execution_count": 1,
   "metadata": {
    "collapsed": false
   },
   "outputs": [],
   "source": [
    "import networkx as nx\n",
    "import custom_funcs as cf\n",
    "import pandas as pd\n",
    "import matplotlib.pyplot as plt\n",
    "import numpy as np\n",
    "import seaborn\n",
    "\n",
    "from time import time\n",
    "from collections import defaultdict, Counter\n",
    "\n",
    "%load_ext autoreload\n",
    "%autoreload 2\n",
    "\n",
    "%matplotlib inline"
   ]
  },
  {
   "cell_type": "code",
   "execution_count": 2,
   "metadata": {
    "collapsed": false
   },
   "outputs": [],
   "source": [
    "G = nx.read_gpickle('20150902_all_ird Final Graph.pkl')\n",
    "\n",
    "G = cf.clean_host_species_names(G)\n",
    "G = cf.impute_reassortant_status(G)"
   ]
  },
  {
   "cell_type": "code",
   "execution_count": 3,
   "metadata": {
    "collapsed": false
   },
   "outputs": [
    {
     "data": {
      "text/plain": [
       "{'American Black Duck',\n",
       " 'American Green-Winged Teal',\n",
       " 'American Wigeon',\n",
       " 'Aquatic Bird',\n",
       " 'Avian',\n",
       " 'Babbler',\n",
       " 'Baikal Teal',\n",
       " 'Bar-Headed Goose',\n",
       " 'Barn Swallow',\n",
       " 'Barnacle Goose',\n",
       " \"Bewick's Swan\",\n",
       " 'Bird',\n",
       " 'Black Duck',\n",
       " 'Black Scoter',\n",
       " 'Black-Billed Magpie',\n",
       " 'Black-Headed Gull',\n",
       " 'Blue-Winged Teal',\n",
       " 'Brown-Headed Gull',\n",
       " 'Bufflehead',\n",
       " 'Camel',\n",
       " 'Canada Goose',\n",
       " 'Canvasback',\n",
       " 'Chicken',\n",
       " 'Chinese Francolin',\n",
       " 'Chukar',\n",
       " 'Cinnamon Teal',\n",
       " 'Common Coot',\n",
       " 'Common Eider',\n",
       " 'Common Goldeneye',\n",
       " 'Common Murre',\n",
       " 'Common Scoter',\n",
       " 'Condor',\n",
       " 'Coot',\n",
       " 'Crane',\n",
       " 'Crow',\n",
       " 'Dog',\n",
       " 'Domestic Cat',\n",
       " 'Dove',\n",
       " 'Duck',\n",
       " 'Dunlin',\n",
       " 'Eagle',\n",
       " 'Eagle-Owl',\n",
       " 'Egret',\n",
       " 'Emu',\n",
       " 'Environment',\n",
       " 'Falcon',\n",
       " 'Ferret',\n",
       " 'Finch',\n",
       " 'Flycatcher',\n",
       " 'Gadwall',\n",
       " 'Garganey',\n",
       " 'Glaucous Gull',\n",
       " 'Goose',\n",
       " 'Great Black-Headed Gull',\n",
       " 'Great Crested Grebe',\n",
       " 'Greater Scaup',\n",
       " 'Greater White-Fronted Goose',\n",
       " 'Grebe',\n",
       " 'Green-Winged Teal',\n",
       " 'Grey Heron',\n",
       " 'Guinea Fowl',\n",
       " 'Guineafowl',\n",
       " 'Gull',\n",
       " 'Heron',\n",
       " 'Herring Gull',\n",
       " 'Hooded Merganser',\n",
       " 'Horse',\n",
       " 'Human',\n",
       " 'Iceland Gull',\n",
       " 'Japanese Quail',\n",
       " 'Kelp Gull',\n",
       " 'Knot',\n",
       " 'Large Cat',\n",
       " 'Laughing Gull',\n",
       " 'Least Sandpiper',\n",
       " 'Lesser Scaup',\n",
       " 'Little Egret',\n",
       " 'Little Grebe',\n",
       " 'Long-Tailed Duck',\n",
       " 'Magpie',\n",
       " 'Magpie Robin',\n",
       " 'Mallard',\n",
       " 'Mallard-Black Duck Hybrid',\n",
       " 'Mink',\n",
       " 'Murre',\n",
       " 'Muscovy Duck',\n",
       " 'Mute Swan',\n",
       " 'Myna',\n",
       " 'Northern Shoveler',\n",
       " 'Openbill Stork',\n",
       " 'Ostrich',\n",
       " 'Panda',\n",
       " 'Parakeet',\n",
       " 'Parrot',\n",
       " 'Partridge',\n",
       " 'Pelican',\n",
       " 'Peregrine Falcon',\n",
       " 'Pheasant',\n",
       " 'Pigeon',\n",
       " 'Pink-Footed Goose',\n",
       " 'Pintail',\n",
       " 'Poultry',\n",
       " 'Quail',\n",
       " 'Red Knot',\n",
       " 'Red-Crested Pochard',\n",
       " 'Red-Necked Stint',\n",
       " 'Redhead',\n",
       " 'Redhead Duck',\n",
       " 'Rhea',\n",
       " 'Ring-Billed Gull',\n",
       " 'Ring-Necked Duck',\n",
       " 'Rook',\n",
       " 'Rosy-Billed Pochard',\n",
       " 'Ruddy Turnstone',\n",
       " 'Saker Falcon',\n",
       " 'Sanderling',\n",
       " 'Scaup',\n",
       " 'Sea Mammal',\n",
       " 'Semipalmated Sandpiper',\n",
       " 'Sharp-Tailed Sandpiper',\n",
       " 'Shorebird',\n",
       " 'Shoveler',\n",
       " 'Shrike',\n",
       " 'Silky Chicken',\n",
       " 'Sloth Bear',\n",
       " 'Snow Goose',\n",
       " 'Softbill',\n",
       " 'Sooty Tern',\n",
       " 'Sparrow',\n",
       " 'Spot-Billed Duck',\n",
       " 'Starling',\n",
       " 'Stork',\n",
       " 'Swan',\n",
       " 'Swine',\n",
       " 'Teal',\n",
       " 'Tree Sparrow',\n",
       " 'Tufted Duck',\n",
       " 'Tundra Swan',\n",
       " 'Turkey',\n",
       " 'Unknown',\n",
       " 'Waterfowl',\n",
       " 'Weasel',\n",
       " 'Whiskered Tern',\n",
       " 'White-Fronted Goose',\n",
       " 'White-Rumped Sandpiper',\n",
       " 'White-Winged Scoter',\n",
       " 'Whooper Swan',\n",
       " 'Widgeon',\n",
       " 'Wigeon',\n",
       " 'Wild Chicken',\n",
       " 'Wild Duck',\n",
       " 'Wood Duck'}"
      ]
     },
     "execution_count": 3,
     "metadata": {},
     "output_type": "execute_result"
    }
   ],
   "source": [
    "all_hosts = set([d['host_species'] for n, d in G.nodes(data=True)])\n",
    "all_hosts"
   ]
  },
  {
   "cell_type": "code",
   "execution_count": 25,
   "metadata": {
    "collapsed": false
   },
   "outputs": [
    {
     "data": {
      "text/plain": [
       "{'diff_attr': 0.6627712026283609, 'same_attr': 0.31467473264900536}"
      ]
     },
     "execution_count": 25,
     "metadata": {},
     "output_type": "execute_result"
    }
   ],
   "source": [
    "# Proportion reassortant in data\n",
    "data_props = cf.edge_proportion_reassortant(G, attr='host_species')\n",
    "data_props"
   ]
  },
  {
   "cell_type": "code",
   "execution_count": 26,
   "metadata": {
    "collapsed": false
   },
   "outputs": [
    {
     "name": "stdout",
     "output_type": "stream",
     "text": [
      "101.43923807144165\n"
     ]
    }
   ],
   "source": [
    "# Proportion reassortant under null\n",
    "from joblib import Parallel, delayed\n",
    "excluded_hosts = ['Aquatic Bird', 'Avian', 'Bird', 'Duck', 'Environment', 'Mallard-Black Duck Hybrid', 'Sea Mammal', \n",
    "                  'Unknown', 'Waterfowl']\n",
    "start = time()\n",
    "def null_distribution_proportion_reassortant(G):\n",
    "    G_shuffled = cf.shuffle_node_attribute_label(G, 'host_species')\n",
    "    props = cf.edge_proportion_reassortant(G_shuffled, 'host_species', exclusions=excluded_hosts)\n",
    "    return props\n",
    "\n",
    "props_null = Parallel(n_jobs=-1)(delayed(null_distribution_proportion_reassortant)(G) for i in range(20))\n",
    "end = time()\n",
    "print(end - start)"
   ]
  },
  {
   "cell_type": "code",
   "execution_count": 27,
   "metadata": {
    "collapsed": false
   },
   "outputs": [
    {
     "data": {
      "text/plain": [
       "diff_attr    0.454278\n",
       "same_attr    0.459457\n",
       "dtype: float64"
      ]
     },
     "execution_count": 27,
     "metadata": {},
     "output_type": "execute_result"
    }
   ],
   "source": [
    "null = pd.DataFrame(props_null)\n",
    "# null.mean().plot(kind='bar', yerr=null.std()*3)\n",
    "\n",
    "null.mean()"
   ]
  },
  {
   "cell_type": "code",
   "execution_count": 28,
   "metadata": {
    "collapsed": false
   },
   "outputs": [
    {
     "data": {
      "text/plain": [
       "diff_attr    0.662771\n",
       "same_attr    0.314675\n",
       "dtype: float64"
      ]
     },
     "execution_count": 28,
     "metadata": {},
     "output_type": "execute_result"
    }
   ],
   "source": [
    "data = pd.DataFrame([data_props])\n",
    "data.mean()"
   ]
  },
  {
   "cell_type": "code",
   "execution_count": 30,
   "metadata": {
    "collapsed": false
   },
   "outputs": [
    {
     "data": {
      "image/png": "[encoded data removed]",
      "text/plain": [
       "<matplotlib.figure.Figure at 0x11910c7f0>"
      ]
     },
     "metadata": {},
     "output_type": "display_data"
    }
   ],
   "source": [
    "seaborn.set_context(\"paper\")\n",
    "seaborn.set_style('white')\n",
    "\n",
    "fig = plt.figure(figsize=(3,2))\n",
    "ax = fig.add_subplot(1,1,1)\n",
    "ind = np.arange(2)\n",
    "width = 0.35\n",
    "\n",
    "ax.bar(ind, null.mean(), width, color='blue', label='Null', alpha=0.5, yerr=null.std()*5)\n",
    "ax.bar(ind+width, data.mean(), width, color='blue', label='Data')\n",
    "ax.set_xticks(ind+width)\n",
    "ax.set_xticklabels(['Different', 'Same'])\n",
    "ax.set_xlabel('Hosts Pair')\n",
    "ax.set_ylabel('Proportion Reassortant')\n",
    "ax.legend()\n",
    "ax.set_ylim(0,1)\n",
    "\n",
    "plt.savefig('Figure 1.pdf', bbox_inches='tight')"
   ]
  },
  {
   "cell_type": "code",
   "execution_count": null,
   "metadata": {
    "collapsed": true
   },
   "outputs": [],
   "source": []
  },
  {
   "cell_type": "code",
   "execution_count": null,
   "metadata": {
    "collapsed": true
   },
   "outputs": [],
   "source": []
  },
  {
   "cell_type": "code",
   "execution_count": null,
   "metadata": {
    "collapsed": true
   },
   "outputs": [],
   "source": []
  }
 ],
 "metadata": {
  "kernelspec": {
   "display_name": "Python 3",
   "language": "python",
   "name": "python3"
  },
  "language_info": {
   "codemirror_mode": {
    "name": "ipython",
    "version": 3
   },
   "file_extension": ".py",
   "mimetype": "text/x-python",
   "name": "python",
   "nbconvert_exporter": "python",
   "pygments_lexer": "ipython3",
   "version": "3.4.3"
  }
 },
 "nbformat": 4,
 "nbformat_minor": 0
}
