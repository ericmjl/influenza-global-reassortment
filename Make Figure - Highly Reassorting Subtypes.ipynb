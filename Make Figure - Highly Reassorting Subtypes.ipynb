{
 "cells": [
  {
   "cell_type": "code",
   "execution_count": 1,
   "metadata": {
    "collapsed": false
   },
   "outputs": [],
   "source": [
    "import networkx as nx\n",
    "import custom_funcs as cf\n",
    "import matplotlib.pyplot as plt\n",
    "import numpy as np\n",
    "\n",
    "from time import time\n",
    "from joblib import Parallel, delayed\n",
    "\n",
    "%matplotlib inline\n",
    "\n",
    "%load_ext autoreload\n",
    "%autoreload 2"
   ]
  },
  {
   "cell_type": "code",
   "execution_count": 2,
   "metadata": {
    "collapsed": false
   },
   "outputs": [],
   "source": [
    "G = nx.read_gpickle('20150902_all_ird Final Graph.pkl')\n",
    "G = cf.impute_reassortant_status(G)\n",
    "G = cf.impute_weights(G)\n",
    "G = cf.clean_host_species_names(G)"
   ]
  },
  {
   "cell_type": "code",
   "execution_count": 3,
   "metadata": {
    "collapsed": false
   },
   "outputs": [
    {
     "name": "stdout",
     "output_type": "stream",
     "text": [
      "Total time: 0.1163487434387207 seconds.\n"
     ]
    }
   ],
   "source": [
    "def subtype_domain_graph(G):\n",
    "    sG = nx.DiGraph()\n",
    "\n",
    "    for sc, sk, d in G.edges(data=True):\n",
    "        if d['edge_type'] == 'reassortant':\n",
    "            reassortant = True\n",
    "        else:\n",
    "            reassortant = False\n",
    "        sc_subtype = G.node[sc]['subtype']\n",
    "        sk_subtype = G.node[sk]['subtype']\n",
    "\n",
    "        if not sG.has_node(sc_subtype):\n",
    "            sG.add_node(sc_subtype)\n",
    "        if not sG.has_node(sk_subtype):\n",
    "            sG.add_node(sk_subtype)\n",
    "        \n",
    "        if reassortant:\n",
    "            if not sG.has_edge(sc_subtype, sk_subtype):\n",
    "                sG.add_edge(sc_subtype, sk_subtype, count=d['weight'])\n",
    "            if sG.has_edge(sc_subtype, sk_subtype):\n",
    "                sG.edge[sc_subtype][sk_subtype]['count'] += d['weight']\n",
    "\n",
    "    return sG\n",
    "\n",
    "start = time()\n",
    "sG = subtype_domain_graph(G)\n",
    "end = time()\n",
    "\n",
    "print('Total time: {0} seconds.'.format(end - start))"
   ]
  },
  {
   "cell_type": "code",
   "execution_count": 4,
   "metadata": {
    "collapsed": false
   },
   "outputs": [
    {
     "data": {
      "text/plain": [
       "['H6N8', 'H8N4']"
      ]
     },
     "execution_count": 4,
     "metadata": {},
     "output_type": "execute_result"
    }
   ],
   "source": [
    "sG.predecessors('H8N8')"
   ]
  },
  {
   "cell_type": "code",
   "execution_count": 5,
   "metadata": {
    "collapsed": false
   },
   "outputs": [],
   "source": [
    "# import cProfile\n",
    "# cProfile.run('cf.shuffle_node_attribute_label(G, \"subtype\", equally=False)')"
   ]
  },
  {
   "cell_type": "code",
   "execution_count": 6,
   "metadata": {
    "collapsed": false
   },
   "outputs": [
    {
     "name": "stdout",
     "output_type": "stream",
     "text": [
      "Total time for 100 iterations: 189.6634864807129 seconds.\n"
     ]
    }
   ],
   "source": [
    "def null_proportion_subtype_reassorting(G, equally=False):\n",
    "    G_shuffled = cf.shuffle_node_attribute_label(G, 'subtype', equally=True)\n",
    "    sG_shuf = subtype_domain_graph(G_shuffled)\n",
    "    \n",
    "    return sG_shuf\n",
    "\n",
    "start = time()\n",
    "iters = 100\n",
    "results = Parallel(n_jobs=-1)(delayed(null_proportion_subtype_reassorting)(G, equally=True) for i in range(iters))\n",
    "results\n",
    "end = time()\n",
    "print('Total time for {0} iterations: {1} seconds.'.format(iters, end - start))"
   ]
  },
  {
   "cell_type": "code",
   "execution_count": 7,
   "metadata": {
    "collapsed": false
   },
   "outputs": [],
   "source": [
    "from collections import defaultdict\n",
    "def weighted_degree_centrality(G):\n",
    "    centralities = defaultdict(float)\n",
    "    \n",
    "    for n, d in G.nodes(data=True):\n",
    "        predecessors = G.predecessors(n)\n",
    "        successors = G.successors(n)\n",
    "        \n",
    "        for p in predecessors:\n",
    "            centralities[n] += G.edge[p][n]['count']\n",
    "        for s in successors:\n",
    "            centralities[n] += G.edge[n][s]['count']\n",
    "    return centralities\n",
    "\n",
    "cents = weighted_degree_centrality(sG)\n",
    "cents_shufs = []\n",
    "for sG_shuf in results:\n",
    "    cents_shuf = weighted_degree_centrality(sG_shuf)\n",
    "    cents_shufs.append(cents_shuf)"
   ]
  },
  {
   "cell_type": "code",
   "execution_count": 8,
   "metadata": {
    "collapsed": false
   },
   "outputs": [
    {
     "data": {
      "text/plain": [
       "(2.0, 74.83333333333334)"
      ]
     },
     "execution_count": 8,
     "metadata": {},
     "output_type": "execute_result"
    }
   ],
   "source": [
    "subtype = 'H8N8'\n",
    "cents[subtype], cents_shuf[subtype]"
   ]
  },
  {
   "cell_type": "code",
   "execution_count": 9,
   "metadata": {
    "collapsed": false
   },
   "outputs": [
    {
     "data": {
      "text/html": [
       "<div>\n",
       "<table border=\"1\" class=\"dataframe\">\n",
       "  <thead>\n",
       "    <tr style=\"text-align: right;\">\n",
       "      <th></th>\n",
       "      <th>data</th>\n",
       "      <th>mean</th>\n",
       "      <th>std</th>\n",
       "    </tr>\n",
       "    <tr>\n",
       "      <th>0</th>\n",
       "      <th></th>\n",
       "      <th></th>\n",
       "      <th></th>\n",
       "    </tr>\n",
       "  </thead>\n",
       "  <tbody>\n",
       "    <tr>\n",
       "      <th>H3N8</th>\n",
       "      <td>336.238095</td>\n",
       "      <td>70.384871</td>\n",
       "      <td>81.551226</td>\n",
       "    </tr>\n",
       "    <tr>\n",
       "      <th>H1N1</th>\n",
       "      <td>300.750000</td>\n",
       "      <td>72.372269</td>\n",
       "      <td>83.179586</td>\n",
       "    </tr>\n",
       "  </tbody>\n",
       "</table>\n",
       "</div>"
      ],
      "text/plain": [
       "            data       mean        std\n",
       "0                                     \n",
       "H3N8  336.238095  70.384871  81.551226\n",
       "H1N1  300.750000  72.372269  83.179586"
      ]
     },
     "execution_count": 9,
     "metadata": {},
     "output_type": "execute_result"
    }
   ],
   "source": [
    "import pandas as pd\n",
    "means = pd.DataFrame(cents_shufs).mean()\n",
    "means = pd.DataFrame(means)\n",
    "means.columns = ['mean']\n",
    "\n",
    "stds = pd.DataFrame(cents_shufs).std() * 5\n",
    "stds = pd.DataFrame(stds)\n",
    "stds.columns = ['std']\n",
    "\n",
    "data = pd.DataFrame(list(zip(cents.keys(), cents.values())))\n",
    "data.set_index(0, inplace=True)\n",
    "data.columns = ['data']\n",
    "\n",
    "joined = data.join(means).join(stds)\n",
    "joined[joined['data'] > joined['mean'] + joined['std'] * 2.5]"
   ]
  },
  {
   "cell_type": "code",
   "execution_count": null,
   "metadata": {
    "collapsed": true
   },
   "outputs": [],
   "source": []
  }
 ],
 "metadata": {
  "kernelspec": {
   "display_name": "Python 3",
   "language": "python",
   "name": "python3"
  },
  "language_info": {
   "codemirror_mode": {
    "name": "ipython",
    "version": 3
   },
   "file_extension": ".py",
   "mimetype": "text/x-python",
   "name": "python",
   "nbconvert_exporter": "python",
   "pygments_lexer": "ipython3",
   "version": "3.4.3"
  }
 },
 "nbformat": 4,
 "nbformat_minor": 0
}
