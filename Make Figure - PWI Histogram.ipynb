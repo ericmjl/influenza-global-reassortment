{
 "cells": [
  {
   "cell_type": "code",
   "execution_count": 45,
   "metadata": {
    "collapsed": false
   },
   "outputs": [
    {
     "name": "stdout",
     "output_type": "stream",
     "text": [
      "The autoreload extension is already loaded. To reload it, use:\n",
      "  %reload_ext autoreload\n"
     ]
    }
   ],
   "source": [
    "import networkx as nx\n",
    "import custom_funcs as cf\n",
    "import matplotlib.pyplot as plt\n",
    "import seaborn\n",
    "import numpy as np\n",
    "\n",
    "from collections import Counter\n",
    "\n",
    "%matplotlib inline\n",
    "%load_ext autoreload \n",
    "%autoreload 2"
   ]
  },
  {
   "cell_type": "code",
   "execution_count": 46,
   "metadata": {
    "collapsed": true
   },
   "outputs": [],
   "source": [
    "# Set Seaborn context\n",
    "seaborn.set_style('white')\n",
    "seaborn.set_context('paper')"
   ]
  },
  {
   "cell_type": "code",
   "execution_count": 47,
   "metadata": {
    "collapsed": true
   },
   "outputs": [],
   "source": [
    "# Read in the graph and \n",
    "G = nx.read_gpickle('20150902_all_ird Final Graph.pkl')\n",
    "G = cf.impute_reassortant_status(G)\n",
    "G = cf.impute_weights(G)\n",
    "G = cf.remove_zero_weighted_edges(G)"
   ]
  },
  {
   "cell_type": "code",
   "execution_count": 48,
   "metadata": {
    "collapsed": false
   },
   "outputs": [
    {
     "data": {
      "text/plain": [
       "83599"
      ]
     },
     "execution_count": 48,
     "metadata": {},
     "output_type": "execute_result"
    }
   ],
   "source": [
    "len(G.edges())"
   ]
  },
  {
   "cell_type": "code",
   "execution_count": 41,
   "metadata": {
    "collapsed": false
   },
   "outputs": [
    {
     "data": {
      "text/plain": [
       "0.4355410047230571"
      ]
     },
     "execution_count": 41,
     "metadata": {},
     "output_type": "execute_result"
    }
   ],
   "source": [
    "n_reassortants = sum([1 for n, d in G.nodes(data=True) if d['reassortant'] == True])\n",
    "n_reassortants\n",
    "\n",
    "p_reassortants = n_reassortants / len(G.nodes())\n",
    "p_reassortants"
   ]
  },
  {
   "cell_type": "code",
   "execution_count": 42,
   "metadata": {
    "collapsed": false,
    "scrolled": true
   },
   "outputs": [
    {
     "data": {
      "image/png": "[encoded data removed]",
      "text/plain": [
       "<matplotlib.figure.Figure at 0x7ff040500a90>"
      ]
     },
     "metadata": {},
     "output_type": "display_data"
    }
   ],
   "source": [
    "pwis = []\n",
    "for n, d in G.nodes(data=True):\n",
    "    in_edges = G.in_edges(n, data=True)\n",
    "    if in_edges:  # if there are in-edges. \n",
    "        pwis.append(in_edges[0][2]['pwi'])\n",
    "fig = plt.figure(figsize=(3,2))\n",
    "ax = fig.add_subplot(111)\n",
    "n, bins, patches = plt.hist(pwis, bins=100)\n",
    "plt.vlines(np.percentile(pwis, 5), 0, np.max(n), 'green', alpha=0.3, label='5th Percentile')\n",
    "plt.vlines(np.percentile(pwis, 50), 0, np.max(n), 'red', alpha=0.3, label='50th Percentile')\n",
    "ax.legend(loc='upper left')\n",
    "ax.ticklabel_format(axis='y', style='sci', scilimits=(-2,2),)\n",
    "plt.xlabel('Sum PWI')\n",
    "plt.ylabel('Density')\n",
    "plt.savefig('figures/PWI Histogram.pdf', bbox_inches='tight')"
   ]
  },
  {
   "cell_type": "code",
   "execution_count": null,
   "metadata": {
    "collapsed": true
   },
   "outputs": [],
   "source": []
  }
 ],
 "metadata": {
  "kernelspec": {
   "display_name": "Python 3",
   "language": "python",
   "name": "python3"
  },
  "language_info": {
   "codemirror_mode": {
    "name": "ipython",
    "version": 3
   },
   "file_extension": ".py",
   "mimetype": "text/x-python",
   "name": "python",
   "nbconvert_exporter": "python",
   "pygments_lexer": "ipython3",
   "version": "3.4.3"
  }
 },
 "nbformat": 4,
 "nbformat_minor": 0
}
