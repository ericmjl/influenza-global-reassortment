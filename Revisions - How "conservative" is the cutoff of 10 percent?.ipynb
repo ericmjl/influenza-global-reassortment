{
 "cells": [
  {
   "cell_type": "code",
   "execution_count": 22,
   "metadata": {
    "collapsed": true
   },
   "outputs": [],
   "source": [
    "import networkx as nx\n",
    "import numpy as np\n",
    "import matplotlib.pyplot as plt\n",
    "\n",
    "%matplotlib inline"
   ]
  },
  {
   "cell_type": "code",
   "execution_count": 2,
   "metadata": {
    "collapsed": true
   },
   "outputs": [],
   "source": [
    "# Read the graphs into memory\n",
    "finalG = nx.read_gpickle('20150902_all_ird Final Graph.pkl')\n",
    "fullG = nx.read_gpickle('20150902_all_ird Full Complement Graph.pkl')"
   ]
  },
  {
   "cell_type": "markdown",
   "metadata": {},
   "source": [
    "Compute the distribution of edge weights across the clonal descent edges, then compute the bottom 10%."
   ]
  },
  {
   "cell_type": "code",
   "execution_count": 7,
   "metadata": {
    "collapsed": false
   },
   "outputs": [
    {
     "data": {
      "text/plain": [
       "7.6864049999999988"
      ]
     },
     "execution_count": 7,
     "metadata": {},
     "output_type": "execute_result"
    }
   ],
   "source": [
    "# Get the cut-off value for re-evaluation of clonal descent edges\n",
    "weights = [d['pwi'] for _, _, d in fullG.edges(data=True)]\n",
    "cutoff = np.percentile(weights, 10)\n",
    "cutoff"
   ]
  },
  {
   "cell_type": "code",
   "execution_count": 16,
   "metadata": {
    "collapsed": false
   },
   "outputs": [
    {
     "data": {
      "text/plain": [
       "1368"
      ]
     },
     "execution_count": 16,
     "metadata": {},
     "output_type": "execute_result"
    }
   ],
   "source": [
    "# Identify the sink nodes that are associated with edges that are below the cutoff.\n",
    "\n",
    "sinks = dict()\n",
    "for sc, sk, d in fullG.edges(data=True):\n",
    "    if d['pwi'] < cutoff:\n",
    "        sinks[sk] = d['pwi']\n",
    "        \n",
    "        \n",
    "len(sinks)"
   ]
  },
  {
   "cell_type": "code",
   "execution_count": 17,
   "metadata": {
    "collapsed": false
   },
   "outputs": [],
   "source": [
    "# How many of those sinks were identified as reassortant?\n",
    "# First, identify the reassortant viruses in the finalG\n",
    "reassortants = dict()\n",
    "for sc, sk, d in finalG.edges(data=True):\n",
    "    if d['edge_type'] == 'reassortant':\n",
    "        reassortants[sk] = d['pwi']"
   ]
  },
  {
   "cell_type": "code",
   "execution_count": 18,
   "metadata": {
    "collapsed": false
   },
   "outputs": [
    {
     "data": {
      "text/plain": [
       "1357"
      ]
     },
     "execution_count": 18,
     "metadata": {},
     "output_type": "execute_result"
    }
   ],
   "source": [
    "# How many sinks were re-identified as reassortant viruses instead?\n",
    "len(set(reassortants.keys()).intersection(sinks.keys()))"
   ]
  },
  {
   "cell_type": "code",
   "execution_count": 21,
   "metadata": {
    "collapsed": false
   },
   "outputs": [],
   "source": [
    "# What is the distribution of PWI improvements?\n",
    "improvements = dict()\n",
    "for k, d in sinks.items():\n",
    "    if k in reassortants.keys():\n",
    "        improvements[k] = reassortants[k] - d"
   ]
  },
  {
   "cell_type": "code",
   "execution_count": 24,
   "metadata": {
    "collapsed": false
   },
   "outputs": [
    {
     "data": {
      "text/plain": [
       "(array([ 151.,  570.,  236.,  142.,  157.,   44.,   16.,   20.,   15.,    6.]),\n",
       " array([ 0.004435 ,  0.1187419,  0.2330488,  0.3473557,  0.4616626,\n",
       "         0.5759695,  0.6902764,  0.8045833,  0.9188902,  1.0331971,\n",
       "         1.147504 ]),\n",
       " <a list of 10 Patch objects>)"
      ]
     },
     "execution_count": 24,
     "metadata": {},
     "output_type": "execute_result"
    },
    {
     "data": {
      "image/png": "[encoded data removed]",
      "text/plain": [
       "<matplotlib.figure.Figure at 0x11ed91160>"
      ]
     },
     "metadata": {},
     "output_type": "display_data"
    }
   ],
   "source": [
    "# Here's the histogram\n",
    "plt.hist(list(improvements.values()))"
   ]
  },
  {
   "cell_type": "code",
   "execution_count": 27,
   "metadata": {
    "collapsed": false
   },
   "outputs": [
    {
     "data": {
      "text/plain": [
       "array([ 0.004435,  0.219165,  1.147504])"
      ]
     },
     "execution_count": 27,
     "metadata": {},
     "output_type": "execute_result"
    }
   ],
   "source": [
    "# Min, median, max of PWI improvements\n",
    "np.percentile(list(improvements.values()), [0, 50, 100])"
   ]
  },
  {
   "cell_type": "code",
   "execution_count": null,
   "metadata": {
    "collapsed": true
   },
   "outputs": [],
   "source": []
  }
 ],
 "metadata": {
  "kernelspec": {
   "display_name": "Python 3",
   "language": "python",
   "name": "python3"
  },
  "language_info": {
   "codemirror_mode": {
    "name": "ipython",
    "version": 3
   },
   "file_extension": ".py",
   "mimetype": "text/x-python",
   "name": "python",
   "nbconvert_exporter": "python",
   "pygments_lexer": "ipython3",
   "version": "3.4.4"
  }
 },
 "nbformat": 4,
 "nbformat_minor": 0
}
