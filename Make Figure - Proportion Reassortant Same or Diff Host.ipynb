{
 "cells": [
  {
   "cell_type": "code",
   "execution_count": 11,
   "metadata": {
    "collapsed": false
   },
   "outputs": [
    {
     "name": "stdout",
     "output_type": "stream",
     "text": [
      "The autoreload extension is already loaded. To reload it, use:\n",
      "  %reload_ext autoreload\n"
     ]
    }
   ],
   "source": [
    "import networkx as nx\n",
    "import custom_funcs as cf\n",
    "import pandas as pd\n",
    "import matplotlib.pyplot as plt\n",
    "import numpy as np\n",
    "import seaborn\n",
    "\n",
    "from time import time\n",
    "from collections import defaultdict, Counter\n",
    "from joblib import Parallel, delayed\n",
    "\n",
    "%load_ext autoreload\n",
    "%autoreload 2\n",
    "\n",
    "%matplotlib inline"
   ]
  },
  {
   "cell_type": "code",
   "execution_count": 17,
   "metadata": {
    "collapsed": false
   },
   "outputs": [],
   "source": [
    "G = nx.read_gpickle('20150902_all_ird Final Graph.pkl')\n",
    "G = cf.clean_host_species_names(G)\n",
    "G = cf.impute_reassortant_status(G)\n",
    "G = cf.impute_weights(G)\n",
    "# G = cf.remove_zero_weighted_edges(G)"
   ]
  },
  {
   "cell_type": "code",
   "execution_count": 18,
   "metadata": {
    "collapsed": false
   },
   "outputs": [
    {
     "data": {
      "text/plain": [
       "152"
      ]
     },
     "execution_count": 18,
     "metadata": {},
     "output_type": "execute_result"
    }
   ],
   "source": [
    "all_hosts = set([d['host_species'] for n, d in G.nodes(data=True)])\n",
    "len(all_hosts)"
   ]
  },
  {
   "cell_type": "code",
   "execution_count": 19,
   "metadata": {
    "collapsed": false
   },
   "outputs": [
    {
     "data": {
      "text/plain": [
       "106346"
      ]
     },
     "execution_count": 19,
     "metadata": {},
     "output_type": "execute_result"
    }
   ],
   "source": [
    "len(G.edges())"
   ]
  },
  {
   "cell_type": "code",
   "execution_count": 20,
   "metadata": {
    "collapsed": false
   },
   "outputs": [
    {
     "data": {
      "text/plain": [
       "{'full_complement': {'diff_attr': 2201.1833333333334,\n",
       "  'same_attr': 8251.816666666666},\n",
       " 'reassortant': {'diff_attr': 3828.897903170135,\n",
       "  'same_attr': 4114.102096829866}}"
      ]
     },
     "execution_count": 20,
     "metadata": {},
     "output_type": "execute_result"
    }
   ],
   "source": [
    "cf.count_edges(G, attr='host_species')"
   ]
  },
  {
   "cell_type": "code",
   "execution_count": 21,
   "metadata": {
    "collapsed": false
   },
   "outputs": [
    {
     "data": {
      "text/plain": [
       "{'full_complement': {'diff_attr': 2201.1833333333334,\n",
       "  'same_attr': 8251.816666666666},\n",
       " 'reassortant': {'diff_attr': 3828.897903170135,\n",
       "  'same_attr': 4114.102096829866}}"
      ]
     },
     "execution_count": 21,
     "metadata": {},
     "output_type": "execute_result"
    }
   ],
   "source": [
    "G = cf.remove_zero_weighted_edges(G)\n",
    "cf.count_edges(G, attr='host_species')"
   ]
  },
  {
   "cell_type": "code",
   "execution_count": 16,
   "metadata": {
    "collapsed": false
   },
   "outputs": [
    {
     "data": {
      "text/plain": [
       "{'diff_attr': 0.6349662223440151, 'same_attr': 0.3326968400418783}"
      ]
     },
     "execution_count": 16,
     "metadata": {},
     "output_type": "execute_result"
    }
   ],
   "source": [
    "# Proportion reassortant in data\n",
    "data_props = cf.edge_proportion_reassortant(G, attr='host_species')\n",
    "data_props"
   ]
  },
  {
   "cell_type": "code",
   "execution_count": 7,
   "metadata": {
    "collapsed": false
   },
   "outputs": [
    {
     "name": "stdout",
     "output_type": "stream",
     "text": [
      "252.20611143112183\n"
     ]
    }
   ],
   "source": [
    "# Proportion reassortant under null\n",
    "excluded_hosts = ['Aquatic Bird', 'Avian', 'Bird', 'Duck', 'Environment', 'Mallard-Black Duck Hybrid', 'Sea Mammal', \n",
    "                  'Unknown', 'Waterfowl']\n",
    "start = time()\n",
    "def null_distribution_proportion_reassortant(G, equally=False):\n",
    "    G_shuffled = cf.shuffle_node_attribute_label(G, 'host_species', equally)\n",
    "    props = cf.edge_proportion_reassortant(G_shuffled, 'host_species', exclusions=excluded_hosts)\n",
    "    return props\n",
    "\n",
    "props_null = Parallel(n_jobs=-1)(delayed(null_distribution_proportion_reassortant)(G, equally=True) for i in range(100))\n",
    "end = time()\n",
    "print(end - start)"
   ]
  },
  {
   "cell_type": "code",
   "execution_count": 8,
   "metadata": {
    "collapsed": false
   },
   "outputs": [
    {
     "data": {
      "text/plain": [
       "diff_attr    0.445291\n",
       "same_attr    0.451339\n",
       "dtype: float64"
      ]
     },
     "execution_count": 8,
     "metadata": {},
     "output_type": "execute_result"
    }
   ],
   "source": [
    "null = pd.DataFrame(props_null)\n",
    "null.mean()"
   ]
  },
  {
   "cell_type": "code",
   "execution_count": 9,
   "metadata": {
    "collapsed": false
   },
   "outputs": [
    {
     "data": {
      "text/plain": [
       "diff_attr    0.634966\n",
       "same_attr    0.332697\n",
       "dtype: float64"
      ]
     },
     "execution_count": 9,
     "metadata": {},
     "output_type": "execute_result"
    }
   ],
   "source": [
    "data = pd.DataFrame([data_props])\n",
    "data.mean()"
   ]
  },
  {
   "cell_type": "code",
   "execution_count": 10,
   "metadata": {
    "collapsed": false
   },
   "outputs": [
    {
     "data": {
      "image/png": "[encoded data removed]",
      "text/plain": [
       "<matplotlib.figure.Figure at 0x7f060facd4a8>"
      ]
     },
     "metadata": {},
     "output_type": "display_data"
    }
   ],
   "source": [
    "seaborn.set_context(\"paper\")\n",
    "seaborn.set_style('white')\n",
    "\n",
    "fig = plt.figure(figsize=(3,2))\n",
    "ax = fig.add_subplot(1,1,1)\n",
    "ind = np.arange(2)\n",
    "width = 0.35\n",
    "\n",
    "ax.bar(ind, null.mean(), width, color='blue', label='Null', alpha=0.5, yerr=null.std()*5)\n",
    "ax.bar(ind+width, data.mean(), width, color='blue', label='Data')\n",
    "ax.set_xticks(ind+width)\n",
    "ax.set_xticklabels(['Different', 'Same'])\n",
    "ax.set_xlabel('Hosts Pair')\n",
    "ax.set_ylabel('Weighted Proportion\\nReassortant Per Event')\n",
    "ax.legend()\n",
    "ax.set_ylim(0,1)\n",
    "plt.subplots_adjust(left=0.2, bottom=0.2)\n",
    "plt.savefig('figures/Proportion Reassortant.pdf')"
   ]
  },
  {
   "cell_type": "code",
   "execution_count": null,
   "metadata": {
    "collapsed": true
   },
   "outputs": [],
   "source": []
  },
  {
   "cell_type": "code",
   "execution_count": null,
   "metadata": {
    "collapsed": true
   },
   "outputs": [],
   "source": []
  },
  {
   "cell_type": "code",
   "execution_count": null,
   "metadata": {
    "collapsed": true
   },
   "outputs": [],
   "source": []
  }
 ],
 "metadata": {
  "kernelspec": {
   "display_name": "Python 3",
   "language": "python",
   "name": "python3"
  },
  "language_info": {
   "codemirror_mode": {
    "name": "ipython",
    "version": 3
   },
   "file_extension": ".py",
   "mimetype": "text/x-python",
   "name": "python",
   "nbconvert_exporter": "python",
   "pygments_lexer": "ipython3",
   "version": "3.4.3"
  }
 },
 "nbformat": 4,
 "nbformat_minor": 0
}
