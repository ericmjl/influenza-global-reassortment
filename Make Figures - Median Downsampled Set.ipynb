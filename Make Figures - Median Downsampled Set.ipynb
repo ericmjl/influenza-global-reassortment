{
 "cells": [
  {
   "cell_type": "markdown",
   "metadata": {},
   "source": [
    "# Preface\n",
    "\n",
    "In this notebook, I write the business code logic that enables me to plot the figures, except done for the median downsampled set of sequences.\n",
    "\n",
    "This means that code that I intend to copy and paste over will get stored in `figures.py`, and then called from both notebooks."
   ]
  },
  {
   "cell_type": "code",
   "execution_count": 89,
   "metadata": {
    "collapsed": false
   },
   "outputs": [
    {
     "name": "stdout",
     "output_type": "stream",
     "text": [
      "The autoreload extension is already loaded. To reload it, use:\n",
      "  %reload_ext autoreload\n"
     ]
    }
   ],
   "source": [
    "import networkx as nx\n",
    "import figures as fg\n",
    "import custom_funcs as cf\n",
    "import pandas as pd\n",
    "import matplotlib.pyplot as plt\n",
    "import numpy as np\n",
    "import seaborn\n",
    "\n",
    "from collections import defaultdict\n",
    "\n",
    "%matplotlib inline\n",
    "\n",
    "%load_ext autoreload\n",
    "%autoreload 2"
   ]
  },
  {
   "cell_type": "code",
   "execution_count": 90,
   "metadata": {
    "collapsed": true
   },
   "outputs": [],
   "source": [
    "seaborn.set_context(\"paper\")\n",
    "seaborn.set_style('white')"
   ]
  },
  {
   "cell_type": "code",
   "execution_count": 91,
   "metadata": {
    "collapsed": false
   },
   "outputs": [
    {
     "data": {
      "text/plain": [
       "100"
      ]
     },
     "execution_count": 91,
     "metadata": {},
     "output_type": "execute_result"
    }
   ],
   "source": [
    "# Load the graphs into memory.\n",
    "Gs = []\n",
    "\n",
    "for i in range(100):\n",
    "    g = nx.read_gpickle('md_final_graphs/20150902_all_ird Final Graph {0}.pkl'.format(i))\n",
    "    g = cf.impute_reassortant_status(g)\n",
    "    g = cf.impute_weights(g)\n",
    "    g = cf.remove_zero_weighted_edges(g)  \n",
    "    Gs.append(g)\n",
    "\n",
    "len(Gs)"
   ]
  },
  {
   "cell_type": "code",
   "execution_count": 92,
   "metadata": {
    "collapsed": true
   },
   "outputs": [],
   "source": [
    "# Compile the total counts of number of nodes in each graph.\n",
    "# i.e. plot representation\n",
    "\n",
    "h_subtype_data = defaultdict(list)\n",
    "c_subtype_data = defaultdict(list)\n",
    "s_subtype_data = defaultdict(list)\n",
    "for G in Gs:\n",
    "    # Human-human, chicken-chicken, and swine-swine\n",
    "    hh_nodes = fg.same_host_descent(G, 'Human')\n",
    "    cc_nodes = fg.same_host_descent(G, 'Chicken')\n",
    "    ss_nodes = fg.same_host_descent(G, 'Swine')\n",
    "    \n",
    "    hh_subtypes = fg.subtype_counts(hh_nodes, G, log=True)\n",
    "    ss_subtypes = fg.subtype_counts(ss_nodes, G, log=True)\n",
    "    cc_subtypes = fg.subtype_counts(cc_nodes, G, log=True)\n",
    "    \n",
    "    def add_to_compiled(subtype_data, subtypes):\n",
    "        for subtype, counts in subtypes.items():\n",
    "            subtype_data[subtype].append(counts)\n",
    "            \n",
    "    add_to_compiled(h_subtype_data, hh_subtypes)\n",
    "    add_to_compiled(s_subtype_data, ss_subtypes)\n",
    "    add_to_compiled(c_subtype_data, cc_subtypes)"
   ]
  },
  {
   "cell_type": "code",
   "execution_count": 93,
   "metadata": {
    "collapsed": false
   },
   "outputs": [
    {
     "data": {
      "text/plain": [
       "defaultdict(list,\n",
       "            {'H1N1': [0.3010299956639812,\n",
       "              0.3010299956639812,\n",
       "              0.47712125471966244,\n",
       "              0.47712125471966244,\n",
       "              0.69897000433601886,\n",
       "              0.47712125471966244,\n",
       "              0.3010299956639812,\n",
       "              0.3010299956639812,\n",
       "              0.3010299956639812,\n",
       "              0.47712125471966244,\n",
       "              0.3010299956639812,\n",
       "              0.47712125471966244,\n",
       "              0.3010299956639812,\n",
       "              0.3010299956639812,\n",
       "              0.3010299956639812,\n",
       "              0.47712125471966244,\n",
       "              0.3010299956639812,\n",
       "              0.3010299956639812,\n",
       "              0.77815125038364363,\n",
       "              0.3010299956639812,\n",
       "              0.47712125471966244,\n",
       "              0.3010299956639812,\n",
       "              0.3010299956639812,\n",
       "              0.47712125471966244,\n",
       "              0.3010299956639812,\n",
       "              0.3010299956639812,\n",
       "              0.3010299956639812],\n",
       "             'H1N2': [1.0,\n",
       "              1.0413926851582249,\n",
       "              1.0,\n",
       "              1.0413926851582249,\n",
       "              1.0,\n",
       "              1.0791812460476249,\n",
       "              1.0413926851582249,\n",
       "              1.0791812460476249,\n",
       "              1.0413926851582249,\n",
       "              1.0791812460476249,\n",
       "              1.0,\n",
       "              1.0413926851582249,\n",
       "              1.0791812460476249,\n",
       "              1.0791812460476249,\n",
       "              1.0413926851582249,\n",
       "              1.0,\n",
       "              1.0413926851582249,\n",
       "              1.1139433523068367,\n",
       "              1.0,\n",
       "              1.0,\n",
       "              1.1139433523068367,\n",
       "              1.0791812460476249,\n",
       "              0.95424250943932487,\n",
       "              1.0413926851582249,\n",
       "              1.0791812460476249,\n",
       "              1.0413926851582249,\n",
       "              0.95424250943932487,\n",
       "              1.0,\n",
       "              1.0,\n",
       "              0.95424250943932487,\n",
       "              1.0791812460476249,\n",
       "              1.0,\n",
       "              1.1139433523068367,\n",
       "              1.0791812460476249,\n",
       "              1.0791812460476249,\n",
       "              1.0413926851582249,\n",
       "              1.0413926851582249,\n",
       "              1.0413926851582249,\n",
       "              1.0791812460476249,\n",
       "              1.0,\n",
       "              1.0,\n",
       "              1.0,\n",
       "              0.95424250943932487,\n",
       "              1.0413926851582249,\n",
       "              1.1139433523068367,\n",
       "              1.0413926851582249,\n",
       "              1.0413926851582249,\n",
       "              1.0,\n",
       "              1.0,\n",
       "              0.95424250943932487,\n",
       "              1.1139433523068367,\n",
       "              1.0,\n",
       "              1.0,\n",
       "              1.0791812460476249,\n",
       "              0.95424250943932487,\n",
       "              1.0413926851582249,\n",
       "              1.0791812460476249,\n",
       "              1.0,\n",
       "              1.0,\n",
       "              1.0413926851582249,\n",
       "              1.0791812460476249,\n",
       "              1.0413926851582249,\n",
       "              1.0,\n",
       "              1.0413926851582249,\n",
       "              1.0413926851582249,\n",
       "              0.90308998699194354,\n",
       "              1.0,\n",
       "              1.0413926851582249,\n",
       "              1.0,\n",
       "              1.1139433523068367,\n",
       "              1.0413926851582249,\n",
       "              1.0791812460476249,\n",
       "              0.90308998699194354,\n",
       "              1.0791812460476249,\n",
       "              1.0791812460476249,\n",
       "              1.0791812460476249,\n",
       "              1.0,\n",
       "              1.0413926851582249,\n",
       "              0.95424250943932487,\n",
       "              1.0413926851582249,\n",
       "              1.0,\n",
       "              1.0,\n",
       "              1.0791812460476249,\n",
       "              1.0,\n",
       "              1.0791812460476249,\n",
       "              1.0791812460476249,\n",
       "              1.1139433523068367,\n",
       "              1.0,\n",
       "              0.90308998699194354,\n",
       "              1.1139433523068367,\n",
       "              1.1139433523068367,\n",
       "              1.1139433523068367,\n",
       "              0.95424250943932487,\n",
       "              1.0791812460476249,\n",
       "              1.1139433523068367,\n",
       "              1.0791812460476249,\n",
       "              0.90308998699194354,\n",
       "              0.90308998699194354,\n",
       "              1.0791812460476249,\n",
       "              1.0791812460476249],\n",
       "             'H3N1': [0.3010299956639812,\n",
       "              0.3010299956639812,\n",
       "              0.47712125471966244,\n",
       "              0.69897000433601886,\n",
       "              0.77815125038364363,\n",
       "              0.69897000433601886,\n",
       "              0.3010299956639812,\n",
       "              0.77815125038364363,\n",
       "              0.77815125038364363,\n",
       "              0.3010299956639812,\n",
       "              0.47712125471966244,\n",
       "              0.3010299956639812,\n",
       "              0.3010299956639812,\n",
       "              0.6020599913279624,\n",
       "              0.3010299956639812,\n",
       "              0.3010299956639812,\n",
       "              0.6020599913279624,\n",
       "              0.47712125471966244,\n",
       "              0.6020599913279624,\n",
       "              0.6020599913279624,\n",
       "              0.6020599913279624,\n",
       "              0.3010299956639812,\n",
       "              0.3010299956639812,\n",
       "              0.6020599913279624,\n",
       "              0.3010299956639812,\n",
       "              0.6020599913279624,\n",
       "              0.47712125471966244,\n",
       "              0.3010299956639812,\n",
       "              0.3010299956639812,\n",
       "              0.6020599913279624,\n",
       "              0.6020599913279624,\n",
       "              0.47712125471966244,\n",
       "              0.6020599913279624,\n",
       "              0.47712125471966244,\n",
       "              0.6020599913279624,\n",
       "              0.3010299956639812,\n",
       "              0.47712125471966244,\n",
       "              0.6020599913279624,\n",
       "              0.69897000433601886,\n",
       "              0.3010299956639812,\n",
       "              0.6020599913279624,\n",
       "              0.6020599913279624,\n",
       "              0.3010299956639812,\n",
       "              0.47712125471966244,\n",
       "              0.3010299956639812,\n",
       "              0.69897000433601886,\n",
       "              0.3010299956639812,\n",
       "              0.3010299956639812,\n",
       "              0.69897000433601886,\n",
       "              0.47712125471966244,\n",
       "              0.6020599913279624,\n",
       "              0.47712125471966244,\n",
       "              0.3010299956639812,\n",
       "              0.3010299956639812,\n",
       "              0.47712125471966244,\n",
       "              0.6020599913279624,\n",
       "              0.3010299956639812,\n",
       "              0.6020599913279624,\n",
       "              0.47712125471966244,\n",
       "              0.47712125471966244,\n",
       "              0.47712125471966244,\n",
       "              0.6020599913279624,\n",
       "              0.6020599913279624,\n",
       "              0.3010299956639812,\n",
       "              0.6020599913279624,\n",
       "              0.3010299956639812,\n",
       "              0.6020599913279624,\n",
       "              0.3010299956639812,\n",
       "              0.3010299956639812,\n",
       "              0.69897000433601886,\n",
       "              0.77815125038364363,\n",
       "              0.3010299956639812,\n",
       "              0.3010299956639812,\n",
       "              0.3010299956639812,\n",
       "              0.47712125471966244,\n",
       "              0.6020599913279624,\n",
       "              0.47712125471966244,\n",
       "              0.69897000433601886],\n",
       "             'H3N2': [0.6020599913279624,\n",
       "              0.47712125471966244,\n",
       "              0.47712125471966244,\n",
       "              0.3010299956639812,\n",
       "              0.47712125471966244,\n",
       "              0.69897000433601886,\n",
       "              0.47712125471966244,\n",
       "              0.6020599913279624,\n",
       "              0.3010299956639812,\n",
       "              0.3010299956639812,\n",
       "              0.3010299956639812,\n",
       "              0.3010299956639812,\n",
       "              0.3010299956639812,\n",
       "              0.47712125471966244,\n",
       "              0.6020599913279624,\n",
       "              0.3010299956639812,\n",
       "              0.69897000433601886,\n",
       "              0.3010299956639812,\n",
       "              0.47712125471966244,\n",
       "              0.47712125471966244,\n",
       "              0.3010299956639812,\n",
       "              0.3010299956639812,\n",
       "              0.3010299956639812,\n",
       "              0.47712125471966244,\n",
       "              0.3010299956639812,\n",
       "              0.3010299956639812,\n",
       "              0.3010299956639812,\n",
       "              0.3010299956639812,\n",
       "              0.3010299956639812,\n",
       "              0.3010299956639812,\n",
       "              0.3010299956639812,\n",
       "              0.3010299956639812,\n",
       "              0.3010299956639812,\n",
       "              0.3010299956639812,\n",
       "              0.3010299956639812,\n",
       "              0.3010299956639812,\n",
       "              0.3010299956639812,\n",
       "              0.3010299956639812,\n",
       "              0.47712125471966244,\n",
       "              0.3010299956639812,\n",
       "              0.47712125471966244,\n",
       "              0.69897000433601886,\n",
       "              0.3010299956639812,\n",
       "              0.3010299956639812,\n",
       "              0.47712125471966244,\n",
       "              0.47712125471966244]})"
      ]
     },
     "execution_count": 93,
     "metadata": {},
     "output_type": "execute_result"
    }
   ],
   "source": [
    "s_subtype_data"
   ]
  },
  {
   "cell_type": "code",
   "execution_count": 94,
   "metadata": {
    "collapsed": false
   },
   "outputs": [
    {
     "name": "stderr",
     "output_type": "stream",
     "text": [
      "/home/ericmjl/anaconda3/lib/python3.4/site-packages/matplotlib/collections.py:590: FutureWarning: elementwise comparison failed; returning scalar instead, but in the future will perform elementwise comparison\n",
      "  if self._edgecolors == str('face'):\n"
     ]
    },
    {
     "data": {
      "image/png": "[encoded data removed]",
      "text/plain": [
       "<matplotlib.figure.Figure at 0x7f30c4a79240>"
      ]
     },
     "metadata": {},
     "output_type": "display_data"
    }
   ],
   "source": [
    "# Plot the data\n",
    "def summarized_data(subtype_data):\n",
    "    means = dict()\n",
    "    stds = dict()\n",
    "    for k, v in subtype_data.items():\n",
    "        means[k] = np.mean(v)\n",
    "        stds[k] = np.std(v)\n",
    "    return means, stds\n",
    "\n",
    "h_means, h_stds = summarized_data(h_subtype_data)\n",
    "# c_means, c_stds = summarized_data(c_subtype_data)\n",
    "s_means, s_stds = summarized_data(s_subtype_data)\n",
    "\n",
    "fig = plt.figure(figsize=(2,6))\n",
    "ax1 = fig.add_subplot(3,1,1)\n",
    "ax2 = fig.add_subplot(3,1,2)\n",
    "ax3 = fig.add_subplot(3,1,3)\n",
    "\n",
    "def plot_subtype_counts(means, stds, ax, color='blue'):\n",
    "    data = pd.DataFrame()\n",
    "    data['means'] = pd.Series(means)\n",
    "    data['stds'] = pd.Series(stds)\n",
    "\n",
    "    data['means'].plot(kind='bar', ax=ax, yerr=data['stds'], color=color)\n",
    "\n",
    "plot_subtype_counts(h_means, h_stds, ax1, color='blue')\n",
    "# plot_subtype_counts(c_means, c_stds, ax2)\n",
    "plot_subtype_counts(s_means, s_stds, ax3, color='red')"
   ]
  },
  {
   "cell_type": "markdown",
   "metadata": {},
   "source": [
    "## Make Figures for Proportion Reassortant Same vs. Different Hosts"
   ]
  },
  {
   "cell_type": "code",
   "execution_count": 166,
   "metadata": {
    "collapsed": false
   },
   "outputs": [
    {
     "name": "stdout",
     "output_type": "stream",
     "text": [
      "{'diff_attr': 0.11912568306010929, 'same_attr': 0.0735930735930736} {'diff_attr': 0.11370882040382572, 'same_attr': 0.21739130434782608}\n",
      "{'diff_attr': 0.12651821862348178, 'same_attr': 0.06210191082802548} {'diff_attr': 0.11642493139945119, 'same_attr': 0.09090909090909091}\n",
      "{'diff_attr': 0.12899786780383796, 'same_attr': 0.0514018691588785} {'diff_attr': 0.10867865519937452, 'same_attr': 0.04}\n",
      "{'diff_attr': 0.13807531380753138, 'same_attr': 0.042042042042042045} {'diff_attr': 0.10577705451586655, 'same_attr': 0.10526315789473684}\n",
      "{'diff_attr': 0.13550232391848407, 'same_attr': 0.04659146640510054} {'diff_attr': 0.10843373493975904, 'same_attr': 0.07692307692307693}\n",
      "{'diff_attr': 0.13674686407567346, 'same_attr': 0.04331087584215592} {'diff_attr': 0.10982075233526888, 'same_attr': 0.0857142857142857}\n",
      "{'diff_attr': 0.1316916488222698, 'same_attr': 0.05745341614906832} {'diff_attr': 0.11203319502074689, 'same_attr': 0.13043478260869565}\n",
      "{'diff_attr': 0.11497189575881452, 'same_attr': 0.05989385898407885} {'diff_attr': 0.10186513629842181, 'same_attr': 0.07692307692307693}\n",
      "{'diff_attr': 0.13742071881606766, 'same_attr': 0.04559270516717325} {'diff_attr': 0.11398544866612773, 'same_attr': 0.05263157894736842}\n",
      "{'diff_attr': 0.12757201646090535, 'same_attr': 0.057750759878419454} {'diff_attr': 0.10448473282442748, 'same_attr': 0.0}\n",
      "{'diff_attr': 0.1290804352464263, 'same_attr': 0.047069541451563925} {'diff_attr': 0.11085626911314984, 'same_attr': 0.125}\n",
      "{'diff_attr': 0.14301017675415104, 'same_attr': 0.04935459377372817} {'diff_attr': 0.11640414905877833, 'same_attr': 0.15151515151515152}\n",
      "{'diff_attr': 0.12151616499442586, 'same_attr': 0.07132459970887918} {'diff_attr': 0.10638297872340426, 'same_attr': 0.047619047619047616}\n",
      "{'diff_attr': 0.12946586487442518, 'same_attr': 0.05473897617840851} {'diff_attr': 0.11134343962362779, 'same_attr': 0.0}\n",
      "{'diff_attr': 0.12763731473408893, 'same_attr': 0.05395398042845808} {'diff_attr': 0.10140405616224649, 'same_attr': 0.125}\n",
      "{'diff_attr': 0.12968299711815562, 'same_attr': 0.054162487462387165} {'diff_attr': 0.1092436974789916, 'same_attr': 0.17647058823529413}\n",
      "{'diff_attr': 0.0847457627118644, 'same_attr': 0.037199124726477024} {'diff_attr': 0.07683352735739232, 'same_attr': 0.0}\n",
      "{'diff_attr': 0.1257995735607676, 'same_attr': 0.04024767801857585} {'diff_attr': 0.10204081632653061, 'same_attr': 0.13043478260869565}\n",
      "{'diff_attr': 0.12046945115636866, 'same_attr': 0.06979113601630157} {'diff_attr': 0.11313591495823842, 'same_attr': 0.2}\n",
      "{'diff_attr': 0.12729702639492146, 'same_attr': 0.04782847718526663} {'diff_attr': 0.10955165692007797, 'same_attr': 0.0967741935483871}\n",
      "{'diff_attr': 0.13144058885383805, 'same_attr': 0.038880248833592534} {'diff_attr': 0.10711610486891386, 'same_attr': 0.06666666666666667}\n",
      "{'diff_attr': 0.1326644370122631, 'same_attr': 0.049786628733997154} {'diff_attr': 0.10029498525073746, 'same_attr': 0.18181818181818182}\n",
      "{'diff_attr': 0.12690355329949238, 'same_attr': 0.051643192488262914} {'diff_attr': 0.11550151975683891, 'same_attr': 0.1111111111111111}\n",
      "{'diff_attr': 0.12205128205128205, 'same_attr': 0.05977382875605816} {'diff_attr': 0.10337078651685393, 'same_attr': 0.26666666666666666}\n",
      "{'diff_attr': 0.12232096184004182, 'same_attr': 0.05714285714285714} {'diff_attr': 0.10450038138825324, 'same_attr': 0.1111111111111111}\n",
      "{'diff_attr': 0.1282608695652174, 'same_attr': 0.05014749262536873} {'diff_attr': 0.10638297872340426, 'same_attr': 0.21739130434782608}\n",
      "{'diff_attr': 0.11382978723404255, 'same_attr': 0.07208588957055215} {'diff_attr': 0.11017597551644988, 'same_attr': 0.09523809523809523}\n",
      "{'diff_attr': 0.12386706948640483, 'same_attr': 0.05509181969949917} {'diff_attr': 0.10768012668250197, 'same_attr': 0.0}\n",
      "{'diff_attr': 0.13926701570680627, 'same_attr': 0.04538341158059468} {'diff_attr': 0.11291632818846466, 'same_attr': 0.12}\n",
      "{'diff_attr': 0.12816851124598358, 'same_attr': 0.05621454357916452} {'diff_attr': 0.1073170731707317, 'same_attr': 0.14285714285714285}\n",
      "{'diff_attr': 0.12674599068804968, 'same_attr': 0.053728949478749} {'diff_attr': 0.10644910644910645, 'same_attr': 0.15789473684210525}\n",
      "{'diff_attr': 0.1383975026014568, 'same_attr': 0.049441786283891544} {'diff_attr': 0.1131928181108509, 'same_attr': 0.047619047619047616}\n",
      "{'diff_attr': 0.11957671957671957, 'same_attr': 0.04482225656877898} {'diff_attr': 0.0943691345151199, 'same_attr': 0.07692307692307694}\n",
      "{'diff_attr': 0.14157767826386497, 'same_attr': 0.04431991849210393} {'diff_attr': 0.10260223048327137, 'same_attr': 0.3076923076923077}\n",
      "{'diff_attr': 0.12757201646090535, 'same_attr': 0.05} {'diff_attr': 0.10666666666666667, 'same_attr': 0.5}\n",
      "{'diff_attr': 0.11912568306010929, 'same_attr': 0.05084745762711865} {'diff_attr': 0.09644670050761421, 'same_attr': 0.17647058823529413}\n",
      "{'diff_attr': 0.1192468619246862, 'same_attr': 0.05} {'diff_attr': 0.10843373493975904, 'same_attr': 0.04}\n",
      "{'diff_attr': 0.12348178137651822, 'same_attr': 0.059748427672955975} {'diff_attr': 0.10468319559228652, 'same_attr': 0.05660377358490566}\n",
      "{'diff_attr': 0.13333333333333333, 'same_attr': 0.0513595166163142} {'diff_attr': 0.10872781065088757, 'same_attr': 0.0625}\n",
      "{'diff_attr': 0.12670157068062826, 'same_attr': 0.04654895666131621} {'diff_attr': 0.10149488591660111, 'same_attr': 0.1111111111111111}\n",
      "{'diff_attr': 0.12866108786610878, 'same_attr': 0.048589341692789965} {'diff_attr': 0.10909090909090909, 'same_attr': 0.0}\n",
      "{'diff_attr': 0.13688129653964082, 'same_attr': 0.05850456621004567} {'diff_attr': 0.10530482977038796, 'same_attr': 0.17647058823529413}\n",
      "{'diff_attr': 0.12712300566134843, 'same_attr': 0.058823529411764705} {'diff_attr': 0.11343283582089553, 'same_attr': 0.0}\n",
      "{'diff_attr': 0.12716763005780346, 'same_attr': 0.04981132075471698} {'diff_attr': 0.1152, 'same_attr': 0.07142857142857142}\n",
      "{'diff_attr': 0.14256127027959958, 'same_attr': 0.03466114847387481} {'diff_attr': 0.11890243902439024, 'same_attr': 0.0}\n",
      "{'diff_attr': 0.12544674767691208, 'same_attr': 0.057409224730127585} {'diff_attr': 0.11203522504892366, 'same_attr': 0.1724137931034483}\n",
      "{'diff_attr': 0.1302549965541006, 'same_attr': 0.04096638655462184} {'diff_attr': 0.10479041916167664, 'same_attr': 0.0}\n",
      "{'diff_attr': 0.13738019169329074, 'same_attr': 0.043740573152337855} {'diff_attr': 0.1111111111111111, 'same_attr': 0.1}\n",
      "{'diff_attr': 0.1396534148827727, 'same_attr': 0.033386327503974564} {'diff_attr': 0.1043613707165109, 'same_attr': 0.08333333333333333}\n",
      "{'diff_attr': 0.12965641952983725, 'same_attr': 0.050754815200416456} {'diff_attr': 0.10662358642972536, 'same_attr': 0.0}\n",
      "{'diff_attr': 0.12189859762675297, 'same_attr': 0.036390101892285295} {'diff_attr': 0.10042553191489362, 'same_attr': 0.0}\n",
      "{'diff_attr': 0.13541666666666666, 'same_attr': 0.04361370716510903} {'diff_attr': 0.1100811123986095, 'same_attr': 0.058823529411764705}\n",
      "{'diff_attr': 0.13451957295373665, 'same_attr': 0.04468718967229394} {'diff_attr': 0.1187888198757764, 'same_attr': 0.11538461538461539}\n",
      "{'diff_attr': 0.1395596590909091, 'same_attr': 0.043197616683217484} {'diff_attr': 0.11535401750198886, 'same_attr': 0.13043478260869565}\n",
      "{'diff_attr': 0.12714955706096925, 'same_attr': 0.05930318754633061} {'diff_attr': 0.10458991723100075, 'same_attr': 0.05263157894736842}\n",
      "{'diff_attr': 0.12155260469867211, 'same_attr': 0.060955518945634266} {'diff_attr': 0.10207214121258634, 'same_attr': 0.14285714285714285}\n",
      "{'diff_attr': 0.12598013591217982, 'same_attr': 0.050489826676714394} {'diff_attr': 0.10392609699769054, 'same_attr': 0.15789473684210525}\n",
      "{'diff_attr': 0.12633832976445397, 'same_attr': 0.0379746835443038} {'diff_attr': 0.11392405063291139, 'same_attr': 0.047619047619047616}\n",
      "{'diff_attr': 0.13343480466768137, 'same_attr': 0.06342991386061081} {'diff_attr': 0.11324944485566248, 'same_attr': 0.17647058823529413}\n",
      "{'diff_attr': 0.13090128755364808, 'same_attr': 0.054878048780487805} {'diff_attr': 0.11700468018720749, 'same_attr': 0.0}\n",
      "{'diff_attr': 0.12704269899841855, 'same_attr': 0.057383320581484314} {'diff_attr': 0.10961466517022073, 'same_attr': 0.05454545454545454}\n",
      "{'diff_attr': 0.12607758620689655, 'same_attr': 0.03687315634218289} {'diff_attr': 0.10128617363344052, 'same_attr': 0.0}\n",
      "{'diff_attr': 0.12424292028155182, 'same_attr': 0.05958041958041959} {'diff_attr': 0.11031113396760091, 'same_attr': 0.169811320754717}\n",
      "{'diff_attr': 0.12240663900414937, 'same_attr': 0.07540983606557378} {'diff_attr': 0.11507936507936507, 'same_attr': 0.2916666666666667}\n",
      "{'diff_attr': 0.13463514902363824, 'same_attr': 0.046849757673667204} {'diff_attr': 0.1152228763666947, 'same_attr': 0.058823529411764705}\n",
      "{'diff_attr': 0.12636165577342048, 'same_attr': 0.061046511627906974} {'diff_attr': 0.11307692307692307, 'same_attr': 0.1}\n",
      "{'diff_attr': 0.13165829145728644, 'same_attr': 0.041050903119868636} {'diff_attr': 0.10703363914373089, 'same_attr': 0.0625}\n",
      "{'diff_attr': 0.11932418162618796, 'same_attr': 0.05826771653543307} {'diff_attr': 0.10297131147540985, 'same_attr': 0.21428571428571427}\n",
      "{'diff_attr': 0.1170534813319879, 'same_attr': 0.061389337641357025} {'diff_attr': 0.10185185185185185, 'same_attr': 0.0}\n",
      "{'diff_attr': 0.11444444444444445, 'same_attr': 0.05674846625766871} {'diff_attr': 0.09779179810725552, 'same_attr': 0.0}\n",
      "{'diff_attr': 0.1325556733828208, 'same_attr': 0.04122137404580153} {'diff_attr': 0.11311861743912019, 'same_attr': 0.0}\n",
      "{'diff_attr': 0.11653543307086614, 'same_attr': 0.05803921568627451} {'diff_attr': 0.10706903679206284, 'same_attr': 0.15151515151515152}\n",
      "{'diff_attr': 0.1351636747624076, 'same_attr': 0.05224963715529753} {'diff_attr': 0.11061285500747384, 'same_attr': 0.07692307692307693}\n",
      "{'diff_attr': 0.1195945945945946, 'same_attr': 0.05084745762711864} {'diff_attr': 0.10276829730754646, 'same_attr': 0.15254237288135594}\n",
      "{'diff_attr': 0.1127348643006263, 'same_attr': 0.06430868167202572} {'diff_attr': 0.10258481421647819, 'same_attr': 0.14705882352941177}\n",
      "{'diff_attr': 0.13832695462001093, 'same_attr': 0.046689895470383276} {'diff_attr': 0.10888030888030888, 'same_attr': 0.14285714285714285}\n",
      "{'diff_attr': 0.1148036253776435, 'same_attr': 0.059900166389351084} {'diff_attr': 0.09932279909706546, 'same_attr': 0.08695652173913043}\n",
      "{'diff_attr': 0.1240199572344975, 'same_attr': 0.051153460381143434} {'diff_attr': 0.1024542267238021, 'same_attr': 0.030303030303030304}\n",
      "{'diff_attr': 0.11437565582371459, 'same_attr': 0.05580693815987934} {'diff_attr': 0.09733124018838304, 'same_attr': 0.125}\n",
      "{'diff_attr': 0.14026576671588273, 'same_attr': 0.042870752619879327} {'diff_attr': 0.11187019641332195, 'same_attr': 0.07692307692307693}\n",
      "{'diff_attr': 0.13305613305613306, 'same_attr': 0.051118210862619806} {'diff_attr': 0.10294117647058823, 'same_attr': 0.16666666666666666}\n",
      "{'diff_attr': 0.1279317697228145, 'same_attr': 0.04398826979472141} {'diff_attr': 0.09375, 'same_attr': 0.09090909090909091}\n",
      "{'diff_attr': 0.130879345603272, 'same_attr': 0.050955414012738856} {'diff_attr': 0.10711610486891386, 'same_attr': 0.2}\n",
      "{'diff_attr': 0.12668559261887863, 'same_attr': 0.05249999999999999} {'diff_attr': 0.10513833992094862, 'same_attr': 0.12}\n",
      "{'diff_attr': 0.13333333333333333, 'same_attr': 0.043209876543209874} {'diff_attr': 0.11204091120409113, 'same_attr': 0.047619047619047616}\n",
      "{'diff_attr': 0.1296359305886356, 'same_attr': 0.04615384615384615} {'diff_attr': 0.10901639344262296, 'same_attr': 0.16666666666666666}\n",
      "{'diff_attr': 0.1261166579085654, 'same_attr': 0.04859529233105543} {'diff_attr': 0.10898965791567224, 'same_attr': 0.05263157894736842}\n",
      "{'diff_attr': 0.12931955824723906, 'same_attr': 0.06611993849308048} {'diff_attr': 0.12243221035332785, 'same_attr': 0.14285714285714285}\n",
      "{'diff_attr': 0.13123092573753814, 'same_attr': 0.0528} {'diff_attr': 0.10785824345146379, 'same_attr': 0.0}\n",
      "{'diff_attr': 0.1301518438177874, 'same_attr': 0.05263157894736842} {'diff_attr': 0.09576953023617961, 'same_attr': 0.16981132075471697}\n",
      "{'diff_attr': 0.1323529411764706, 'same_attr': 0.055384615384615386} {'diff_attr': 0.11182108626198083, 'same_attr': 0.14285714285714285}\n",
      "{'diff_attr': 0.12424849699398798, 'same_attr': 0.044585987261146494} {'diff_attr': 0.11275720164609053, 'same_attr': 0.030303030303030304}\n",
      "{'diff_attr': 0.13890808569454044, 'same_attr': 0.046343975283213185} {'diff_attr': 0.11276429130775255, 'same_attr': 0.06451612903225806}\n",
      "{'diff_attr': 0.1317840442114213, 'same_attr': 0.05800936291471606} {'diff_attr': 0.10555336746750689, 'same_attr': 0.12121212121212122}\n",
      "{'diff_attr': 0.12979049565661727, 'same_attr': 0.04549019607843137} {'diff_attr': 0.10411985018726591, 'same_attr': 0.17647058823529413}\n",
      "{'diff_attr': 0.13142554319024907, 'same_attr': 0.04654771140418929} {'diff_attr': 0.09428129829984544, 'same_attr': 0.125}\n",
      "{'diff_attr': 0.13493723849372385, 'same_attr': 0.053353658536585365} {'diff_attr': 0.1155893536121673, 'same_attr': 0.0}\n",
      "{'diff_attr': 0.07521265482763767, 'same_attr': 0.04907424051770627} {'diff_attr': 0.06896551724137931, 'same_attr': 0.0}\n",
      "{'diff_attr': 0.13215400624349635, 'same_attr': 0.04251968503937008} {'diff_attr': 0.10479285134037368, 'same_attr': 0.04}\n",
      "{'diff_attr': 0.11758793969849246, 'same_attr': 0.060556464811783964} {'diff_attr': 0.11157455683003129, 'same_attr': 0.1}\n"
     ]
    }
   ],
   "source": [
    "data_all_props = defaultdict(list)\n",
    "null_all_props = defaultdict(list)\n",
    "\n",
    "\n",
    "for G in Gs:\n",
    "    G = cf.clean_host_species_names(G)\n",
    "    data_props = cf.edge_proportion_reassortant(G, attr='host_species', exclusions=['Unknown'])\n",
    "    null_props = fg.null_distribution_proportion_reassortant(G, equally=True)\n",
    "    \n",
    "    print(data_props, null_props)\n",
    "    # Append the data to the compilation\n",
    "    for k, v in data_props.items():\n",
    "        data_all_props[k].append(v)\n",
    "        \n",
    "    for k, v in null_props.items():\n",
    "        null_all_props[k].append(v)"
   ]
  },
  {
   "cell_type": "code",
   "execution_count": 167,
   "metadata": {
    "collapsed": false
   },
   "outputs": [],
   "source": [
    "def summarize_prop_reassortant(all_props):\n",
    "    means = dict()\n",
    "    stds = dict()\n",
    "    \n",
    "    for k, v in all_props.items():\n",
    "        means[k] = np.mean(v)\n",
    "        stds[k] = np.std(v)\n",
    "\n",
    "    return means, stds\n",
    "\n",
    "data_prop_mean, data_prop_std = summarize_prop_reassortant(data_all_props)\n",
    "null_prop_mean, null_prop_std = summarize_prop_reassortant(null_all_props)"
   ]
  },
  {
   "cell_type": "code",
   "execution_count": 168,
   "metadata": {
    "collapsed": false
   },
   "outputs": [
    {
     "data": {
      "text/plain": [
       "diff_attr    [0.11370882040382572, 0.11642493139945119, 0.1...\n",
       "same_attr    [0.21739130434782608, 0.09090909090909091, 0.0...\n",
       "dtype: object"
      ]
     },
     "execution_count": 168,
     "metadata": {},
     "output_type": "execute_result"
    }
   ],
   "source": [
    "pd.Series(null_all_props)"
   ]
  },
  {
   "cell_type": "code",
   "execution_count": 169,
   "metadata": {
    "collapsed": false
   },
   "outputs": [
    {
     "data": {
      "text/plain": [
       "<matplotlib.axes._subplots.AxesSubplot at 0x7f30c3f94be0>"
      ]
     },
     "execution_count": 169,
     "metadata": {},
     "output_type": "execute_result"
    },
    {
     "name": "stderr",
     "output_type": "stream",
     "text": [
      "/home/ericmjl/anaconda3/lib/python3.4/site-packages/matplotlib/collections.py:590: FutureWarning: elementwise comparison failed; returning scalar instead, but in the future will perform elementwise comparison\n",
      "  if self._edgecolors == str('face'):\n"
     ]
    },
    {
     "data": {
      "image/png": "[encoded data removed]",
      "text/plain": [
       "<matplotlib.figure.Figure at 0x7f30c2e97588>"
      ]
     },
     "metadata": {},
     "output_type": "display_data"
    }
   ],
   "source": [
    "means = pd.DataFrame()\n",
    "means['data'] = pd.Series(data_prop_mean)\n",
    "means['null'] = pd.Series(null_prop_mean)\n",
    "\n",
    "stds = pd.DataFrame()\n",
    "stds['data'] = pd.Series(data_prop_std)\n",
    "stds['null'] = pd.Series(null_prop_std)\n",
    "\n",
    "means.plot(kind='bar', yerr=stds)"
   ]
  },
  {
   "cell_type": "code",
   "execution_count": null,
   "metadata": {
    "collapsed": true
   },
   "outputs": [],
   "source": []
  }
 ],
 "metadata": {
  "kernelspec": {
   "display_name": "Python 3",
   "language": "python",
   "name": "python3"
  },
  "language_info": {
   "codemirror_mode": {
    "name": "ipython",
    "version": 3
   },
   "file_extension": ".py",
   "mimetype": "text/x-python",
   "name": "python",
   "nbconvert_exporter": "python",
   "pygments_lexer": "ipython3",
   "version": "3.4.3"
  }
 },
 "nbformat": 4,
 "nbformat_minor": 0
}
