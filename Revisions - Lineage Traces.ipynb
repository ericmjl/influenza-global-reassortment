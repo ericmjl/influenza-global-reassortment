{
 "cells": [
  {
   "cell_type": "markdown",
   "metadata": {},
   "source": [
    "# Introduction\n",
    "\n",
    "One of the comments by our manuscript reviewers was on our claim of the 2009 H1N1 and 2013 H7N9 viruses. In order to substantiate our claim of recapitulating their lineages, I will draw their subtypic lineage traces."
   ]
  },
  {
   "cell_type": "code",
   "execution_count": 47,
   "metadata": {
    "collapsed": true
   },
   "outputs": [],
   "source": [
    "import networkx as nx\n",
    "import matplotlib.pyplot as plt\n",
    "import numpy as np\n",
    "import pandas as pd\n",
    "\n",
    "from collections import defaultdict\n",
    "from datetime import datetime\n",
    "from random import randint\n",
    "\n",
    "%matplotlib inline"
   ]
  },
  {
   "cell_type": "code",
   "execution_count": 2,
   "metadata": {
    "collapsed": true
   },
   "outputs": [],
   "source": [
    "G = nx.read_gpickle('20150902_all_ird Final Graph.pkl')"
   ]
  },
  {
   "cell_type": "code",
   "execution_count": 3,
   "metadata": {
    "collapsed": false
   },
   "outputs": [
    {
     "data": {
      "text/plain": [
       "('A/swine/Netherlands/Kootwijkerbroek-364/2012',\n",
       " {'collection_date': Timestamp('2012-10-19 00:00:00'),\n",
       "  'country': 'Netherlands',\n",
       "  'host_species': 'Swine',\n",
       "  'reassortant': False,\n",
       "  'subtype': 'H1N1'})"
      ]
     },
     "execution_count": 3,
     "metadata": {},
     "output_type": "execute_result"
    }
   ],
   "source": [
    "G.nodes(data=True)[0]"
   ]
  },
  {
   "cell_type": "markdown",
   "metadata": {},
   "source": [
    "## 2009 H1N1 lineage trace\n",
    "\n",
    "We will first begin with a lineage trace for the 2009 pH1n1 strains. We will go one degree up, and figure out what subtypes are represented there."
   ]
  },
  {
   "cell_type": "code",
   "execution_count": 50,
   "metadata": {
    "collapsed": false
   },
   "outputs": [
    {
     "data": {
      "text/plain": [
       "6"
      ]
     },
     "execution_count": 50,
     "metadata": {},
     "output_type": "execute_result"
    }
   ],
   "source": [
    "pH1N1s = [n for n, d in G.nodes(data=True) if d['reassortant'] and d['subtype'] == 'H1N1' and d['host_species'] == 'Swine' and d['collection_date'].year == 2009]\n",
    "len(pH1N1s)"
   ]
  },
  {
   "cell_type": "code",
   "execution_count": 41,
   "metadata": {
    "collapsed": false
   },
   "outputs": [
    {
     "data": {
      "text/plain": [
       "['A/swine/Guangdong/1367/2010',\n",
       " 'A/swine/Italy/278299_1/2012',\n",
       " 'A/swine/Scotland/034632/2012',\n",
       " 'A/swine/England/1251/2011',\n",
       " 'A/swine/Hong Kong/3904/2011']"
      ]
     },
     "execution_count": 41,
     "metadata": {},
     "output_type": "execute_result"
    }
   ],
   "source": [
    "pH1N1s[0:5]"
   ]
  },
  {
   "cell_type": "code",
   "execution_count": 40,
   "metadata": {
    "collapsed": false
   },
   "outputs": [
    {
     "data": {
      "text/plain": [
       "['A/Singapore/DMS19/2009',\n",
       " 'A/swine/Hong Kong/NS1179/2007',\n",
       " 'A/swine/Italy/224790-2/2012',\n",
       " 'A/swine/Spain/SF11131/2007',\n",
       " 'A/swine/England/000304/2009']"
      ]
     },
     "execution_count": 40,
     "metadata": {},
     "output_type": "execute_result"
    }
   ],
   "source": [
    "ancestors = defaultdict(list)  # a dictionary of number of degrees up and a list of nodes.\n",
    "\n",
    "for n in pH1N1s:\n",
    "    predecessors = G.predecessors(n)\n",
    "    ancestors[1].extend(predecessors)\n",
    "    \n",
    "ancestors[1][0:5]"
   ]
  },
  {
   "cell_type": "code",
   "execution_count": 39,
   "metadata": {
    "collapsed": false,
    "scrolled": true
   },
   "outputs": [
    {
     "data": {
      "text/plain": [
       "defaultdict(set, {1: {'H1N1', 'H1N2', 'H3N2', 'H9N2'}})"
      ]
     },
     "execution_count": 39,
     "metadata": {},
     "output_type": "execute_result"
    }
   ],
   "source": [
    "ancestors_subtypes = defaultdict(set)\n",
    "\n",
    "for deg, parents in ancestors.items():\n",
    "    for parent in parents:\n",
    "        ancestors_subtypes[deg].add(G.node[parent]['subtype'])\n",
    "    \n",
    "ancestors_subtypes"
   ]
  },
  {
   "cell_type": "markdown",
   "metadata": {},
   "source": [
    "Let's now draw them using `matplotlib`."
   ]
  },
  {
   "cell_type": "code",
   "execution_count": 58,
   "metadata": {
    "collapsed": false
   },
   "outputs": [
    {
     "data": {
      "text/plain": [
       "[None, None, None, None, None, None, None, None]"
      ]
     },
     "execution_count": 58,
     "metadata": {},
     "output_type": "execute_result"
    },
    {
     "data": {
      "image/png": "[encoded data removed]",
      "text/plain": [
       "<matplotlib.figure.Figure at 0x119dfa4e0>"
      ]
     },
     "metadata": {},
     "output_type": "display_data"
    }
   ],
   "source": [
    "xs = [G.node[n]['collection_date'] for n in pH1N1s]\n",
    "ys = [randint(1,100) for n in pH1N1s]\n",
    "\n",
    "fig = plt.figure()\n",
    "ax = fig.add_subplot(111)\n",
    "ax.scatter(xs, ys)\n",
    "labels = ax.get_xticklabels()\n",
    "plt.setp(labels, rotation='vertical')\n"
   ]
  },
  {
   "cell_type": "code",
   "execution_count": null,
   "metadata": {
    "collapsed": true
   },
   "outputs": [],
   "source": []
  }
 ],
 "metadata": {
  "kernelspec": {
   "display_name": "Python 3",
   "language": "python",
   "name": "python3"
  },
  "language_info": {
   "codemirror_mode": {
    "name": "ipython",
    "version": 3
   },
   "file_extension": ".py",
   "mimetype": "text/x-python",
   "name": "python",
   "nbconvert_exporter": "python",
   "pygments_lexer": "ipython3",
   "version": "3.4.4"
  }
 },
 "nbformat": 4,
 "nbformat_minor": 0
}
