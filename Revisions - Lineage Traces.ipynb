{
 "cells": [
  {
   "cell_type": "markdown",
   "metadata": {},
   "source": [
    "# Introduction\n",
    "\n",
    "One of the comments by our manuscript reviewers was on our claim of the 2009 H1N1 and 2013 H7N9 viruses. In order to substantiate our claim of recapitulating their lineages, I will draw their subtypic lineage traces."
   ]
  },
  {
   "cell_type": "code",
   "execution_count": 1,
   "metadata": {
    "collapsed": true
   },
   "outputs": [],
   "source": [
    "import networkx as nx\n",
    "import matplotlib.pyplot as plt\n",
    "import numpy as np\n",
    "import pandas as pd\n",
    "import json\n",
    "\n",
    "from collections import defaultdict\n",
    "from datetime import datetime, date\n",
    "from random import randint\n",
    "from networkx.readwrite.json_graph import node_link_data\n",
    "\n",
    "%matplotlib inline"
   ]
  },
  {
   "cell_type": "code",
   "execution_count": 2,
   "metadata": {
    "collapsed": true
   },
   "outputs": [],
   "source": [
    "G = nx.read_gpickle('20150902_all_ird Final Graph.pkl')"
   ]
  },
  {
   "cell_type": "code",
   "execution_count": 3,
   "metadata": {
    "collapsed": false
   },
   "outputs": [
    {
     "data": {
      "text/plain": [
       "('A/Hue/H511/2007',\n",
       " {'collection_date': Timestamp('2007-11-30 00:00:00'),\n",
       "  'country': 'Viet Nam',\n",
       "  'host_species': 'Human',\n",
       "  'reassortant': False,\n",
       "  'state': 'Hue',\n",
       "  'subtype': 'H3N2'})"
      ]
     },
     "execution_count": 3,
     "metadata": {},
     "output_type": "execute_result"
    }
   ],
   "source": [
    "G.nodes(data=True)[0]"
   ]
  },
  {
   "cell_type": "markdown",
   "metadata": {},
   "source": [
    "## 2009 H1N1 lineage trace\n",
    "\n",
    "We will first begin with a lineage trace for the 2009 pH1n1 strains. We will go one degree up, and figure out what subtypes are represented there."
   ]
  },
  {
   "cell_type": "code",
   "execution_count": 4,
   "metadata": {
    "collapsed": false
   },
   "outputs": [
    {
     "data": {
      "text/plain": [
       "38"
      ]
     },
     "execution_count": 4,
     "metadata": {},
     "output_type": "execute_result"
    }
   ],
   "source": [
    "pH1N1s = [n for n, d in G.nodes(data=True) \\\n",
    "          if d['reassortant'] \\\n",
    "          and d['subtype'] == 'H1N1' \\\n",
    "          and d['collection_date'].year >= 2009 \\\n",
    "          and d['host_species'] in ['Human', 'Swine'] \\\n",
    "          and len(G.predecessors(n)) > 0]\n",
    "len(pH1N1s)"
   ]
  },
  {
   "cell_type": "code",
   "execution_count": 5,
   "metadata": {
    "collapsed": false
   },
   "outputs": [
    {
     "data": {
      "text/plain": [
       "['A/swine/Poland/006801/2013',\n",
       " 'A/swine/Guangdong/1425/2010',\n",
       " 'A/swine/Oklahoma/A01290605/2013',\n",
       " 'A/swine/Thailand/CU-S3350N/2012',\n",
       " 'A/swine/Guangdong/1434/2010']"
      ]
     },
     "execution_count": 5,
     "metadata": {},
     "output_type": "execute_result"
    }
   ],
   "source": [
    "pH1N1s[0:5]"
   ]
  },
  {
   "cell_type": "code",
   "execution_count": 6,
   "metadata": {
    "collapsed": false
   },
   "outputs": [],
   "source": [
    "def get_predecessors(nodes, num_degrees):\n",
    "    \"\"\"\n",
    "    Gets the predecessors of the nodes, up to num_degrees specified.\n",
    "    \"\"\"\n",
    "    assert isinstance(num_degrees, int), \"num_degrees must be an integer.\"\n",
    "    \n",
    "    ancestors = defaultdict(list)  # a dictionary of number of degrees up and a list of nodes.\n",
    "    \n",
    "    degree = 0\n",
    "    \n",
    "    while degree <= num_degrees:\n",
    "        degree += 1\n",
    "        if degree == 1:\n",
    "            for n in nodes:\n",
    "                ancestors[degree].extend(G.predecessors(n))\n",
    "        else:\n",
    "            for n in ancestors[degree - 1]:\n",
    "                ancestors[degree].extend(G.predecessors(n))\n",
    "    \n",
    "    return ancestors\n",
    "    \n",
    "ancestors = get_predecessors(pH1N1s, 3)"
   ]
  },
  {
   "cell_type": "code",
   "execution_count": 7,
   "metadata": {
    "collapsed": false,
    "scrolled": true
   },
   "outputs": [
    {
     "data": {
      "text/plain": [
       "defaultdict(set,\n",
       "            {1: {'H1N1', 'H1N2', 'H3N2', 'H9N2'},\n",
       "             2: {'H1N1', 'H1N2', 'H3N2', 'H9N2'},\n",
       "             3: {'H1N1', 'H1N2', 'H3N2', 'H9N2'},\n",
       "             4: {'H1N1', 'H1N2', 'H3N2', 'H9N2'}})"
      ]
     },
     "execution_count": 7,
     "metadata": {},
     "output_type": "execute_result"
    }
   ],
   "source": [
    "ancestors_subtypes = defaultdict(set)\n",
    "\n",
    "for deg, parents in ancestors.items():\n",
    "    for parent in parents:\n",
    "        ancestors_subtypes[deg].add(G.node[parent]['subtype'])\n",
    "    \n",
    "ancestors_subtypes"
   ]
  },
  {
   "cell_type": "code",
   "execution_count": 8,
   "metadata": {
    "collapsed": false
   },
   "outputs": [],
   "source": [
    "def collate_nodes_of_interest(nodes, ancestors_dict):\n",
    "    \"\"\"\n",
    "    Given a starting list of nodes and a dictionary of its ancestors and their degrees of separation\n",
    "    from the starting list of nodes, return a subgraph comprising of those nodes.\n",
    "    \"\"\"\n",
    "    nodes_of_interest = []\n",
    "    nodes_of_interest.extend(nodes)\n",
    "    for k in ancestors_dict.keys():\n",
    "        nodes_of_interest.extend(ancestors[k])\n",
    "    G_sub = G.subgraph(nodes_of_interest)\n",
    "\n",
    "    return G_sub\n",
    "\n",
    "G_sub = collate_nodes_of_interest(pH1N1s, ancestors,)"
   ]
  },
  {
   "cell_type": "code",
   "execution_count": 9,
   "metadata": {
    "collapsed": true
   },
   "outputs": [],
   "source": [
    "def serialize_and_write_to_disk(graph, handle):\n",
    "    \"\"\"\n",
    "    Correctly serializes the datetime objects in a graph's edges.\n",
    "    \n",
    "    Then, write the graph to disk.\n",
    "    \"\"\"\n",
    "    # Serialize timestamp for JSON compatibility\n",
    "    date_handler = lambda obj: (\n",
    "        obj.isoformat()\n",
    "        if isinstance(obj, datetime)\n",
    "        or isinstance(obj, date)\n",
    "        else None\n",
    "    )\n",
    "\n",
    "    for n, d in graph.nodes(data=True):\n",
    "        graph.node[n]['collection_date'] = date_handler(graph.node[n]['collection_date'])\n",
    "\n",
    "    # Serialize the data to disk as a JSON file\n",
    "    data = node_link_data(graph)\n",
    "    s = json.dumps(data)\n",
    "\n",
    "    with open(handle, 'w+') as f:\n",
    "        f.write(s)"
   ]
  },
  {
   "cell_type": "code",
   "execution_count": 10,
   "metadata": {
    "collapsed": false
   },
   "outputs": [],
   "source": [
    "serialize_and_write_to_disk(G_sub, 'supp_data/viz/H1N1_graph.json')"
   ]
  },
  {
   "cell_type": "markdown",
   "metadata": {},
   "source": [
    "# 2013 H7N9 lineage trace"
   ]
  },
  {
   "cell_type": "code",
   "execution_count": 11,
   "metadata": {
    "collapsed": true
   },
   "outputs": [],
   "source": [
    "h7n9s = [n for n, d in G.nodes(data=True) \\\n",
    "         if d['subtype'] == 'H7N9' \\\n",
    "         and d['host_species'] == 'Human' \\\n",
    "         and d['collection_date'].year == 2013]"
   ]
  },
  {
   "cell_type": "code",
   "execution_count": null,
   "metadata": {
    "collapsed": false
   },
   "outputs": [],
   "source": [
    "ancestors = get_predecessors(h7n9s, 3)\n",
    "G_sub = collate_nodes_of_interest(h7n9s, ancestors,)\n",
    "serialize_and_write_to_disk(G_sub, 'supp_data/viz/H7N9_graph.json')"
   ]
  },
  {
   "cell_type": "code",
   "execution_count": null,
   "metadata": {
    "collapsed": false
   },
   "outputs": [
    {
     "name": "stdout",
     "output_type": "stream",
     "text": [
      "Serving HTTP on 0.0.0.0 port 8002 ...\n",
      "127.0.0.1 - - [25/Feb/2016 13:35:38] \"GET / HTTP/1.1\" 200 -\n"
     ]
    }
   ],
   "source": [
    "# Visualize the data\n",
    "# First, start the HTPP server\n",
    "! python -m http.server 8002\n",
    "# Next, load \"localhost:80000/supp_data/viz/h1n1.html\""
   ]
  },
  {
   "cell_type": "code",
   "execution_count": null,
   "metadata": {
    "collapsed": true
   },
   "outputs": [],
   "source": []
  },
  {
   "cell_type": "code",
   "execution_count": null,
   "metadata": {
    "collapsed": true
   },
   "outputs": [],
   "source": []
  }
 ],
 "metadata": {
  "kernelspec": {
   "display_name": "Python 3",
   "language": "python",
   "name": "python3"
  },
  "language_info": {
   "codemirror_mode": {
    "name": "ipython",
    "version": 3
   },
   "file_extension": ".py",
   "mimetype": "text/x-python",
   "name": "python",
   "nbconvert_exporter": "python",
   "pygments_lexer": "ipython3",
   "version": "3.4.4"
  }
 },
 "nbformat": 4,
 "nbformat_minor": 0
}
