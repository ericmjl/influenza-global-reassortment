{
 "cells": [
  {
   "cell_type": "code",
   "execution_count": 1,
   "metadata": {
    "collapsed": false
   },
   "outputs": [],
   "source": [
    "import networkx as nx\n",
    "import custom_funcs as cf\n",
    "import matplotlib.pyplot as plt\n",
    "import numpy as np\n",
    "import seaborn\n",
    "import figures as fg\n",
    "\n",
    "from collections import Counter\n",
    "\n",
    "%matplotlib inline\n",
    "%load_ext autoreload\n",
    "%autoreload 2\n",
    "\n",
    "seaborn.set_context('paper')\n",
    "seaborn.set_style('white')"
   ]
  },
  {
   "cell_type": "code",
   "execution_count": 2,
   "metadata": {
    "collapsed": false
   },
   "outputs": [],
   "source": [
    "G = nx.read_gpickle('20150902_all_ird Final Graph.pkl')\n",
    "G = cf.impute_reassortant_status(G)\n",
    "G = cf.clean_host_species_names(G)\n",
    "G = cf.impute_weights(G)\n",
    "G = cf.remove_zero_weighted_edges(G)"
   ]
  },
  {
   "cell_type": "code",
   "execution_count": 7,
   "metadata": {
    "collapsed": false
   },
   "outputs": [],
   "source": [
    "# How many human-to-human circulation clusters are found?\n",
    "\n",
    "hh_nodes = fg.same_host_descent(G, 'Human')\n",
    "cc_nodes = fg.same_host_descent(G, 'Chicken')\n",
    "ss_nodes = fg.same_host_descent(G, 'Swine')"
   ]
  },
  {
   "cell_type": "code",
   "execution_count": 10,
   "metadata": {
    "collapsed": false
   },
   "outputs": [],
   "source": [
    "# What are the subtypes of the nodes that are involved in human-human chains?\n",
    "\n",
    "hh_subtypes = fg.subtype_counts(hh_nodes, G, log=True)\n",
    "ss_subtypes = fg.subtype_counts(ss_nodes, G, log=True)\n",
    "cc_subtypes = fg.subtype_counts(cc_nodes, G, log=True)"
   ]
  },
  {
   "cell_type": "code",
   "execution_count": 11,
   "metadata": {
    "collapsed": false
   },
   "outputs": [
    {
     "data": {
      "text/plain": [
       "Counter({'H10N8': 0.6020599913279624,\n",
       "         'H1N1': 3.6866362692622934,\n",
       "         'H1N2': 1.255272505103306,\n",
       "         'H3N2': 3.5613399414589013,\n",
       "         'H5N1': 1.505149978319906,\n",
       "         'H7N9': 1.0})"
      ]
     },
     "execution_count": 11,
     "metadata": {},
     "output_type": "execute_result"
    }
   ],
   "source": [
    "hh_subtypes"
   ]
  },
  {
   "cell_type": "code",
   "execution_count": 12,
   "metadata": {
    "collapsed": true
   },
   "outputs": [],
   "source": [
    "def plot_subtype_counts(subtype_counter, ax, title, color, log=False):\n",
    "    width = 0.8\n",
    "    ax.bar(np.arange(0, len(subtype_counter)), subtype_counter.values(), width=width, color=color)\n",
    "    ax.set_xlim(0, len(subtype_counter))\n",
    "    ax.set_xticks(np.arange(len(subtype_counter)) + width/2)\n",
    "    ax.set_xticklabels([k for k in subtype_counter.keys()], ha='right', rotation=45)\n",
    "    if log:\n",
    "        ylabel = 'log10 num. nodes'\n",
    "    else:\n",
    "        ylabel = 'Num. of nodes'\n",
    "    ax.set_ylabel(ylabel)\n",
    "    ax.set_title(title)"
   ]
  },
  {
   "cell_type": "code",
   "execution_count": 13,
   "metadata": {
    "collapsed": false
   },
   "outputs": [
    {
     "data": {
      "image/png": "[encoded data removed]",
      "text/plain": [
       "<matplotlib.figure.Figure at 0x7f94e93d4d68>"
      ]
     },
     "metadata": {},
     "output_type": "display_data"
    }
   ],
   "source": [
    "fig = plt.figure(figsize=(4, 6))\n",
    "hh_ax = fig.add_subplot(311)\n",
    "plot_subtype_counts(hh_subtypes, ax=hh_ax, title='Human', color='green', log=True)\n",
    "\n",
    "cc_ax = fig.add_subplot(312)\n",
    "plot_subtype_counts(cc_subtypes, ax=cc_ax, title='Chicken', color='blue', log=True)\n",
    "\n",
    "ss_ax = fig.add_subplot(313)\n",
    "plot_subtype_counts(ss_subtypes, ax=ss_ax, title='Swine', color='red', log=True)\n",
    "plt.tight_layout()\n",
    "\n",
    "plt.savefig('figures/Clonal Descent.pdf')"
   ]
  },
  {
   "cell_type": "code",
   "execution_count": 14,
   "metadata": {
    "collapsed": false
   },
   "outputs": [
    {
     "data": {
      "text/plain": [
       "[('H10N8', 0.6020599913279624),\n",
       " ('H7N9', 1.0),\n",
       " ('H1N2', 1.255272505103306),\n",
       " ('H5N1', 1.505149978319906),\n",
       " ('H3N2', 3.5613399414589013),\n",
       " ('H1N1', 3.6866362692622934)]"
      ]
     },
     "execution_count": 14,
     "metadata": {},
     "output_type": "execute_result"
    }
   ],
   "source": [
    "sorted(hh_subtypes.items(), key = lambda x:x[1])"
   ]
  },
  {
   "cell_type": "code",
   "execution_count": null,
   "metadata": {
    "collapsed": true
   },
   "outputs": [],
   "source": []
  }
 ],
 "metadata": {
  "kernelspec": {
   "display_name": "Python 3",
   "language": "python",
   "name": "python3"
  },
  "language_info": {
   "codemirror_mode": {
    "name": "ipython",
    "version": 3
   },
   "file_extension": ".py",
   "mimetype": "text/x-python",
   "name": "python",
   "nbconvert_exporter": "python",
   "pygments_lexer": "ipython3",
   "version": "3.4.3"
  }
 },
 "nbformat": 4,
 "nbformat_minor": 0
}
