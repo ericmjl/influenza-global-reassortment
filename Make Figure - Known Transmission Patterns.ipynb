{
 "cells": [
  {
   "cell_type": "code",
   "execution_count": 22,
   "metadata": {
    "collapsed": false
   },
   "outputs": [
    {
     "name": "stdout",
     "output_type": "stream",
     "text": [
      "The autoreload extension is already loaded. To reload it, use:\n",
      "  %reload_ext autoreload\n"
     ]
    }
   ],
   "source": [
    "import networkx as nx\n",
    "import custom_funcs as cf\n",
    "import matplotlib.pyplot as plt\n",
    "import numpy as np\n",
    "import seaborn\n",
    "\n",
    "from collections import Counter\n",
    "\n",
    "%matplotlib inline\n",
    "%load_ext autoreload\n",
    "%autoreload 2\n",
    "\n",
    "seaborn.set_context('paper')\n",
    "seaborn.set_style('white')"
   ]
  },
  {
   "cell_type": "code",
   "execution_count": 23,
   "metadata": {
    "collapsed": false
   },
   "outputs": [],
   "source": [
    "G = nx.read_gpickle('20150902_all_ird Final Graph.pkl')\n",
    "G = cf.impute_reassortant_status(G)\n",
    "G = cf.clean_host_species_names(G)\n",
    "G = cf.impute_weights(G)"
   ]
  },
  {
   "cell_type": "code",
   "execution_count": 54,
   "metadata": {
    "collapsed": true
   },
   "outputs": [],
   "source": [
    "# How many human-to-human circulation clusters are found?\n",
    "\n",
    "def same_host_descent(G, host_species):\n",
    "    \"\"\"\n",
    "    Returns the nodes that are involved in same-host transmission.\n",
    "    \"\"\"\n",
    "    nodes = set()  # nodes that are involved in human-human transmission.\n",
    "    for sc, sk, d in G.edges(data=True):\n",
    "        sc_host = G.node[sc]['host_species']\n",
    "        sk_host = G.node[sk]['host_species']\n",
    "        \n",
    "        sc_subtype = G.node[sc]['subtype']\n",
    "        sk_subtype = G.node[sk]['subtype']\n",
    "        \n",
    "        subtype_exclusions = ['Mixed', 'mixed']\n",
    "        \n",
    "        not_mixed = (sc_subtype not in subtype_exclusions) and (sk_subtype not in subtype_exclusions)\n",
    "        is_clonal = d['edge_type'] == 'full_complement'\n",
    "        \n",
    "        if sc_host == host_species and sk_host == host_species and not_mixed and is_clonal:\n",
    "            nodes.add(sc)\n",
    "            nodes.add(sk)\n",
    "\n",
    "    return nodes"
   ]
  },
  {
   "cell_type": "code",
   "execution_count": null,
   "metadata": {
    "collapsed": false
   },
   "outputs": [],
   "source": []
  },
  {
   "cell_type": "code",
   "execution_count": 55,
   "metadata": {
    "collapsed": false
   },
   "outputs": [],
   "source": [
    "hh_nodes = same_host_descent(G, 'Human')\n",
    "cc_nodes = same_host_descent(G, 'Chicken')\n",
    "ss_nodes = same_host_descent(G, 'Swine')"
   ]
  },
  {
   "cell_type": "code",
   "execution_count": 56,
   "metadata": {
    "collapsed": true
   },
   "outputs": [],
   "source": [
    "# What are the subtypes of the nodes that are involved in human-human chains?\n",
    "\n",
    "def subtype_counts(node_set, log=False):\n",
    "\n",
    "    subtypes = Counter()\n",
    "    for n in node_set:\n",
    "        subtype = G.node[n]['subtype']\n",
    "        subtypes[subtype] += 1\n",
    "\n",
    "    if log:\n",
    "        for k, v in subtypes.items():\n",
    "            subtypes[k] = np.log10(v)\n",
    "            \n",
    "    return subtypes"
   ]
  },
  {
   "cell_type": "code",
   "execution_count": 57,
   "metadata": {
    "collapsed": false
   },
   "outputs": [],
   "source": [
    "hh_subtypes = subtype_counts(hh_nodes, log=True)\n",
    "ss_subtypes = subtype_counts(ss_nodes, log=True)\n",
    "cc_subtypes = subtype_counts(cc_nodes, log=True)"
   ]
  },
  {
   "cell_type": "code",
   "execution_count": 58,
   "metadata": {
    "collapsed": false
   },
   "outputs": [
    {
     "data": {
      "text/plain": [
       "Counter({'H10N8': 0.47712125471966244,\n",
       "         'H1N1': 3.5527898501927822,\n",
       "         'H1N2': 1.146128035678238,\n",
       "         'H3N2': 3.433449793761596,\n",
       "         'H5N1': 1.3617278360175928,\n",
       "         'H7N9': 1.0413926851582249})"
      ]
     },
     "execution_count": 58,
     "metadata": {},
     "output_type": "execute_result"
    }
   ],
   "source": [
    "hh_subtypes"
   ]
  },
  {
   "cell_type": "code",
   "execution_count": 59,
   "metadata": {
    "collapsed": true
   },
   "outputs": [],
   "source": [
    "def plot_subtype_counts(subtype_counter, ax, title, color, log=False):\n",
    "    width = 0.8\n",
    "    ax.bar(np.arange(0, len(subtype_counter)), subtype_counter.values(), width=width, color=color)\n",
    "    ax.set_xlim(0, len(subtype_counter))\n",
    "    ax.set_xticks(np.arange(len(subtype_counter)) + width/2)\n",
    "    ax.set_xticklabels([k for k in subtype_counter.keys()], ha='right', rotation=45)\n",
    "    if log:\n",
    "        ylabel = 'log10 num. nodes'\n",
    "    else:\n",
    "        ylabel = 'Num. of nodes'\n",
    "    ax.set_ylabel(ylabel)\n",
    "    ax.set_title(title)"
   ]
  },
  {
   "cell_type": "code",
   "execution_count": 60,
   "metadata": {
    "collapsed": false
   },
   "outputs": [
    {
     "data": {
      "image/png": "[encoded data removed]",
      "text/plain": [
       "<matplotlib.figure.Figure at 0x7fcf440cbf60>"
      ]
     },
     "metadata": {},
     "output_type": "display_data"
    }
   ],
   "source": [
    "fig = plt.figure(figsize=(4, 6))\n",
    "hh_ax = fig.add_subplot(311)\n",
    "plot_subtype_counts(hh_subtypes, ax=hh_ax, title='Human', color='green', log=True)\n",
    "\n",
    "cc_ax = fig.add_subplot(312)\n",
    "plot_subtype_counts(cc_subtypes, ax=cc_ax, title='Chicken', color='blue', log=True)\n",
    "\n",
    "ss_ax = fig.add_subplot(313)\n",
    "plot_subtype_counts(ss_subtypes, ax=ss_ax, title='Swine', color='red', log=True)\n",
    "plt.tight_layout()\n",
    "\n",
    "plt.savefig('figures/Clonal Descent.pdf')"
   ]
  },
  {
   "cell_type": "code",
   "execution_count": 61,
   "metadata": {
    "collapsed": false
   },
   "outputs": [
    {
     "data": {
      "text/plain": [
       "[('H10N8', 0.47712125471966244),\n",
       " ('H7N9', 1.0413926851582249),\n",
       " ('H1N2', 1.146128035678238),\n",
       " ('H5N1', 1.3617278360175928),\n",
       " ('H3N2', 3.433449793761596),\n",
       " ('H1N1', 3.5527898501927822)]"
      ]
     },
     "execution_count": 61,
     "metadata": {},
     "output_type": "execute_result"
    }
   ],
   "source": [
    "sorted(hh_subtypes.items(), key = lambda x:x[1])"
   ]
  },
  {
   "cell_type": "code",
   "execution_count": null,
   "metadata": {
    "collapsed": true
   },
   "outputs": [],
   "source": []
  }
 ],
 "metadata": {
  "kernelspec": {
   "display_name": "Python 3",
   "language": "python",
   "name": "python3"
  },
  "language_info": {
   "codemirror_mode": {
    "name": "ipython",
    "version": 3
   },
   "file_extension": ".py",
   "mimetype": "text/x-python",
   "name": "python",
   "nbconvert_exporter": "python",
   "pygments_lexer": "ipython3",
   "version": "3.4.3"
  }
 },
 "nbformat": 4,
 "nbformat_minor": 0
}
