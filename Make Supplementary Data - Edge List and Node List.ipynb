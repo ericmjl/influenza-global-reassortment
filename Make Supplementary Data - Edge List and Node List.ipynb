{
 "cells": [
  {
   "cell_type": "code",
   "execution_count": 1,
   "metadata": {
    "collapsed": true
   },
   "outputs": [],
   "source": [
    "import networkx as nx\n",
    "import custom_funcs as cf\n",
    "import pandas as pd\n",
    "\n",
    "%load_ext autoreload\n",
    "%autoreload 2"
   ]
  },
  {
   "cell_type": "code",
   "execution_count": 2,
   "metadata": {
    "collapsed": false
   },
   "outputs": [],
   "source": [
    "G = nx.read_gpickle('20150902_all_ird Final Graph.pkl')\n",
    "G = cf.impute_reassortant_status(G)\n",
    "G = cf.clean_host_species_names(G)\n",
    "G = cf.impute_weights(G)\n",
    "G = cf.remove_zero_weighted_edges(G)"
   ]
  },
  {
   "cell_type": "code",
   "execution_count": 3,
   "metadata": {
    "collapsed": false
   },
   "outputs": [
    {
     "data": {
      "text/plain": [
       "25683"
      ]
     },
     "execution_count": 3,
     "metadata": {},
     "output_type": "execute_result"
    }
   ],
   "source": [
    "len(G.edges())"
   ]
  },
  {
   "cell_type": "code",
   "execution_count": 4,
   "metadata": {
    "collapsed": false
   },
   "outputs": [
    {
     "data": {
      "text/plain": [
       "('A/chicken/Jiangxi/13264/2014',\n",
       " 'A/chicken/Jiangxi/14535/2014',\n",
       " {'edge_type': 'reassortant',\n",
       "  'pwi': 7.9977480000000005,\n",
       "  'segments': {6: 1.0},\n",
       "  'weight': 0.021739130434782608,\n",
       "  'weight_ct': 1})"
      ]
     },
     "execution_count": 4,
     "metadata": {},
     "output_type": "execute_result"
    }
   ],
   "source": [
    "G.edges(data=True)[0]"
   ]
  },
  {
   "cell_type": "code",
   "execution_count": 5,
   "metadata": {
    "collapsed": true
   },
   "outputs": [],
   "source": [
    "# This block of code will dump the data.\n",
    "edgelist = []\n",
    "for sc, sk, d in G.edges(data=True):\n",
    "    edge_data = dict()\n",
    "    edge_data['source'] = sc\n",
    "    edge_data['sink'] = sk\n",
    "    for k, v in d.items():\n",
    "        if isinstance(v, dict):\n",
    "            for k2, v2 in v.items():\n",
    "                edge_data['{0}_{1}'.format(k, k2)] = v2\n",
    "        else:\n",
    "            edge_data[k] = v\n",
    "    edgelist.append(edge_data)"
   ]
  },
  {
   "cell_type": "code",
   "execution_count": 7,
   "metadata": {
    "collapsed": false
   },
   "outputs": [],
   "source": [
    "edgelist_df = pd.DataFrame(edgelist)\n",
    "edgelist_df.to_csv('supp_data/edgelist.csv')"
   ]
  },
  {
   "cell_type": "code",
   "execution_count": null,
   "metadata": {
    "collapsed": true
   },
   "outputs": [],
   "source": []
  }
 ],
 "metadata": {
  "kernelspec": {
   "display_name": "Python 3",
   "language": "python",
   "name": "python3"
  },
  "language_info": {
   "codemirror_mode": {
    "name": "ipython",
    "version": 3
   },
   "file_extension": ".py",
   "mimetype": "text/x-python",
   "name": "python",
   "nbconvert_exporter": "python",
   "pygments_lexer": "ipython3",
   "version": "3.4.3"
  }
 },
 "nbformat": 4,
 "nbformat_minor": 0
}
